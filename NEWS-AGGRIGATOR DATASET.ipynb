{
 "cells": [
  {
   "cell_type": "code",
   "execution_count": 1,
   "metadata": {},
   "outputs": [
    {
     "name": "stderr",
     "output_type": "stream",
     "text": [
      "[nltk_data] Downloading package stopwords to C:\\Users\\Mr.\n",
      "[nltk_data]     Jarvis\\AppData\\Roaming\\nltk_data...\n",
      "[nltk_data]   Package stopwords is already up-to-date!\n",
      "[nltk_data] Downloading package wordnet to C:\\Users\\Mr.\n",
      "[nltk_data]     Jarvis\\AppData\\Roaming\\nltk_data...\n",
      "[nltk_data]   Package wordnet is already up-to-date!\n"
     ]
    },
    {
     "name": "stdout",
     "output_type": "stream",
     "text": [
      "Requirement already satisfied: wordcloud in c:\\users\\mr. jarvis\\anaconda3\\lib\\site-packages (1.7.0)\n",
      "Requirement already satisfied: numpy>=1.6.1 in c:\\users\\mr. jarvis\\anaconda3\\lib\\site-packages (from wordcloud) (1.16.5)\n",
      "Requirement already satisfied: matplotlib in c:\\users\\mr. jarvis\\anaconda3\\lib\\site-packages (from wordcloud) (3.1.1)\n",
      "Requirement already satisfied: pillow in c:\\users\\mr. jarvis\\anaconda3\\lib\\site-packages (from wordcloud) (6.2.0)\n",
      "Requirement already satisfied: cycler>=0.10 in c:\\users\\mr. jarvis\\anaconda3\\lib\\site-packages (from matplotlib->wordcloud) (0.10.0)\n",
      "Requirement already satisfied: kiwisolver>=1.0.1 in c:\\users\\mr. jarvis\\anaconda3\\lib\\site-packages (from matplotlib->wordcloud) (1.1.0)\n",
      "Requirement already satisfied: pyparsing!=2.0.4,!=2.1.2,!=2.1.6,>=2.0.1 in c:\\users\\mr. jarvis\\anaconda3\\lib\\site-packages (from matplotlib->wordcloud) (2.4.2)\n",
      "Requirement already satisfied: python-dateutil>=2.1 in c:\\users\\mr. jarvis\\anaconda3\\lib\\site-packages (from matplotlib->wordcloud) (2.8.0)\n",
      "Requirement already satisfied: six in c:\\users\\mr. jarvis\\anaconda3\\lib\\site-packages (from cycler>=0.10->matplotlib->wordcloud) (1.12.0)\n",
      "Requirement already satisfied: setuptools in c:\\users\\mr. jarvis\\anaconda3\\lib\\site-packages (from kiwisolver>=1.0.1->matplotlib->wordcloud) (41.4.0)\n"
     ]
    }
   ],
   "source": [
    "import numpy as np \n",
    "import pandas as pd \n",
    "import seaborn as sns\n",
    "import matplotlib.pyplot as plt\n",
    "import sklearn\n",
    "import string\n",
    "import nltk\n",
    "\n",
    "nltk.download('stopwords')\n",
    "nltk.download('wordnet')\n",
    "\n",
    "from nltk.corpus import stopwords\n",
    "from nltk.stem.porter import PorterStemmer\n",
    "\n",
    "from nltk.stem import WordNetLemmatizer\n",
    "from nltk.corpus import wordnet\n",
    "\n",
    "import re\n",
    "!pip install wordcloud\n",
    "from wordcloud import WordCloud, STOPWORDS \n",
    "\n",
    "import time\n",
    "\n",
    "from sklearn.feature_extraction.text import CountVectorizer\n",
    "from sklearn.feature_extraction.text import TfidfVectorizer\n",
    "\n",
    "from sklearn.naive_bayes import MultinomialNB\n",
    "from sklearn.linear_model import LogisticRegression\n",
    "from sklearn.tree import DecisionTreeClassifier\n",
    "\n",
    "\n",
    "from sklearn.preprocessing import LabelEncoder\n",
    "from sklearn.model_selection import train_test_split\n",
    "from sklearn.metrics import confusion_matrix\n",
    "from sklearn.metrics import accuracy_score, recall_score, precision_score, f1_score\n",
    "from sklearn.metrics import classification_report"
   ]
  },
  {
   "cell_type": "code",
   "execution_count": 2,
   "metadata": {},
   "outputs": [],
   "source": [
    "file = r\"C:\\Users\\Mr. Jarvis\\Desktop\\PROJECT\\PRINT FOLDER\\uci-news-aggregator.csv\""
   ]
  },
  {
   "cell_type": "code",
   "execution_count": 3,
   "metadata": {},
   "outputs": [],
   "source": [
    "news = pd.read_csv(file)"
   ]
  },
  {
   "cell_type": "code",
   "execution_count": 4,
   "metadata": {},
   "outputs": [
    {
     "data": {
      "text/html": [
       "<div>\n",
       "<style scoped>\n",
       "    .dataframe tbody tr th:only-of-type {\n",
       "        vertical-align: middle;\n",
       "    }\n",
       "\n",
       "    .dataframe tbody tr th {\n",
       "        vertical-align: top;\n",
       "    }\n",
       "\n",
       "    .dataframe thead th {\n",
       "        text-align: right;\n",
       "    }\n",
       "</style>\n",
       "<table border=\"1\" class=\"dataframe\">\n",
       "  <thead>\n",
       "    <tr style=\"text-align: right;\">\n",
       "      <th></th>\n",
       "      <th>ID</th>\n",
       "      <th>TITLE</th>\n",
       "      <th>URL</th>\n",
       "      <th>PUBLISHER</th>\n",
       "      <th>CATEGORY</th>\n",
       "      <th>STORY</th>\n",
       "      <th>HOSTNAME</th>\n",
       "      <th>TIMESTAMP</th>\n",
       "    </tr>\n",
       "  </thead>\n",
       "  <tbody>\n",
       "    <tr>\n",
       "      <td>0</td>\n",
       "      <td>1</td>\n",
       "      <td>Fed official says weak data caused by weather,...</td>\n",
       "      <td>http://www.latimes.com/business/money/la-fi-mo...</td>\n",
       "      <td>Los Angeles Times</td>\n",
       "      <td>b</td>\n",
       "      <td>ddUyU0VZz0BRneMioxUPQVP6sIxvM</td>\n",
       "      <td>www.latimes.com</td>\n",
       "      <td>1394470370698</td>\n",
       "    </tr>\n",
       "    <tr>\n",
       "      <td>1</td>\n",
       "      <td>2</td>\n",
       "      <td>Fed's Charles Plosser sees high bar for change...</td>\n",
       "      <td>http://www.livemint.com/Politics/H2EvwJSK2VE6O...</td>\n",
       "      <td>Livemint</td>\n",
       "      <td>b</td>\n",
       "      <td>ddUyU0VZz0BRneMioxUPQVP6sIxvM</td>\n",
       "      <td>www.livemint.com</td>\n",
       "      <td>1394470371207</td>\n",
       "    </tr>\n",
       "    <tr>\n",
       "      <td>2</td>\n",
       "      <td>3</td>\n",
       "      <td>US open: Stocks fall after Fed official hints ...</td>\n",
       "      <td>http://www.ifamagazine.com/news/us-open-stocks...</td>\n",
       "      <td>IFA Magazine</td>\n",
       "      <td>b</td>\n",
       "      <td>ddUyU0VZz0BRneMioxUPQVP6sIxvM</td>\n",
       "      <td>www.ifamagazine.com</td>\n",
       "      <td>1394470371550</td>\n",
       "    </tr>\n",
       "    <tr>\n",
       "      <td>3</td>\n",
       "      <td>4</td>\n",
       "      <td>Fed risks falling 'behind the curve', Charles ...</td>\n",
       "      <td>http://www.ifamagazine.com/news/fed-risks-fall...</td>\n",
       "      <td>IFA Magazine</td>\n",
       "      <td>b</td>\n",
       "      <td>ddUyU0VZz0BRneMioxUPQVP6sIxvM</td>\n",
       "      <td>www.ifamagazine.com</td>\n",
       "      <td>1394470371793</td>\n",
       "    </tr>\n",
       "    <tr>\n",
       "      <td>4</td>\n",
       "      <td>5</td>\n",
       "      <td>Fed's Plosser: Nasty Weather Has Curbed Job Gr...</td>\n",
       "      <td>http://www.moneynews.com/Economy/federal-reser...</td>\n",
       "      <td>Moneynews</td>\n",
       "      <td>b</td>\n",
       "      <td>ddUyU0VZz0BRneMioxUPQVP6sIxvM</td>\n",
       "      <td>www.moneynews.com</td>\n",
       "      <td>1394470372027</td>\n",
       "    </tr>\n",
       "    <tr>\n",
       "      <td>...</td>\n",
       "      <td>...</td>\n",
       "      <td>...</td>\n",
       "      <td>...</td>\n",
       "      <td>...</td>\n",
       "      <td>...</td>\n",
       "      <td>...</td>\n",
       "      <td>...</td>\n",
       "      <td>...</td>\n",
       "    </tr>\n",
       "    <tr>\n",
       "      <td>422414</td>\n",
       "      <td>422933</td>\n",
       "      <td>Surgeons to remove 4-year-old's rib to rebuild...</td>\n",
       "      <td>http://www.cbs3springfield.com/story/26378648/...</td>\n",
       "      <td>WSHM-TV</td>\n",
       "      <td>m</td>\n",
       "      <td>dpcLMoJD69UYMXMxaoEFnWql9YjQM</td>\n",
       "      <td>www.cbs3springfield.com</td>\n",
       "      <td>1409229190251</td>\n",
       "    </tr>\n",
       "    <tr>\n",
       "      <td>422415</td>\n",
       "      <td>422934</td>\n",
       "      <td>Boy to have surgery on esophagus after battery...</td>\n",
       "      <td>http://www.wlwt.com/news/boy-to-have-surgery-o...</td>\n",
       "      <td>WLWT Cincinnati</td>\n",
       "      <td>m</td>\n",
       "      <td>dpcLMoJD69UYMXMxaoEFnWql9YjQM</td>\n",
       "      <td>www.wlwt.com</td>\n",
       "      <td>1409229190508</td>\n",
       "    </tr>\n",
       "    <tr>\n",
       "      <td>422416</td>\n",
       "      <td>422935</td>\n",
       "      <td>Child who swallowed battery to have reconstruc...</td>\n",
       "      <td>http://www.newsnet5.com/news/local-news/child-...</td>\n",
       "      <td>NewsNet5.com</td>\n",
       "      <td>m</td>\n",
       "      <td>dpcLMoJD69UYMXMxaoEFnWql9YjQM</td>\n",
       "      <td>www.newsnet5.com</td>\n",
       "      <td>1409229190771</td>\n",
       "    </tr>\n",
       "    <tr>\n",
       "      <td>422417</td>\n",
       "      <td>422936</td>\n",
       "      <td>Phoenix boy undergoes surgery to repair throat...</td>\n",
       "      <td>http://www.wfsb.com/story/26368078/phoenix-boy...</td>\n",
       "      <td>WFSB</td>\n",
       "      <td>m</td>\n",
       "      <td>dpcLMoJD69UYMXMxaoEFnWql9YjQM</td>\n",
       "      <td>www.wfsb.com</td>\n",
       "      <td>1409229191071</td>\n",
       "    </tr>\n",
       "    <tr>\n",
       "      <td>422418</td>\n",
       "      <td>422937</td>\n",
       "      <td>Phoenix boy undergoes surgery to repair throat...</td>\n",
       "      <td>http://www.cbs3springfield.com/story/26368078/...</td>\n",
       "      <td>WSHM-TV</td>\n",
       "      <td>m</td>\n",
       "      <td>dpcLMoJD69UYMXMxaoEFnWql9YjQM</td>\n",
       "      <td>www.cbs3springfield.com</td>\n",
       "      <td>1409229191565</td>\n",
       "    </tr>\n",
       "  </tbody>\n",
       "</table>\n",
       "<p>422419 rows × 8 columns</p>\n",
       "</div>"
      ],
      "text/plain": [
       "            ID                                              TITLE  \\\n",
       "0            1  Fed official says weak data caused by weather,...   \n",
       "1            2  Fed's Charles Plosser sees high bar for change...   \n",
       "2            3  US open: Stocks fall after Fed official hints ...   \n",
       "3            4  Fed risks falling 'behind the curve', Charles ...   \n",
       "4            5  Fed's Plosser: Nasty Weather Has Curbed Job Gr...   \n",
       "...        ...                                                ...   \n",
       "422414  422933  Surgeons to remove 4-year-old's rib to rebuild...   \n",
       "422415  422934  Boy to have surgery on esophagus after battery...   \n",
       "422416  422935  Child who swallowed battery to have reconstruc...   \n",
       "422417  422936  Phoenix boy undergoes surgery to repair throat...   \n",
       "422418  422937  Phoenix boy undergoes surgery to repair throat...   \n",
       "\n",
       "                                                      URL          PUBLISHER  \\\n",
       "0       http://www.latimes.com/business/money/la-fi-mo...  Los Angeles Times   \n",
       "1       http://www.livemint.com/Politics/H2EvwJSK2VE6O...           Livemint   \n",
       "2       http://www.ifamagazine.com/news/us-open-stocks...       IFA Magazine   \n",
       "3       http://www.ifamagazine.com/news/fed-risks-fall...       IFA Magazine   \n",
       "4       http://www.moneynews.com/Economy/federal-reser...          Moneynews   \n",
       "...                                                   ...                ...   \n",
       "422414  http://www.cbs3springfield.com/story/26378648/...            WSHM-TV   \n",
       "422415  http://www.wlwt.com/news/boy-to-have-surgery-o...    WLWT Cincinnati   \n",
       "422416  http://www.newsnet5.com/news/local-news/child-...       NewsNet5.com   \n",
       "422417  http://www.wfsb.com/story/26368078/phoenix-boy...               WFSB   \n",
       "422418  http://www.cbs3springfield.com/story/26368078/...            WSHM-TV   \n",
       "\n",
       "       CATEGORY                          STORY                 HOSTNAME  \\\n",
       "0             b  ddUyU0VZz0BRneMioxUPQVP6sIxvM          www.latimes.com   \n",
       "1             b  ddUyU0VZz0BRneMioxUPQVP6sIxvM         www.livemint.com   \n",
       "2             b  ddUyU0VZz0BRneMioxUPQVP6sIxvM      www.ifamagazine.com   \n",
       "3             b  ddUyU0VZz0BRneMioxUPQVP6sIxvM      www.ifamagazine.com   \n",
       "4             b  ddUyU0VZz0BRneMioxUPQVP6sIxvM        www.moneynews.com   \n",
       "...         ...                            ...                      ...   \n",
       "422414        m  dpcLMoJD69UYMXMxaoEFnWql9YjQM  www.cbs3springfield.com   \n",
       "422415        m  dpcLMoJD69UYMXMxaoEFnWql9YjQM             www.wlwt.com   \n",
       "422416        m  dpcLMoJD69UYMXMxaoEFnWql9YjQM         www.newsnet5.com   \n",
       "422417        m  dpcLMoJD69UYMXMxaoEFnWql9YjQM             www.wfsb.com   \n",
       "422418        m  dpcLMoJD69UYMXMxaoEFnWql9YjQM  www.cbs3springfield.com   \n",
       "\n",
       "            TIMESTAMP  \n",
       "0       1394470370698  \n",
       "1       1394470371207  \n",
       "2       1394470371550  \n",
       "3       1394470371793  \n",
       "4       1394470372027  \n",
       "...               ...  \n",
       "422414  1409229190251  \n",
       "422415  1409229190508  \n",
       "422416  1409229190771  \n",
       "422417  1409229191071  \n",
       "422418  1409229191565  \n",
       "\n",
       "[422419 rows x 8 columns]"
      ]
     },
     "execution_count": 4,
     "metadata": {},
     "output_type": "execute_result"
    }
   ],
   "source": [
    "news"
   ]
  },
  {
   "cell_type": "code",
   "execution_count": 5,
   "metadata": {},
   "outputs": [
    {
     "data": {
      "text/html": [
       "<div>\n",
       "<style scoped>\n",
       "    .dataframe tbody tr th:only-of-type {\n",
       "        vertical-align: middle;\n",
       "    }\n",
       "\n",
       "    .dataframe tbody tr th {\n",
       "        vertical-align: top;\n",
       "    }\n",
       "\n",
       "    .dataframe thead th {\n",
       "        text-align: right;\n",
       "    }\n",
       "</style>\n",
       "<table border=\"1\" class=\"dataframe\">\n",
       "  <thead>\n",
       "    <tr style=\"text-align: right;\">\n",
       "      <th></th>\n",
       "      <th>ID</th>\n",
       "      <th>TITLE</th>\n",
       "      <th>URL</th>\n",
       "      <th>PUBLISHER</th>\n",
       "      <th>CATEGORY</th>\n",
       "      <th>STORY</th>\n",
       "      <th>HOSTNAME</th>\n",
       "      <th>TIMESTAMP</th>\n",
       "    </tr>\n",
       "  </thead>\n",
       "  <tbody>\n",
       "    <tr>\n",
       "      <td>0</td>\n",
       "      <td>1</td>\n",
       "      <td>Fed official says weak data caused by weather,...</td>\n",
       "      <td>http://www.latimes.com/business/money/la-fi-mo...</td>\n",
       "      <td>Los Angeles Times</td>\n",
       "      <td>b</td>\n",
       "      <td>ddUyU0VZz0BRneMioxUPQVP6sIxvM</td>\n",
       "      <td>www.latimes.com</td>\n",
       "      <td>1394470370698</td>\n",
       "    </tr>\n",
       "    <tr>\n",
       "      <td>1</td>\n",
       "      <td>2</td>\n",
       "      <td>Fed's Charles Plosser sees high bar for change...</td>\n",
       "      <td>http://www.livemint.com/Politics/H2EvwJSK2VE6O...</td>\n",
       "      <td>Livemint</td>\n",
       "      <td>b</td>\n",
       "      <td>ddUyU0VZz0BRneMioxUPQVP6sIxvM</td>\n",
       "      <td>www.livemint.com</td>\n",
       "      <td>1394470371207</td>\n",
       "    </tr>\n",
       "    <tr>\n",
       "      <td>2</td>\n",
       "      <td>3</td>\n",
       "      <td>US open: Stocks fall after Fed official hints ...</td>\n",
       "      <td>http://www.ifamagazine.com/news/us-open-stocks...</td>\n",
       "      <td>IFA Magazine</td>\n",
       "      <td>b</td>\n",
       "      <td>ddUyU0VZz0BRneMioxUPQVP6sIxvM</td>\n",
       "      <td>www.ifamagazine.com</td>\n",
       "      <td>1394470371550</td>\n",
       "    </tr>\n",
       "    <tr>\n",
       "      <td>3</td>\n",
       "      <td>4</td>\n",
       "      <td>Fed risks falling 'behind the curve', Charles ...</td>\n",
       "      <td>http://www.ifamagazine.com/news/fed-risks-fall...</td>\n",
       "      <td>IFA Magazine</td>\n",
       "      <td>b</td>\n",
       "      <td>ddUyU0VZz0BRneMioxUPQVP6sIxvM</td>\n",
       "      <td>www.ifamagazine.com</td>\n",
       "      <td>1394470371793</td>\n",
       "    </tr>\n",
       "    <tr>\n",
       "      <td>4</td>\n",
       "      <td>5</td>\n",
       "      <td>Fed's Plosser: Nasty Weather Has Curbed Job Gr...</td>\n",
       "      <td>http://www.moneynews.com/Economy/federal-reser...</td>\n",
       "      <td>Moneynews</td>\n",
       "      <td>b</td>\n",
       "      <td>ddUyU0VZz0BRneMioxUPQVP6sIxvM</td>\n",
       "      <td>www.moneynews.com</td>\n",
       "      <td>1394470372027</td>\n",
       "    </tr>\n",
       "  </tbody>\n",
       "</table>\n",
       "</div>"
      ],
      "text/plain": [
       "   ID                                              TITLE  \\\n",
       "0   1  Fed official says weak data caused by weather,...   \n",
       "1   2  Fed's Charles Plosser sees high bar for change...   \n",
       "2   3  US open: Stocks fall after Fed official hints ...   \n",
       "3   4  Fed risks falling 'behind the curve', Charles ...   \n",
       "4   5  Fed's Plosser: Nasty Weather Has Curbed Job Gr...   \n",
       "\n",
       "                                                 URL          PUBLISHER  \\\n",
       "0  http://www.latimes.com/business/money/la-fi-mo...  Los Angeles Times   \n",
       "1  http://www.livemint.com/Politics/H2EvwJSK2VE6O...           Livemint   \n",
       "2  http://www.ifamagazine.com/news/us-open-stocks...       IFA Magazine   \n",
       "3  http://www.ifamagazine.com/news/fed-risks-fall...       IFA Magazine   \n",
       "4  http://www.moneynews.com/Economy/federal-reser...          Moneynews   \n",
       "\n",
       "  CATEGORY                          STORY             HOSTNAME      TIMESTAMP  \n",
       "0        b  ddUyU0VZz0BRneMioxUPQVP6sIxvM      www.latimes.com  1394470370698  \n",
       "1        b  ddUyU0VZz0BRneMioxUPQVP6sIxvM     www.livemint.com  1394470371207  \n",
       "2        b  ddUyU0VZz0BRneMioxUPQVP6sIxvM  www.ifamagazine.com  1394470371550  \n",
       "3        b  ddUyU0VZz0BRneMioxUPQVP6sIxvM  www.ifamagazine.com  1394470371793  \n",
       "4        b  ddUyU0VZz0BRneMioxUPQVP6sIxvM    www.moneynews.com  1394470372027  "
      ]
     },
     "execution_count": 5,
     "metadata": {},
     "output_type": "execute_result"
    }
   ],
   "source": [
    "news.head()"
   ]
  },
  {
   "cell_type": "markdown",
   "metadata": {},
   "source": [
    "#### Independent Features- [ID,TITLE,URL,PUBLISHER,STORY,HOSTNAME,TIMESTAMP]\n",
    "#### Dependent Feature- 'CATEGORY'"
   ]
  },
  {
   "cell_type": "code",
   "execution_count": 12,
   "metadata": {},
   "outputs": [
    {
     "data": {
      "text/plain": [
       "ID            int64\n",
       "TITLE        object\n",
       "URL          object\n",
       "PUBLISHER    object\n",
       "CATEGORY     object\n",
       "STORY        object\n",
       "HOSTNAME     object\n",
       "TIMESTAMP     int64\n",
       "dtype: object"
      ]
     },
     "execution_count": 12,
     "metadata": {},
     "output_type": "execute_result"
    }
   ],
   "source": [
    "news.dtypes"
   ]
  },
  {
   "cell_type": "code",
   "execution_count": 13,
   "metadata": {},
   "outputs": [
    {
     "data": {
      "text/plain": [
       "ID           0\n",
       "TITLE        0\n",
       "URL          0\n",
       "PUBLISHER    2\n",
       "CATEGORY     0\n",
       "STORY        0\n",
       "HOSTNAME     0\n",
       "TIMESTAMP    0\n",
       "dtype: int64"
      ]
     },
     "execution_count": 13,
     "metadata": {},
     "output_type": "execute_result"
    }
   ],
   "source": [
    "news.isnull().sum()"
   ]
  },
  {
   "cell_type": "code",
   "execution_count": 14,
   "metadata": {},
   "outputs": [
    {
     "name": "stdout",
     "output_type": "stream",
     "text": [
      "<class 'pandas.core.frame.DataFrame'>\n",
      "RangeIndex: 422419 entries, 0 to 422418\n",
      "Data columns (total 8 columns):\n",
      "ID           422419 non-null int64\n",
      "TITLE        422419 non-null object\n",
      "URL          422419 non-null object\n",
      "PUBLISHER    422417 non-null object\n",
      "CATEGORY     422419 non-null object\n",
      "STORY        422419 non-null object\n",
      "HOSTNAME     422419 non-null object\n",
      "TIMESTAMP    422419 non-null int64\n",
      "dtypes: int64(2), object(6)\n",
      "memory usage: 25.8+ MB\n"
     ]
    }
   ],
   "source": [
    "news.info()"
   ]
  },
  {
   "cell_type": "code",
   "execution_count": 15,
   "metadata": {},
   "outputs": [
    {
     "data": {
      "text/plain": [
       "Reuters              3902\n",
       "Huffington Post      2455\n",
       "Businessweek         2395\n",
       "Contactmusic.com     2334\n",
       "Daily Mail           2254\n",
       "                     ... \n",
       "Ghana                   1\n",
       "BCS                     1\n",
       "IMSoup                  1\n",
       "Borehamwood Times       1\n",
       "Artiholics              1\n",
       "Name: PUBLISHER, Length: 10985, dtype: int64"
      ]
     },
     "execution_count": 15,
     "metadata": {},
     "output_type": "execute_result"
    }
   ],
   "source": [
    "news[\"PUBLISHER\"].value_counts()"
   ]
  },
  {
   "cell_type": "code",
   "execution_count": 16,
   "metadata": {},
   "outputs": [],
   "source": [
    "news['PUBLISHER'] = news['PUBLISHER'].fillna(news['PUBLISHER'].mode()[0])"
   ]
  },
  {
   "cell_type": "code",
   "execution_count": 17,
   "metadata": {},
   "outputs": [
    {
     "data": {
      "text/plain": [
       "ID           0\n",
       "TITLE        0\n",
       "URL          0\n",
       "PUBLISHER    0\n",
       "CATEGORY     0\n",
       "STORY        0\n",
       "HOSTNAME     0\n",
       "TIMESTAMP    0\n",
       "dtype: int64"
      ]
     },
     "execution_count": 17,
     "metadata": {},
     "output_type": "execute_result"
    }
   ],
   "source": [
    "news.isnull().sum()"
   ]
  },
  {
   "cell_type": "code",
   "execution_count": 18,
   "metadata": {},
   "outputs": [
    {
     "name": "stdout",
     "output_type": "stream",
     "text": [
      "<class 'pandas.core.frame.DataFrame'>\n",
      "RangeIndex: 422419 entries, 0 to 422418\n",
      "Data columns (total 8 columns):\n",
      "ID           422419 non-null int64\n",
      "TITLE        422419 non-null object\n",
      "URL          422419 non-null object\n",
      "PUBLISHER    422419 non-null object\n",
      "CATEGORY     422419 non-null object\n",
      "STORY        422419 non-null object\n",
      "HOSTNAME     422419 non-null object\n",
      "TIMESTAMP    422419 non-null int64\n",
      "dtypes: int64(2), object(6)\n",
      "memory usage: 25.8+ MB\n"
     ]
    }
   ],
   "source": [
    "news.info()"
   ]
  },
  {
   "cell_type": "code",
   "execution_count": 19,
   "metadata": {},
   "outputs": [
    {
     "data": {
      "text/plain": [
       "(422419, 8)"
      ]
     },
     "execution_count": 19,
     "metadata": {},
     "output_type": "execute_result"
    }
   ],
   "source": [
    "news.shape"
   ]
  },
  {
   "cell_type": "code",
   "execution_count": 24,
   "metadata": {},
   "outputs": [
    {
     "name": "stdout",
     "output_type": "stream",
     "text": [
      "0         False\n",
      "1         False\n",
      "2         False\n",
      "3         False\n",
      "4         False\n",
      "          ...  \n",
      "422414    False\n",
      "422415    False\n",
      "422416    False\n",
      "422417    False\n",
      "422418    False\n",
      "Length: 422419, dtype: bool\n"
     ]
    },
    {
     "data": {
      "text/plain": [
       "False"
      ]
     },
     "execution_count": 24,
     "metadata": {},
     "output_type": "execute_result"
    }
   ],
   "source": [
    "print(news.duplicated())==True"
   ]
  },
  {
   "cell_type": "code",
   "execution_count": 26,
   "metadata": {},
   "outputs": [
    {
     "name": "stdout",
     "output_type": "stream",
     "text": [
      " News Data Size (422419, 8)\n",
      "NO Duplicate Data Found\n"
     ]
    }
   ],
   "source": [
    "print(' News Data Size {}'.format(news.shape))\n",
    "if(any(news.duplicated())==True):\n",
    "    print('Duplicate rows found')\n",
    "    print('Number of duplicate rows= ',news[news.duplicated()].shape[0])\n",
    "    df.drop_duplicates(inplace=True,keep='first')\n",
    "    df.reset_index(inplace=True,drop=True)\n",
    "    print('Dropping duplicates\\n')\n",
    "    print(news.shape)\n",
    "else:\n",
    "    print('NO Duplicate Data Found')"
   ]
  },
  {
   "cell_type": "markdown",
   "metadata": {},
   "source": [
    "#### Distribution of 'CATEGORY' (Dependent Variable)"
   ]
  },
  {
   "cell_type": "code",
   "execution_count": 27,
   "metadata": {},
   "outputs": [
    {
     "data": {
      "text/html": [
       "<div>\n",
       "<style scoped>\n",
       "    .dataframe tbody tr th:only-of-type {\n",
       "        vertical-align: middle;\n",
       "    }\n",
       "\n",
       "    .dataframe tbody tr th {\n",
       "        vertical-align: top;\n",
       "    }\n",
       "\n",
       "    .dataframe thead th {\n",
       "        text-align: right;\n",
       "    }\n",
       "</style>\n",
       "<table border=\"1\" class=\"dataframe\">\n",
       "  <thead>\n",
       "    <tr style=\"text-align: right;\">\n",
       "      <th></th>\n",
       "      <th>ID</th>\n",
       "      <th>TITLE</th>\n",
       "      <th>URL</th>\n",
       "      <th>PUBLISHER</th>\n",
       "      <th>CATEGORY</th>\n",
       "      <th>STORY</th>\n",
       "      <th>HOSTNAME</th>\n",
       "      <th>TIMESTAMP</th>\n",
       "    </tr>\n",
       "  </thead>\n",
       "  <tbody>\n",
       "    <tr>\n",
       "      <td>0</td>\n",
       "      <td>1</td>\n",
       "      <td>Fed official says weak data caused by weather,...</td>\n",
       "      <td>http://www.latimes.com/business/money/la-fi-mo...</td>\n",
       "      <td>Los Angeles Times</td>\n",
       "      <td>b</td>\n",
       "      <td>ddUyU0VZz0BRneMioxUPQVP6sIxvM</td>\n",
       "      <td>www.latimes.com</td>\n",
       "      <td>1394470370698</td>\n",
       "    </tr>\n",
       "    <tr>\n",
       "      <td>1</td>\n",
       "      <td>2</td>\n",
       "      <td>Fed's Charles Plosser sees high bar for change...</td>\n",
       "      <td>http://www.livemint.com/Politics/H2EvwJSK2VE6O...</td>\n",
       "      <td>Livemint</td>\n",
       "      <td>b</td>\n",
       "      <td>ddUyU0VZz0BRneMioxUPQVP6sIxvM</td>\n",
       "      <td>www.livemint.com</td>\n",
       "      <td>1394470371207</td>\n",
       "    </tr>\n",
       "    <tr>\n",
       "      <td>2</td>\n",
       "      <td>3</td>\n",
       "      <td>US open: Stocks fall after Fed official hints ...</td>\n",
       "      <td>http://www.ifamagazine.com/news/us-open-stocks...</td>\n",
       "      <td>IFA Magazine</td>\n",
       "      <td>b</td>\n",
       "      <td>ddUyU0VZz0BRneMioxUPQVP6sIxvM</td>\n",
       "      <td>www.ifamagazine.com</td>\n",
       "      <td>1394470371550</td>\n",
       "    </tr>\n",
       "    <tr>\n",
       "      <td>3</td>\n",
       "      <td>4</td>\n",
       "      <td>Fed risks falling 'behind the curve', Charles ...</td>\n",
       "      <td>http://www.ifamagazine.com/news/fed-risks-fall...</td>\n",
       "      <td>IFA Magazine</td>\n",
       "      <td>b</td>\n",
       "      <td>ddUyU0VZz0BRneMioxUPQVP6sIxvM</td>\n",
       "      <td>www.ifamagazine.com</td>\n",
       "      <td>1394470371793</td>\n",
       "    </tr>\n",
       "    <tr>\n",
       "      <td>4</td>\n",
       "      <td>5</td>\n",
       "      <td>Fed's Plosser: Nasty Weather Has Curbed Job Gr...</td>\n",
       "      <td>http://www.moneynews.com/Economy/federal-reser...</td>\n",
       "      <td>Moneynews</td>\n",
       "      <td>b</td>\n",
       "      <td>ddUyU0VZz0BRneMioxUPQVP6sIxvM</td>\n",
       "      <td>www.moneynews.com</td>\n",
       "      <td>1394470372027</td>\n",
       "    </tr>\n",
       "  </tbody>\n",
       "</table>\n",
       "</div>"
      ],
      "text/plain": [
       "   ID                                              TITLE  \\\n",
       "0   1  Fed official says weak data caused by weather,...   \n",
       "1   2  Fed's Charles Plosser sees high bar for change...   \n",
       "2   3  US open: Stocks fall after Fed official hints ...   \n",
       "3   4  Fed risks falling 'behind the curve', Charles ...   \n",
       "4   5  Fed's Plosser: Nasty Weather Has Curbed Job Gr...   \n",
       "\n",
       "                                                 URL          PUBLISHER  \\\n",
       "0  http://www.latimes.com/business/money/la-fi-mo...  Los Angeles Times   \n",
       "1  http://www.livemint.com/Politics/H2EvwJSK2VE6O...           Livemint   \n",
       "2  http://www.ifamagazine.com/news/us-open-stocks...       IFA Magazine   \n",
       "3  http://www.ifamagazine.com/news/fed-risks-fall...       IFA Magazine   \n",
       "4  http://www.moneynews.com/Economy/federal-reser...          Moneynews   \n",
       "\n",
       "  CATEGORY                          STORY             HOSTNAME      TIMESTAMP  \n",
       "0        b  ddUyU0VZz0BRneMioxUPQVP6sIxvM      www.latimes.com  1394470370698  \n",
       "1        b  ddUyU0VZz0BRneMioxUPQVP6sIxvM     www.livemint.com  1394470371207  \n",
       "2        b  ddUyU0VZz0BRneMioxUPQVP6sIxvM  www.ifamagazine.com  1394470371550  \n",
       "3        b  ddUyU0VZz0BRneMioxUPQVP6sIxvM  www.ifamagazine.com  1394470371793  \n",
       "4        b  ddUyU0VZz0BRneMioxUPQVP6sIxvM    www.moneynews.com  1394470372027  "
      ]
     },
     "execution_count": 27,
     "metadata": {},
     "output_type": "execute_result"
    }
   ],
   "source": [
    "news.head()"
   ]
  },
  {
   "cell_type": "code",
   "execution_count": 28,
   "metadata": {},
   "outputs": [
    {
     "data": {
      "text/plain": [
       "e    152469\n",
       "b    115967\n",
       "t    108344\n",
       "m     45639\n",
       "Name: CATEGORY, dtype: int64"
      ]
     },
     "execution_count": 28,
     "metadata": {},
     "output_type": "execute_result"
    }
   ],
   "source": [
    "news[\"CATEGORY\"].value_counts()"
   ]
  },
  {
   "cell_type": "code",
   "execution_count": 29,
   "metadata": {},
   "outputs": [
    {
     "data": {
      "text/plain": [
       "<matplotlib.axes._subplots.AxesSubplot at 0x213ebe57c08>"
      ]
     },
     "execution_count": 29,
     "metadata": {},
     "output_type": "execute_result"
    },
    {
     "data": {
      "image/png": "[encoded data removed]",
      "text/plain": [
       "<Figure size 864x864 with 1 Axes>"
      ]
     },
     "metadata": {},
     "output_type": "display_data"
    }
   ],
   "source": [
    "sns.set(font_scale=1.5)\n",
    "plt.figure(figsize=(12,12))\n",
    "sns.countplot(news['CATEGORY'])"
   ]
  },
  {
   "cell_type": "code",
   "execution_count": null,
   "metadata": {},
   "outputs": [],
   "source": []
  },
  {
   "cell_type": "code",
   "execution_count": 30,
   "metadata": {},
   "outputs": [],
   "source": [
    "def label_to_name(label):\n",
    "    if(label=='e'):\n",
    "        return 'entertainment'\n",
    "    elif(label=='b'):\n",
    "        return 'business'\n",
    "    elif(label=='t'):\n",
    "        return 'science and technology'\n",
    "    else:\n",
    "        return 'health'"
   ]
  },
  {
   "cell_type": "code",
   "execution_count": 31,
   "metadata": {},
   "outputs": [],
   "source": [
    "news['CATEGORY'] = news['CATEGORY'].apply(label_to_name)"
   ]
  },
  {
   "cell_type": "code",
   "execution_count": 32,
   "metadata": {},
   "outputs": [
    {
     "data": {
      "text/plain": [
       "entertainment             152469\n",
       "business                  115967\n",
       "science and technology    108344\n",
       "health                     45639\n",
       "Name: CATEGORY, dtype: int64"
      ]
     },
     "execution_count": 32,
     "metadata": {},
     "output_type": "execute_result"
    }
   ],
   "source": [
    "news[\"CATEGORY\"].value_counts()"
   ]
  },
  {
   "cell_type": "code",
   "execution_count": 38,
   "metadata": {},
   "outputs": [
    {
     "name": "stdout",
     "output_type": "stream",
     "text": [
      "Distribution of labels in %\n",
      "\n",
      "entertainment             36.094257\n",
      "business                  27.453074\n",
      "science and technology    25.648468\n",
      "health                    10.804202\n",
      "Name: CATEGORY, dtype: float64\n"
     ]
    }
   ],
   "source": [
    "print('Distribution of labels in %\\n')\n",
    "print(news['CATEGORY'].value_counts()/news.shape[0]*100)"
   ]
  },
  {
   "cell_type": "code",
   "execution_count": 39,
   "metadata": {},
   "outputs": [
    {
     "data": {
      "text/plain": [
       "<matplotlib.axes._subplots.AxesSubplot at 0x21384fc7ac8>"
      ]
     },
     "execution_count": 39,
     "metadata": {},
     "output_type": "execute_result"
    },
    {
     "data": {
      "image/png": "[encoded data removed]",
      "text/plain": [
       "<Figure size 864x864 with 1 Axes>"
      ]
     },
     "metadata": {},
     "output_type": "display_data"
    }
   ],
   "source": [
    "sns.set(font_scale=1.5)\n",
    "plt.figure(figsize=(12,12))\n",
    "sns.countplot(news['CATEGORY'])"
   ]
  },
  {
   "cell_type": "code",
   "execution_count": null,
   "metadata": {},
   "outputs": [],
   "source": [
    "# Dropping features [ID,URL,PUBLISHER,STORY,HOSTNAME,TIMESTAMP]"
   ]
  },
  {
   "cell_type": "code",
   "execution_count": 40,
   "metadata": {},
   "outputs": [],
   "source": [
    "news.drop(columns=['ID','URL','PUBLISHER','STORY','HOSTNAME','TIMESTAMP'],inplace=True)"
   ]
  },
  {
   "cell_type": "code",
   "execution_count": 41,
   "metadata": {},
   "outputs": [],
   "source": [
    "# lowercasing\n",
    "news['lower'] = news['TITLE'].str.lower()"
   ]
  },
  {
   "cell_type": "code",
   "execution_count": 42,
   "metadata": {},
   "outputs": [
    {
     "data": {
      "text/html": [
       "<div>\n",
       "<style scoped>\n",
       "    .dataframe tbody tr th:only-of-type {\n",
       "        vertical-align: middle;\n",
       "    }\n",
       "\n",
       "    .dataframe tbody tr th {\n",
       "        vertical-align: top;\n",
       "    }\n",
       "\n",
       "    .dataframe thead th {\n",
       "        text-align: right;\n",
       "    }\n",
       "</style>\n",
       "<table border=\"1\" class=\"dataframe\">\n",
       "  <thead>\n",
       "    <tr style=\"text-align: right;\">\n",
       "      <th></th>\n",
       "      <th>TITLE</th>\n",
       "      <th>CATEGORY</th>\n",
       "      <th>lower</th>\n",
       "    </tr>\n",
       "  </thead>\n",
       "  <tbody>\n",
       "    <tr>\n",
       "      <td>0</td>\n",
       "      <td>Fed official says weak data caused by weather,...</td>\n",
       "      <td>business</td>\n",
       "      <td>fed official says weak data caused by weather,...</td>\n",
       "    </tr>\n",
       "    <tr>\n",
       "      <td>1</td>\n",
       "      <td>Fed's Charles Plosser sees high bar for change...</td>\n",
       "      <td>business</td>\n",
       "      <td>fed's charles plosser sees high bar for change...</td>\n",
       "    </tr>\n",
       "    <tr>\n",
       "      <td>2</td>\n",
       "      <td>US open: Stocks fall after Fed official hints ...</td>\n",
       "      <td>business</td>\n",
       "      <td>us open: stocks fall after fed official hints ...</td>\n",
       "    </tr>\n",
       "    <tr>\n",
       "      <td>3</td>\n",
       "      <td>Fed risks falling 'behind the curve', Charles ...</td>\n",
       "      <td>business</td>\n",
       "      <td>fed risks falling 'behind the curve', charles ...</td>\n",
       "    </tr>\n",
       "    <tr>\n",
       "      <td>4</td>\n",
       "      <td>Fed's Plosser: Nasty Weather Has Curbed Job Gr...</td>\n",
       "      <td>business</td>\n",
       "      <td>fed's plosser: nasty weather has curbed job gr...</td>\n",
       "    </tr>\n",
       "  </tbody>\n",
       "</table>\n",
       "</div>"
      ],
      "text/plain": [
       "                                               TITLE  CATEGORY  \\\n",
       "0  Fed official says weak data caused by weather,...  business   \n",
       "1  Fed's Charles Plosser sees high bar for change...  business   \n",
       "2  US open: Stocks fall after Fed official hints ...  business   \n",
       "3  Fed risks falling 'behind the curve', Charles ...  business   \n",
       "4  Fed's Plosser: Nasty Weather Has Curbed Job Gr...  business   \n",
       "\n",
       "                                               lower  \n",
       "0  fed official says weak data caused by weather,...  \n",
       "1  fed's charles plosser sees high bar for change...  \n",
       "2  us open: stocks fall after fed official hints ...  \n",
       "3  fed risks falling 'behind the curve', charles ...  \n",
       "4  fed's plosser: nasty weather has curbed job gr...  "
      ]
     },
     "execution_count": 42,
     "metadata": {},
     "output_type": "execute_result"
    }
   ],
   "source": [
    "news.head()"
   ]
  },
  {
   "cell_type": "code",
   "execution_count": 43,
   "metadata": {},
   "outputs": [],
   "source": [
    "## Punctuation removing\n",
    "\n",
    "PUNCT_TO_REMOVE = string.punctuation\n",
    "def remove_punctuation(text):\n",
    "    \"\"\"custom function to remove the punctuation\"\"\"\n",
    "    return text.translate(str.maketrans('', '', PUNCT_TO_REMOVE))\n",
    "news[\"punc_removed\"] = news[\"lower\"].apply(lambda text: remove_punctuation(text))"
   ]
  },
  {
   "cell_type": "code",
   "execution_count": 44,
   "metadata": {},
   "outputs": [
    {
     "data": {
      "text/html": [
       "<div>\n",
       "<style scoped>\n",
       "    .dataframe tbody tr th:only-of-type {\n",
       "        vertical-align: middle;\n",
       "    }\n",
       "\n",
       "    .dataframe tbody tr th {\n",
       "        vertical-align: top;\n",
       "    }\n",
       "\n",
       "    .dataframe thead th {\n",
       "        text-align: right;\n",
       "    }\n",
       "</style>\n",
       "<table border=\"1\" class=\"dataframe\">\n",
       "  <thead>\n",
       "    <tr style=\"text-align: right;\">\n",
       "      <th></th>\n",
       "      <th>TITLE</th>\n",
       "      <th>CATEGORY</th>\n",
       "      <th>lower</th>\n",
       "      <th>punc_removed</th>\n",
       "    </tr>\n",
       "  </thead>\n",
       "  <tbody>\n",
       "    <tr>\n",
       "      <td>0</td>\n",
       "      <td>Fed official says weak data caused by weather,...</td>\n",
       "      <td>business</td>\n",
       "      <td>fed official says weak data caused by weather,...</td>\n",
       "      <td>fed official says weak data caused by weather ...</td>\n",
       "    </tr>\n",
       "    <tr>\n",
       "      <td>1</td>\n",
       "      <td>Fed's Charles Plosser sees high bar for change...</td>\n",
       "      <td>business</td>\n",
       "      <td>fed's charles plosser sees high bar for change...</td>\n",
       "      <td>feds charles plosser sees high bar for change ...</td>\n",
       "    </tr>\n",
       "    <tr>\n",
       "      <td>2</td>\n",
       "      <td>US open: Stocks fall after Fed official hints ...</td>\n",
       "      <td>business</td>\n",
       "      <td>us open: stocks fall after fed official hints ...</td>\n",
       "      <td>us open stocks fall after fed official hints a...</td>\n",
       "    </tr>\n",
       "    <tr>\n",
       "      <td>3</td>\n",
       "      <td>Fed risks falling 'behind the curve', Charles ...</td>\n",
       "      <td>business</td>\n",
       "      <td>fed risks falling 'behind the curve', charles ...</td>\n",
       "      <td>fed risks falling behind the curve charles plo...</td>\n",
       "    </tr>\n",
       "    <tr>\n",
       "      <td>4</td>\n",
       "      <td>Fed's Plosser: Nasty Weather Has Curbed Job Gr...</td>\n",
       "      <td>business</td>\n",
       "      <td>fed's plosser: nasty weather has curbed job gr...</td>\n",
       "      <td>feds plosser nasty weather has curbed job growth</td>\n",
       "    </tr>\n",
       "  </tbody>\n",
       "</table>\n",
       "</div>"
      ],
      "text/plain": [
       "                                               TITLE  CATEGORY  \\\n",
       "0  Fed official says weak data caused by weather,...  business   \n",
       "1  Fed's Charles Plosser sees high bar for change...  business   \n",
       "2  US open: Stocks fall after Fed official hints ...  business   \n",
       "3  Fed risks falling 'behind the curve', Charles ...  business   \n",
       "4  Fed's Plosser: Nasty Weather Has Curbed Job Gr...  business   \n",
       "\n",
       "                                               lower  \\\n",
       "0  fed official says weak data caused by weather,...   \n",
       "1  fed's charles plosser sees high bar for change...   \n",
       "2  us open: stocks fall after fed official hints ...   \n",
       "3  fed risks falling 'behind the curve', charles ...   \n",
       "4  fed's plosser: nasty weather has curbed job gr...   \n",
       "\n",
       "                                        punc_removed  \n",
       "0  fed official says weak data caused by weather ...  \n",
       "1  feds charles plosser sees high bar for change ...  \n",
       "2  us open stocks fall after fed official hints a...  \n",
       "3  fed risks falling behind the curve charles plo...  \n",
       "4   feds plosser nasty weather has curbed job growth  "
      ]
     },
     "execution_count": 44,
     "metadata": {},
     "output_type": "execute_result"
    }
   ],
   "source": [
    "news.head()"
   ]
  },
  {
   "cell_type": "code",
   "execution_count": 45,
   "metadata": {},
   "outputs": [],
   "source": [
    "## stopwords removing\n",
    "\n",
    "STOPWORDS = set(stopwords.words('english'))"
   ]
  },
  {
   "cell_type": "code",
   "execution_count": 46,
   "metadata": {},
   "outputs": [
    {
     "data": {
      "text/plain": [
       "{'a',\n",
       " 'about',\n",
       " 'above',\n",
       " 'after',\n",
       " 'again',\n",
       " 'against',\n",
       " 'ain',\n",
       " 'all',\n",
       " 'am',\n",
       " 'an',\n",
       " 'and',\n",
       " 'any',\n",
       " 'are',\n",
       " 'aren',\n",
       " \"aren't\",\n",
       " 'as',\n",
       " 'at',\n",
       " 'be',\n",
       " 'because',\n",
       " 'been',\n",
       " 'before',\n",
       " 'being',\n",
       " 'below',\n",
       " 'between',\n",
       " 'both',\n",
       " 'but',\n",
       " 'by',\n",
       " 'can',\n",
       " 'couldn',\n",
       " \"couldn't\",\n",
       " 'd',\n",
       " 'did',\n",
       " 'didn',\n",
       " \"didn't\",\n",
       " 'do',\n",
       " 'does',\n",
       " 'doesn',\n",
       " \"doesn't\",\n",
       " 'doing',\n",
       " 'don',\n",
       " \"don't\",\n",
       " 'down',\n",
       " 'during',\n",
       " 'each',\n",
       " 'few',\n",
       " 'for',\n",
       " 'from',\n",
       " 'further',\n",
       " 'had',\n",
       " 'hadn',\n",
       " \"hadn't\",\n",
       " 'has',\n",
       " 'hasn',\n",
       " \"hasn't\",\n",
       " 'have',\n",
       " 'haven',\n",
       " \"haven't\",\n",
       " 'having',\n",
       " 'he',\n",
       " 'her',\n",
       " 'here',\n",
       " 'hers',\n",
       " 'herself',\n",
       " 'him',\n",
       " 'himself',\n",
       " 'his',\n",
       " 'how',\n",
       " 'i',\n",
       " 'if',\n",
       " 'in',\n",
       " 'into',\n",
       " 'is',\n",
       " 'isn',\n",
       " \"isn't\",\n",
       " 'it',\n",
       " \"it's\",\n",
       " 'its',\n",
       " 'itself',\n",
       " 'just',\n",
       " 'll',\n",
       " 'm',\n",
       " 'ma',\n",
       " 'me',\n",
       " 'mightn',\n",
       " \"mightn't\",\n",
       " 'more',\n",
       " 'most',\n",
       " 'mustn',\n",
       " \"mustn't\",\n",
       " 'my',\n",
       " 'myself',\n",
       " 'needn',\n",
       " \"needn't\",\n",
       " 'no',\n",
       " 'nor',\n",
       " 'not',\n",
       " 'now',\n",
       " 'o',\n",
       " 'of',\n",
       " 'off',\n",
       " 'on',\n",
       " 'once',\n",
       " 'only',\n",
       " 'or',\n",
       " 'other',\n",
       " 'our',\n",
       " 'ours',\n",
       " 'ourselves',\n",
       " 'out',\n",
       " 'over',\n",
       " 'own',\n",
       " 're',\n",
       " 's',\n",
       " 'same',\n",
       " 'shan',\n",
       " \"shan't\",\n",
       " 'she',\n",
       " \"she's\",\n",
       " 'should',\n",
       " \"should've\",\n",
       " 'shouldn',\n",
       " \"shouldn't\",\n",
       " 'so',\n",
       " 'some',\n",
       " 'such',\n",
       " 't',\n",
       " 'than',\n",
       " 'that',\n",
       " \"that'll\",\n",
       " 'the',\n",
       " 'their',\n",
       " 'theirs',\n",
       " 'them',\n",
       " 'themselves',\n",
       " 'then',\n",
       " 'there',\n",
       " 'these',\n",
       " 'they',\n",
       " 'this',\n",
       " 'those',\n",
       " 'through',\n",
       " 'to',\n",
       " 'too',\n",
       " 'under',\n",
       " 'until',\n",
       " 'up',\n",
       " 've',\n",
       " 'very',\n",
       " 'was',\n",
       " 'wasn',\n",
       " \"wasn't\",\n",
       " 'we',\n",
       " 'were',\n",
       " 'weren',\n",
       " \"weren't\",\n",
       " 'what',\n",
       " 'when',\n",
       " 'where',\n",
       " 'which',\n",
       " 'while',\n",
       " 'who',\n",
       " 'whom',\n",
       " 'why',\n",
       " 'will',\n",
       " 'with',\n",
       " 'won',\n",
       " \"won't\",\n",
       " 'wouldn',\n",
       " \"wouldn't\",\n",
       " 'y',\n",
       " 'you',\n",
       " \"you'd\",\n",
       " \"you'll\",\n",
       " \"you're\",\n",
       " \"you've\",\n",
       " 'your',\n",
       " 'yours',\n",
       " 'yourself',\n",
       " 'yourselves'}"
      ]
     },
     "execution_count": 46,
     "metadata": {},
     "output_type": "execute_result"
    }
   ],
   "source": [
    "STOPWORDS"
   ]
  },
  {
   "cell_type": "code",
   "execution_count": 47,
   "metadata": {},
   "outputs": [],
   "source": [
    "def remove_stopwords(text):\n",
    "    return \" \".join([word for word in str(text).split() if word not in STOPWORDS])"
   ]
  },
  {
   "cell_type": "code",
   "execution_count": 48,
   "metadata": {},
   "outputs": [],
   "source": [
    "news[\"stopwords_removed\"] = news[\"punc_removed\"].apply(lambda text: remove_stopwords(text))"
   ]
  },
  {
   "cell_type": "code",
   "execution_count": 49,
   "metadata": {},
   "outputs": [
    {
     "data": {
      "text/html": [
       "<div>\n",
       "<style scoped>\n",
       "    .dataframe tbody tr th:only-of-type {\n",
       "        vertical-align: middle;\n",
       "    }\n",
       "\n",
       "    .dataframe tbody tr th {\n",
       "        vertical-align: top;\n",
       "    }\n",
       "\n",
       "    .dataframe thead th {\n",
       "        text-align: right;\n",
       "    }\n",
       "</style>\n",
       "<table border=\"1\" class=\"dataframe\">\n",
       "  <thead>\n",
       "    <tr style=\"text-align: right;\">\n",
       "      <th></th>\n",
       "      <th>TITLE</th>\n",
       "      <th>CATEGORY</th>\n",
       "      <th>lower</th>\n",
       "      <th>punc_removed</th>\n",
       "      <th>stopwords_removed</th>\n",
       "    </tr>\n",
       "  </thead>\n",
       "  <tbody>\n",
       "    <tr>\n",
       "      <td>0</td>\n",
       "      <td>Fed official says weak data caused by weather,...</td>\n",
       "      <td>business</td>\n",
       "      <td>fed official says weak data caused by weather,...</td>\n",
       "      <td>fed official says weak data caused by weather ...</td>\n",
       "      <td>fed official says weak data caused weather slo...</td>\n",
       "    </tr>\n",
       "    <tr>\n",
       "      <td>1</td>\n",
       "      <td>Fed's Charles Plosser sees high bar for change...</td>\n",
       "      <td>business</td>\n",
       "      <td>fed's charles plosser sees high bar for change...</td>\n",
       "      <td>feds charles plosser sees high bar for change ...</td>\n",
       "      <td>feds charles plosser sees high bar change pace...</td>\n",
       "    </tr>\n",
       "    <tr>\n",
       "      <td>2</td>\n",
       "      <td>US open: Stocks fall after Fed official hints ...</td>\n",
       "      <td>business</td>\n",
       "      <td>us open: stocks fall after fed official hints ...</td>\n",
       "      <td>us open stocks fall after fed official hints a...</td>\n",
       "      <td>us open stocks fall fed official hints acceler...</td>\n",
       "    </tr>\n",
       "    <tr>\n",
       "      <td>3</td>\n",
       "      <td>Fed risks falling 'behind the curve', Charles ...</td>\n",
       "      <td>business</td>\n",
       "      <td>fed risks falling 'behind the curve', charles ...</td>\n",
       "      <td>fed risks falling behind the curve charles plo...</td>\n",
       "      <td>fed risks falling behind curve charles plosser...</td>\n",
       "    </tr>\n",
       "    <tr>\n",
       "      <td>4</td>\n",
       "      <td>Fed's Plosser: Nasty Weather Has Curbed Job Gr...</td>\n",
       "      <td>business</td>\n",
       "      <td>fed's plosser: nasty weather has curbed job gr...</td>\n",
       "      <td>feds plosser nasty weather has curbed job growth</td>\n",
       "      <td>feds plosser nasty weather curbed job growth</td>\n",
       "    </tr>\n",
       "  </tbody>\n",
       "</table>\n",
       "</div>"
      ],
      "text/plain": [
       "                                               TITLE  CATEGORY  \\\n",
       "0  Fed official says weak data caused by weather,...  business   \n",
       "1  Fed's Charles Plosser sees high bar for change...  business   \n",
       "2  US open: Stocks fall after Fed official hints ...  business   \n",
       "3  Fed risks falling 'behind the curve', Charles ...  business   \n",
       "4  Fed's Plosser: Nasty Weather Has Curbed Job Gr...  business   \n",
       "\n",
       "                                               lower  \\\n",
       "0  fed official says weak data caused by weather,...   \n",
       "1  fed's charles plosser sees high bar for change...   \n",
       "2  us open: stocks fall after fed official hints ...   \n",
       "3  fed risks falling 'behind the curve', charles ...   \n",
       "4  fed's plosser: nasty weather has curbed job gr...   \n",
       "\n",
       "                                        punc_removed  \\\n",
       "0  fed official says weak data caused by weather ...   \n",
       "1  feds charles plosser sees high bar for change ...   \n",
       "2  us open stocks fall after fed official hints a...   \n",
       "3  fed risks falling behind the curve charles plo...   \n",
       "4   feds plosser nasty weather has curbed job growth   \n",
       "\n",
       "                                   stopwords_removed  \n",
       "0  fed official says weak data caused weather slo...  \n",
       "1  feds charles plosser sees high bar change pace...  \n",
       "2  us open stocks fall fed official hints acceler...  \n",
       "3  fed risks falling behind curve charles plosser...  \n",
       "4       feds plosser nasty weather curbed job growth  "
      ]
     },
     "execution_count": 49,
     "metadata": {},
     "output_type": "execute_result"
    }
   ],
   "source": [
    "news.head()"
   ]
  },
  {
   "cell_type": "markdown",
   "metadata": {},
   "source": [
    "#### A Wordcloud (or Tag cloud) is a visual representation of text data. It displays a list of words, the importance of each beeing shown with font size or color. This format is useful for quickly perceiving the most prominent terms. Python is."
   ]
  },
  {
   "cell_type": "markdown",
   "metadata": {},
   "source": [
    "### Wordcloud Tutorial = https://www.datacamp.com/community/tutorials/wordcloud-python"
   ]
  },
  {
   "cell_type": "code",
   "execution_count": 55,
   "metadata": {},
   "outputs": [],
   "source": [
    "comment_words = \" \""
   ]
  },
  {
   "cell_type": "code",
   "execution_count": 56,
   "metadata": {},
   "outputs": [
    {
     "data": {
      "text/plain": [
       "' '"
      ]
     },
     "execution_count": 56,
     "metadata": {},
     "output_type": "execute_result"
    }
   ],
   "source": [
    "comment_words"
   ]
  },
  {
   "cell_type": "code",
   "execution_count": 52,
   "metadata": {},
   "outputs": [],
   "source": [
    "stopwords = set(STOPWORDS)"
   ]
  },
  {
   "cell_type": "code",
   "execution_count": 53,
   "metadata": {},
   "outputs": [
    {
     "data": {
      "text/plain": [
       "{'a',\n",
       " 'about',\n",
       " 'above',\n",
       " 'after',\n",
       " 'again',\n",
       " 'against',\n",
       " 'ain',\n",
       " 'all',\n",
       " 'am',\n",
       " 'an',\n",
       " 'and',\n",
       " 'any',\n",
       " 'are',\n",
       " 'aren',\n",
       " \"aren't\",\n",
       " 'as',\n",
       " 'at',\n",
       " 'be',\n",
       " 'because',\n",
       " 'been',\n",
       " 'before',\n",
       " 'being',\n",
       " 'below',\n",
       " 'between',\n",
       " 'both',\n",
       " 'but',\n",
       " 'by',\n",
       " 'can',\n",
       " 'couldn',\n",
       " \"couldn't\",\n",
       " 'd',\n",
       " 'did',\n",
       " 'didn',\n",
       " \"didn't\",\n",
       " 'do',\n",
       " 'does',\n",
       " 'doesn',\n",
       " \"doesn't\",\n",
       " 'doing',\n",
       " 'don',\n",
       " \"don't\",\n",
       " 'down',\n",
       " 'during',\n",
       " 'each',\n",
       " 'few',\n",
       " 'for',\n",
       " 'from',\n",
       " 'further',\n",
       " 'had',\n",
       " 'hadn',\n",
       " \"hadn't\",\n",
       " 'has',\n",
       " 'hasn',\n",
       " \"hasn't\",\n",
       " 'have',\n",
       " 'haven',\n",
       " \"haven't\",\n",
       " 'having',\n",
       " 'he',\n",
       " 'her',\n",
       " 'here',\n",
       " 'hers',\n",
       " 'herself',\n",
       " 'him',\n",
       " 'himself',\n",
       " 'his',\n",
       " 'how',\n",
       " 'i',\n",
       " 'if',\n",
       " 'in',\n",
       " 'into',\n",
       " 'is',\n",
       " 'isn',\n",
       " \"isn't\",\n",
       " 'it',\n",
       " \"it's\",\n",
       " 'its',\n",
       " 'itself',\n",
       " 'just',\n",
       " 'll',\n",
       " 'm',\n",
       " 'ma',\n",
       " 'me',\n",
       " 'mightn',\n",
       " \"mightn't\",\n",
       " 'more',\n",
       " 'most',\n",
       " 'mustn',\n",
       " \"mustn't\",\n",
       " 'my',\n",
       " 'myself',\n",
       " 'needn',\n",
       " \"needn't\",\n",
       " 'no',\n",
       " 'nor',\n",
       " 'not',\n",
       " 'now',\n",
       " 'o',\n",
       " 'of',\n",
       " 'off',\n",
       " 'on',\n",
       " 'once',\n",
       " 'only',\n",
       " 'or',\n",
       " 'other',\n",
       " 'our',\n",
       " 'ours',\n",
       " 'ourselves',\n",
       " 'out',\n",
       " 'over',\n",
       " 'own',\n",
       " 're',\n",
       " 's',\n",
       " 'same',\n",
       " 'shan',\n",
       " \"shan't\",\n",
       " 'she',\n",
       " \"she's\",\n",
       " 'should',\n",
       " \"should've\",\n",
       " 'shouldn',\n",
       " \"shouldn't\",\n",
       " 'so',\n",
       " 'some',\n",
       " 'such',\n",
       " 't',\n",
       " 'than',\n",
       " 'that',\n",
       " \"that'll\",\n",
       " 'the',\n",
       " 'their',\n",
       " 'theirs',\n",
       " 'them',\n",
       " 'themselves',\n",
       " 'then',\n",
       " 'there',\n",
       " 'these',\n",
       " 'they',\n",
       " 'this',\n",
       " 'those',\n",
       " 'through',\n",
       " 'to',\n",
       " 'too',\n",
       " 'under',\n",
       " 'until',\n",
       " 'up',\n",
       " 've',\n",
       " 'very',\n",
       " 'was',\n",
       " 'wasn',\n",
       " \"wasn't\",\n",
       " 'we',\n",
       " 'were',\n",
       " 'weren',\n",
       " \"weren't\",\n",
       " 'what',\n",
       " 'when',\n",
       " 'where',\n",
       " 'which',\n",
       " 'while',\n",
       " 'who',\n",
       " 'whom',\n",
       " 'why',\n",
       " 'will',\n",
       " 'with',\n",
       " 'won',\n",
       " \"won't\",\n",
       " 'wouldn',\n",
       " \"wouldn't\",\n",
       " 'y',\n",
       " 'you',\n",
       " \"you'd\",\n",
       " \"you'll\",\n",
       " \"you're\",\n",
       " \"you've\",\n",
       " 'your',\n",
       " 'yours',\n",
       " 'yourself',\n",
       " 'yourselves'}"
      ]
     },
     "execution_count": 53,
     "metadata": {},
     "output_type": "execute_result"
    }
   ],
   "source": [
    "stopwords"
   ]
  },
  {
   "cell_type": "code",
   "execution_count": 58,
   "metadata": {},
   "outputs": [],
   "source": [
    "for val in news.stopwords_removed[0:10000]:  \n",
    "    tokens = val.split()     \n",
    "    for words in tokens: \n",
    "        comment_words = comment_words + words + ' '"
   ]
  },
  {
   "cell_type": "code",
   "execution_count": 59,
   "metadata": {},
   "outputs": [],
   "source": [
    "wordcloud = WordCloud(width = 1000, height = 900, background_color ='white', \n",
    "                      stopwords = stopwords, min_font_size = 15).generate(comment_words)"
   ]
  },
  {
   "cell_type": "code",
   "execution_count": 62,
   "metadata": {},
   "outputs": [
    {
     "data": {
      "image/png": "[encoded data removed]",
      "text/plain": [
       "<Figure size 864x864 with 1 Axes>"
      ]
     },
     "metadata": {},
     "output_type": "display_data"
    }
   ],
   "source": [
    "plt.figure(figsize = (12, 12))\n",
    "plt.imshow(wordcloud) \n",
    "plt.axis(\"off\") \n",
    "plt.tight_layout(pad = 0) \n",
    "plt.show()"
   ]
  },
  {
   "cell_type": "markdown",
   "metadata": {},
   "source": [
    "### Dealing with catogorical data"
   ]
  },
  {
   "cell_type": "code",
   "execution_count": 63,
   "metadata": {},
   "outputs": [
    {
     "data": {
      "text/html": [
       "<div>\n",
       "<style scoped>\n",
       "    .dataframe tbody tr th:only-of-type {\n",
       "        vertical-align: middle;\n",
       "    }\n",
       "\n",
       "    .dataframe tbody tr th {\n",
       "        vertical-align: top;\n",
       "    }\n",
       "\n",
       "    .dataframe thead th {\n",
       "        text-align: right;\n",
       "    }\n",
       "</style>\n",
       "<table border=\"1\" class=\"dataframe\">\n",
       "  <thead>\n",
       "    <tr style=\"text-align: right;\">\n",
       "      <th></th>\n",
       "      <th>TITLE</th>\n",
       "      <th>CATEGORY</th>\n",
       "      <th>lower</th>\n",
       "      <th>punc_removed</th>\n",
       "      <th>stopwords_removed</th>\n",
       "    </tr>\n",
       "  </thead>\n",
       "  <tbody>\n",
       "    <tr>\n",
       "      <td>0</td>\n",
       "      <td>Fed official says weak data caused by weather,...</td>\n",
       "      <td>business</td>\n",
       "      <td>fed official says weak data caused by weather,...</td>\n",
       "      <td>fed official says weak data caused by weather ...</td>\n",
       "      <td>fed official says weak data caused weather slo...</td>\n",
       "    </tr>\n",
       "    <tr>\n",
       "      <td>1</td>\n",
       "      <td>Fed's Charles Plosser sees high bar for change...</td>\n",
       "      <td>business</td>\n",
       "      <td>fed's charles plosser sees high bar for change...</td>\n",
       "      <td>feds charles plosser sees high bar for change ...</td>\n",
       "      <td>feds charles plosser sees high bar change pace...</td>\n",
       "    </tr>\n",
       "    <tr>\n",
       "      <td>2</td>\n",
       "      <td>US open: Stocks fall after Fed official hints ...</td>\n",
       "      <td>business</td>\n",
       "      <td>us open: stocks fall after fed official hints ...</td>\n",
       "      <td>us open stocks fall after fed official hints a...</td>\n",
       "      <td>us open stocks fall fed official hints acceler...</td>\n",
       "    </tr>\n",
       "    <tr>\n",
       "      <td>3</td>\n",
       "      <td>Fed risks falling 'behind the curve', Charles ...</td>\n",
       "      <td>business</td>\n",
       "      <td>fed risks falling 'behind the curve', charles ...</td>\n",
       "      <td>fed risks falling behind the curve charles plo...</td>\n",
       "      <td>fed risks falling behind curve charles plosser...</td>\n",
       "    </tr>\n",
       "    <tr>\n",
       "      <td>4</td>\n",
       "      <td>Fed's Plosser: Nasty Weather Has Curbed Job Gr...</td>\n",
       "      <td>business</td>\n",
       "      <td>fed's plosser: nasty weather has curbed job gr...</td>\n",
       "      <td>feds plosser nasty weather has curbed job growth</td>\n",
       "      <td>feds plosser nasty weather curbed job growth</td>\n",
       "    </tr>\n",
       "  </tbody>\n",
       "</table>\n",
       "</div>"
      ],
      "text/plain": [
       "                                               TITLE  CATEGORY  \\\n",
       "0  Fed official says weak data caused by weather,...  business   \n",
       "1  Fed's Charles Plosser sees high bar for change...  business   \n",
       "2  US open: Stocks fall after Fed official hints ...  business   \n",
       "3  Fed risks falling 'behind the curve', Charles ...  business   \n",
       "4  Fed's Plosser: Nasty Weather Has Curbed Job Gr...  business   \n",
       "\n",
       "                                               lower  \\\n",
       "0  fed official says weak data caused by weather,...   \n",
       "1  fed's charles plosser sees high bar for change...   \n",
       "2  us open: stocks fall after fed official hints ...   \n",
       "3  fed risks falling 'behind the curve', charles ...   \n",
       "4  fed's plosser: nasty weather has curbed job gr...   \n",
       "\n",
       "                                        punc_removed  \\\n",
       "0  fed official says weak data caused by weather ...   \n",
       "1  feds charles plosser sees high bar for change ...   \n",
       "2  us open stocks fall after fed official hints a...   \n",
       "3  fed risks falling behind the curve charles plo...   \n",
       "4   feds plosser nasty weather has curbed job growth   \n",
       "\n",
       "                                   stopwords_removed  \n",
       "0  fed official says weak data caused weather slo...  \n",
       "1  feds charles plosser sees high bar change pace...  \n",
       "2  us open stocks fall fed official hints acceler...  \n",
       "3  fed risks falling behind curve charles plosser...  \n",
       "4       feds plosser nasty weather curbed job growth  "
      ]
     },
     "execution_count": 63,
     "metadata": {},
     "output_type": "execute_result"
    }
   ],
   "source": [
    "news.head()"
   ]
  },
  {
   "cell_type": "code",
   "execution_count": 64,
   "metadata": {},
   "outputs": [
    {
     "data": {
      "text/plain": [
       "entertainment             152469\n",
       "business                  115967\n",
       "science and technology    108344\n",
       "health                     45639\n",
       "Name: CATEGORY, dtype: int64"
      ]
     },
     "execution_count": 64,
     "metadata": {},
     "output_type": "execute_result"
    }
   ],
   "source": [
    "news.CATEGORY.value_counts()"
   ]
  },
  {
   "cell_type": "code",
   "execution_count": 65,
   "metadata": {},
   "outputs": [],
   "source": [
    "le = LabelEncoder()"
   ]
  },
  {
   "cell_type": "code",
   "execution_count": 66,
   "metadata": {},
   "outputs": [],
   "source": [
    "news['CATEGORY']=le.fit_transform(news['CATEGORY'])"
   ]
  },
  {
   "cell_type": "code",
   "execution_count": 67,
   "metadata": {},
   "outputs": [
    {
     "data": {
      "text/html": [
       "<div>\n",
       "<style scoped>\n",
       "    .dataframe tbody tr th:only-of-type {\n",
       "        vertical-align: middle;\n",
       "    }\n",
       "\n",
       "    .dataframe tbody tr th {\n",
       "        vertical-align: top;\n",
       "    }\n",
       "\n",
       "    .dataframe thead th {\n",
       "        text-align: right;\n",
       "    }\n",
       "</style>\n",
       "<table border=\"1\" class=\"dataframe\">\n",
       "  <thead>\n",
       "    <tr style=\"text-align: right;\">\n",
       "      <th></th>\n",
       "      <th>TITLE</th>\n",
       "      <th>CATEGORY</th>\n",
       "      <th>lower</th>\n",
       "      <th>punc_removed</th>\n",
       "      <th>stopwords_removed</th>\n",
       "    </tr>\n",
       "  </thead>\n",
       "  <tbody>\n",
       "    <tr>\n",
       "      <td>0</td>\n",
       "      <td>Fed official says weak data caused by weather,...</td>\n",
       "      <td>0</td>\n",
       "      <td>fed official says weak data caused by weather,...</td>\n",
       "      <td>fed official says weak data caused by weather ...</td>\n",
       "      <td>fed official says weak data caused weather slo...</td>\n",
       "    </tr>\n",
       "    <tr>\n",
       "      <td>1</td>\n",
       "      <td>Fed's Charles Plosser sees high bar for change...</td>\n",
       "      <td>0</td>\n",
       "      <td>fed's charles plosser sees high bar for change...</td>\n",
       "      <td>feds charles plosser sees high bar for change ...</td>\n",
       "      <td>feds charles plosser sees high bar change pace...</td>\n",
       "    </tr>\n",
       "    <tr>\n",
       "      <td>2</td>\n",
       "      <td>US open: Stocks fall after Fed official hints ...</td>\n",
       "      <td>0</td>\n",
       "      <td>us open: stocks fall after fed official hints ...</td>\n",
       "      <td>us open stocks fall after fed official hints a...</td>\n",
       "      <td>us open stocks fall fed official hints acceler...</td>\n",
       "    </tr>\n",
       "    <tr>\n",
       "      <td>3</td>\n",
       "      <td>Fed risks falling 'behind the curve', Charles ...</td>\n",
       "      <td>0</td>\n",
       "      <td>fed risks falling 'behind the curve', charles ...</td>\n",
       "      <td>fed risks falling behind the curve charles plo...</td>\n",
       "      <td>fed risks falling behind curve charles plosser...</td>\n",
       "    </tr>\n",
       "    <tr>\n",
       "      <td>4</td>\n",
       "      <td>Fed's Plosser: Nasty Weather Has Curbed Job Gr...</td>\n",
       "      <td>0</td>\n",
       "      <td>fed's plosser: nasty weather has curbed job gr...</td>\n",
       "      <td>feds plosser nasty weather has curbed job growth</td>\n",
       "      <td>feds plosser nasty weather curbed job growth</td>\n",
       "    </tr>\n",
       "  </tbody>\n",
       "</table>\n",
       "</div>"
      ],
      "text/plain": [
       "                                               TITLE  CATEGORY  \\\n",
       "0  Fed official says weak data caused by weather,...         0   \n",
       "1  Fed's Charles Plosser sees high bar for change...         0   \n",
       "2  US open: Stocks fall after Fed official hints ...         0   \n",
       "3  Fed risks falling 'behind the curve', Charles ...         0   \n",
       "4  Fed's Plosser: Nasty Weather Has Curbed Job Gr...         0   \n",
       "\n",
       "                                               lower  \\\n",
       "0  fed official says weak data caused by weather,...   \n",
       "1  fed's charles plosser sees high bar for change...   \n",
       "2  us open: stocks fall after fed official hints ...   \n",
       "3  fed risks falling 'behind the curve', charles ...   \n",
       "4  fed's plosser: nasty weather has curbed job gr...   \n",
       "\n",
       "                                        punc_removed  \\\n",
       "0  fed official says weak data caused by weather ...   \n",
       "1  feds charles plosser sees high bar for change ...   \n",
       "2  us open stocks fall after fed official hints a...   \n",
       "3  fed risks falling behind the curve charles plo...   \n",
       "4   feds plosser nasty weather has curbed job growth   \n",
       "\n",
       "                                   stopwords_removed  \n",
       "0  fed official says weak data caused weather slo...  \n",
       "1  feds charles plosser sees high bar change pace...  \n",
       "2  us open stocks fall fed official hints acceler...  \n",
       "3  fed risks falling behind curve charles plosser...  \n",
       "4       feds plosser nasty weather curbed job growth  "
      ]
     },
     "execution_count": 67,
     "metadata": {},
     "output_type": "execute_result"
    }
   ],
   "source": [
    "news.head()"
   ]
  },
  {
   "cell_type": "code",
   "execution_count": 69,
   "metadata": {},
   "outputs": [
    {
     "data": {
      "text/plain": [
       "1    152469\n",
       "0    115967\n",
       "3    108344\n",
       "2     45639\n",
       "Name: CATEGORY, dtype: int64"
      ]
     },
     "execution_count": 69,
     "metadata": {},
     "output_type": "execute_result"
    }
   ],
   "source": [
    "news.CATEGORY.value_counts()"
   ]
  },
  {
   "cell_type": "markdown",
   "metadata": {},
   "source": [
    "#### Results using CountVectorizer"
   ]
  },
  {
   "cell_type": "code",
   "execution_count": 70,
   "metadata": {},
   "outputs": [],
   "source": [
    "vectorizer = CountVectorizer()"
   ]
  },
  {
   "cell_type": "code",
   "execution_count": 71,
   "metadata": {},
   "outputs": [],
   "source": [
    "x = vectorizer.fit_transform(news['stopwords_removed'])"
   ]
  },
  {
   "cell_type": "code",
   "execution_count": 72,
   "metadata": {},
   "outputs": [],
   "source": [
    "y = news['CATEGORY']"
   ]
  },
  {
   "cell_type": "markdown",
   "metadata": {},
   "source": [
    "#### splitting the data"
   ]
  },
  {
   "cell_type": "code",
   "execution_count": 73,
   "metadata": {},
   "outputs": [],
   "source": [
    "?train_test_split"
   ]
  },
  {
   "cell_type": "markdown",
   "metadata": {},
   "source": [
    "#### stratify : array-like or None (default=None)\n",
    "####    If not None, data is split in a stratified fashion, using this as\n",
    "#####    the class labels."
   ]
  },
  {
   "cell_type": "code",
   "execution_count": 74,
   "metadata": {},
   "outputs": [],
   "source": [
    "x_train,x_test,y_train,y_test = train_test_split(x , y , test_size=0.2 , random_state=42 , stratify = news[\"CATEGORY\"])"
   ]
  },
  {
   "cell_type": "code",
   "execution_count": 75,
   "metadata": {},
   "outputs": [
    {
     "data": {
      "text/plain": [
       "(337935, 71746)"
      ]
     },
     "execution_count": 75,
     "metadata": {},
     "output_type": "execute_result"
    }
   ],
   "source": [
    "x_train.shape"
   ]
  },
  {
   "cell_type": "code",
   "execution_count": 76,
   "metadata": {},
   "outputs": [
    {
     "data": {
      "text/plain": [
       "(337935,)"
      ]
     },
     "execution_count": 76,
     "metadata": {},
     "output_type": "execute_result"
    }
   ],
   "source": [
    "y_train.shape"
   ]
  },
  {
   "cell_type": "code",
   "execution_count": 77,
   "metadata": {},
   "outputs": [
    {
     "data": {
      "text/plain": [
       "(84484, 71746)"
      ]
     },
     "execution_count": 77,
     "metadata": {},
     "output_type": "execute_result"
    }
   ],
   "source": [
    "x_test.shape"
   ]
  },
  {
   "cell_type": "code",
   "execution_count": 78,
   "metadata": {},
   "outputs": [
    {
     "data": {
      "text/plain": [
       "(84484,)"
      ]
     },
     "execution_count": 78,
     "metadata": {},
     "output_type": "execute_result"
    }
   ],
   "source": [
    "y_test.shape"
   ]
  },
  {
   "cell_type": "code",
   "execution_count": 79,
   "metadata": {},
   "outputs": [],
   "source": [
    "result = pd.DataFrame(columns=['Model_Name','Accuracy_Score','F1-score'])"
   ]
  },
  {
   "cell_type": "code",
   "execution_count": 80,
   "metadata": {},
   "outputs": [
    {
     "data": {
      "text/html": [
       "<div>\n",
       "<style scoped>\n",
       "    .dataframe tbody tr th:only-of-type {\n",
       "        vertical-align: middle;\n",
       "    }\n",
       "\n",
       "    .dataframe tbody tr th {\n",
       "        vertical-align: top;\n",
       "    }\n",
       "\n",
       "    .dataframe thead th {\n",
       "        text-align: right;\n",
       "    }\n",
       "</style>\n",
       "<table border=\"1\" class=\"dataframe\">\n",
       "  <thead>\n",
       "    <tr style=\"text-align: right;\">\n",
       "      <th></th>\n",
       "      <th>Model_Name</th>\n",
       "      <th>Accuracy_Score</th>\n",
       "      <th>F1-score</th>\n",
       "    </tr>\n",
       "  </thead>\n",
       "  <tbody>\n",
       "  </tbody>\n",
       "</table>\n",
       "</div>"
      ],
      "text/plain": [
       "Empty DataFrame\n",
       "Columns: [Model_Name, Accuracy_Score, F1-score]\n",
       "Index: []"
      ]
     },
     "execution_count": 80,
     "metadata": {},
     "output_type": "execute_result"
    }
   ],
   "source": [
    "result"
   ]
  },
  {
   "cell_type": "code",
   "execution_count": 81,
   "metadata": {},
   "outputs": [],
   "source": [
    "models_name = ['Logistic Regression' , 'Multinomial NaiveBayes']"
   ]
  },
  {
   "cell_type": "code",
   "execution_count": 82,
   "metadata": {},
   "outputs": [
    {
     "data": {
      "text/plain": [
       "['Logistic Regression', 'Multinomial NaiveBayes']"
      ]
     },
     "execution_count": 82,
     "metadata": {},
     "output_type": "execute_result"
    }
   ],
   "source": [
    "models_name"
   ]
  },
  {
   "cell_type": "code",
   "execution_count": 83,
   "metadata": {},
   "outputs": [],
   "source": [
    "model_clf = [LogisticRegression() , MultinomialNB()]"
   ]
  },
  {
   "cell_type": "code",
   "execution_count": 84,
   "metadata": {},
   "outputs": [
    {
     "data": {
      "text/plain": [
       "[LogisticRegression(C=1.0, class_weight=None, dual=False, fit_intercept=True,\n",
       "                    intercept_scaling=1, l1_ratio=None, max_iter=100,\n",
       "                    multi_class='warn', n_jobs=None, penalty='l2',\n",
       "                    random_state=None, solver='warn', tol=0.0001, verbose=0,\n",
       "                    warm_start=False),\n",
       " MultinomialNB(alpha=1.0, class_prior=None, fit_prior=True)]"
      ]
     },
     "execution_count": 84,
     "metadata": {},
     "output_type": "execute_result"
    }
   ],
   "source": [
    "model_clf"
   ]
  },
  {
   "cell_type": "code",
   "execution_count": 85,
   "metadata": {},
   "outputs": [
    {
     "name": "stderr",
     "output_type": "stream",
     "text": [
      "C:\\Users\\Mr. Jarvis\\Anaconda3\\lib\\site-packages\\sklearn\\linear_model\\logistic.py:432: FutureWarning: Default solver will be changed to 'lbfgs' in 0.22. Specify a solver to silence this warning.\n",
      "  FutureWarning)\n",
      "C:\\Users\\Mr. Jarvis\\Anaconda3\\lib\\site-packages\\sklearn\\linear_model\\logistic.py:469: FutureWarning: Default multi_class will be changed to 'auto' in 0.22. Specify the multi_class option to silence this warning.\n",
      "  \"this warning.\", FutureWarning)\n"
     ]
    }
   ],
   "source": [
    "for index,model in enumerate(model_clf):\n",
    "    clf = model.fit(x_train, y_train)\n",
    "    predictions = model.predict(x_test)\n",
    "    result.loc[index] = [models_name[index],accuracy_score(y_test, predictions),f1_score(y_test , predictions ,\n",
    "                                                                                             average = 'weighted')]"
   ]
  },
  {
   "cell_type": "code",
   "execution_count": 86,
   "metadata": {},
   "outputs": [
    {
     "data": {
      "text/html": [
       "<div>\n",
       "<style scoped>\n",
       "    .dataframe tbody tr th:only-of-type {\n",
       "        vertical-align: middle;\n",
       "    }\n",
       "\n",
       "    .dataframe tbody tr th {\n",
       "        vertical-align: top;\n",
       "    }\n",
       "\n",
       "    .dataframe thead th {\n",
       "        text-align: right;\n",
       "    }\n",
       "</style>\n",
       "<table border=\"1\" class=\"dataframe\">\n",
       "  <thead>\n",
       "    <tr style=\"text-align: right;\">\n",
       "      <th></th>\n",
       "      <th>Model_Name</th>\n",
       "      <th>Accuracy_Score</th>\n",
       "      <th>F1-score</th>\n",
       "    </tr>\n",
       "  </thead>\n",
       "  <tbody>\n",
       "    <tr>\n",
       "      <td>0</td>\n",
       "      <td>Logistic Regression</td>\n",
       "      <td>0.947327</td>\n",
       "      <td>0.947266</td>\n",
       "    </tr>\n",
       "    <tr>\n",
       "      <td>1</td>\n",
       "      <td>Multinomial NaiveBayes</td>\n",
       "      <td>0.928247</td>\n",
       "      <td>0.928240</td>\n",
       "    </tr>\n",
       "  </tbody>\n",
       "</table>\n",
       "</div>"
      ],
      "text/plain": [
       "               Model_Name  Accuracy_Score  F1-score\n",
       "0     Logistic Regression        0.947327  0.947266\n",
       "1  Multinomial NaiveBayes        0.928247  0.928240"
      ]
     },
     "execution_count": 86,
     "metadata": {},
     "output_type": "execute_result"
    }
   ],
   "source": [
    "result"
   ]
  },
  {
   "cell_type": "code",
   "execution_count": 88,
   "metadata": {},
   "outputs": [
    {
     "data": {
      "text/html": [
       "<div>\n",
       "<style scoped>\n",
       "    .dataframe tbody tr th:only-of-type {\n",
       "        vertical-align: middle;\n",
       "    }\n",
       "\n",
       "    .dataframe tbody tr th {\n",
       "        vertical-align: top;\n",
       "    }\n",
       "\n",
       "    .dataframe thead th {\n",
       "        text-align: right;\n",
       "    }\n",
       "</style>\n",
       "<table border=\"1\" class=\"dataframe\">\n",
       "  <thead>\n",
       "    <tr style=\"text-align: right;\">\n",
       "      <th></th>\n",
       "      <th>Model_Name</th>\n",
       "      <th>Accuracy_Score</th>\n",
       "      <th>F1-score_Score</th>\n",
       "    </tr>\n",
       "  </thead>\n",
       "  <tbody>\n",
       "    <tr>\n",
       "      <td>0</td>\n",
       "      <td>Logistic Regression</td>\n",
       "      <td>0.947327</td>\n",
       "      <td>0.947266</td>\n",
       "    </tr>\n",
       "    <tr>\n",
       "      <td>1</td>\n",
       "      <td>Multinomial NaiveBayes</td>\n",
       "      <td>0.928247</td>\n",
       "      <td>0.928240</td>\n",
       "    </tr>\n",
       "  </tbody>\n",
       "</table>\n",
       "</div>"
      ],
      "text/plain": [
       "               Model_Name  Accuracy_Score  F1-score_Score\n",
       "0     Logistic Regression        0.947327        0.947266\n",
       "1  Multinomial NaiveBayes        0.928247        0.928240"
      ]
     },
     "execution_count": 88,
     "metadata": {},
     "output_type": "execute_result"
    }
   ],
   "source": [
    "result"
   ]
  },
  {
   "cell_type": "code",
   "execution_count": 104,
   "metadata": {},
   "outputs": [
    {
     "data": {
      "text/plain": [
       "array([[21032,   385,   344,  1396],\n",
       "       [  388, 29411,   281,   440],\n",
       "       [  360,   177,  8359,   213],\n",
       "       [ 1413,   521,   144, 19620]], dtype=int64)"
      ]
     },
     "execution_count": 104,
     "metadata": {},
     "output_type": "execute_result"
    }
   ],
   "source": [
    "confusion_matrix(predictions , y_test)"
   ]
  },
  {
   "cell_type": "code",
   "execution_count": 106,
   "metadata": {},
   "outputs": [
    {
     "name": "stdout",
     "output_type": "stream",
     "text": [
      "              precision    recall  f1-score   support\n",
      "\n",
      "           0       0.91      0.91      0.91     23157\n",
      "           1       0.96      0.96      0.96     30520\n",
      "           2       0.92      0.92      0.92      9109\n",
      "           3       0.91      0.90      0.90     21698\n",
      "\n",
      "    accuracy                           0.93     84484\n",
      "   macro avg       0.92      0.92      0.92     84484\n",
      "weighted avg       0.93      0.93      0.93     84484\n",
      "\n"
     ]
    }
   ],
   "source": [
    "print(classification_report(predictions , y_test))"
   ]
  },
  {
   "cell_type": "code",
   "execution_count": null,
   "metadata": {},
   "outputs": [],
   "source": []
  },
  {
   "cell_type": "markdown",
   "metadata": {},
   "source": [
    "#### result using TF-IDF"
   ]
  },
  {
   "cell_type": "markdown",
   "metadata": {},
   "source": [
    "#### TF-IDF stands for “Term Frequency — Inverse Data Frequency”.\n",
    "#### Term Frequency (tf): gives us the frequency of the word in each document in the corpus. \n",
    "#### It is the ratio of number of times the word appears in a document compared to the total number of words in that document"
   ]
  },
  {
   "cell_type": "code",
   "execution_count": 108,
   "metadata": {},
   "outputs": [],
   "source": [
    "tfidf = TfidfVectorizer()"
   ]
  },
  {
   "cell_type": "code",
   "execution_count": 109,
   "metadata": {},
   "outputs": [],
   "source": [
    "x = tfidf.fit_transform(news['stopwords_removed'].values)"
   ]
  },
  {
   "cell_type": "code",
   "execution_count": 110,
   "metadata": {},
   "outputs": [],
   "source": [
    "y = news['CATEGORY']"
   ]
  },
  {
   "cell_type": "code",
   "execution_count": 111,
   "metadata": {},
   "outputs": [],
   "source": [
    "x_train , x_test , y_train , y_test = train_test_split(x , y , test_size=0.2 , random_state=42 , stratify=news.CATEGORY)"
   ]
  },
  {
   "cell_type": "code",
   "execution_count": 112,
   "metadata": {},
   "outputs": [
    {
     "data": {
      "text/plain": [
       "(337935, 71746)"
      ]
     },
     "execution_count": 112,
     "metadata": {},
     "output_type": "execute_result"
    }
   ],
   "source": [
    "x_train.shape"
   ]
  },
  {
   "cell_type": "code",
   "execution_count": 113,
   "metadata": {},
   "outputs": [
    {
     "data": {
      "text/plain": [
       "(337935,)"
      ]
     },
     "execution_count": 113,
     "metadata": {},
     "output_type": "execute_result"
    }
   ],
   "source": [
    "y_train.shape"
   ]
  },
  {
   "cell_type": "code",
   "execution_count": 114,
   "metadata": {},
   "outputs": [
    {
     "data": {
      "text/plain": [
       "(84484, 71746)"
      ]
     },
     "execution_count": 114,
     "metadata": {},
     "output_type": "execute_result"
    }
   ],
   "source": [
    "x_test.shape"
   ]
  },
  {
   "cell_type": "code",
   "execution_count": 115,
   "metadata": {},
   "outputs": [
    {
     "data": {
      "text/plain": [
       "(84484,)"
      ]
     },
     "execution_count": 115,
     "metadata": {},
     "output_type": "execute_result"
    }
   ],
   "source": [
    "y_test.shape"
   ]
  },
  {
   "cell_type": "code",
   "execution_count": 116,
   "metadata": {},
   "outputs": [],
   "source": [
    "result = pd.DataFrame(columns=['Model_Name' , 'Accuracy_score' ,'F1-score'])"
   ]
  },
  {
   "cell_type": "code",
   "execution_count": 117,
   "metadata": {},
   "outputs": [
    {
     "data": {
      "text/html": [
       "<div>\n",
       "<style scoped>\n",
       "    .dataframe tbody tr th:only-of-type {\n",
       "        vertical-align: middle;\n",
       "    }\n",
       "\n",
       "    .dataframe tbody tr th {\n",
       "        vertical-align: top;\n",
       "    }\n",
       "\n",
       "    .dataframe thead th {\n",
       "        text-align: right;\n",
       "    }\n",
       "</style>\n",
       "<table border=\"1\" class=\"dataframe\">\n",
       "  <thead>\n",
       "    <tr style=\"text-align: right;\">\n",
       "      <th></th>\n",
       "      <th>Model_Name</th>\n",
       "      <th>Accuracy_score</th>\n",
       "      <th>F1-score</th>\n",
       "    </tr>\n",
       "  </thead>\n",
       "  <tbody>\n",
       "  </tbody>\n",
       "</table>\n",
       "</div>"
      ],
      "text/plain": [
       "Empty DataFrame\n",
       "Columns: [Model_Name, Accuracy_score, F1-score]\n",
       "Index: []"
      ]
     },
     "execution_count": 117,
     "metadata": {},
     "output_type": "execute_result"
    }
   ],
   "source": [
    "result"
   ]
  },
  {
   "cell_type": "code",
   "execution_count": 118,
   "metadata": {},
   "outputs": [],
   "source": [
    "models_name = ['Logistic Regression' , 'Multinomial NaiveBayes']"
   ]
  },
  {
   "cell_type": "code",
   "execution_count": 119,
   "metadata": {},
   "outputs": [
    {
     "data": {
      "text/plain": [
       "['Logistic Regression', 'Multinomial NaiveBayes']"
      ]
     },
     "execution_count": 119,
     "metadata": {},
     "output_type": "execute_result"
    }
   ],
   "source": [
    "models_name"
   ]
  },
  {
   "cell_type": "code",
   "execution_count": 120,
   "metadata": {},
   "outputs": [],
   "source": [
    "model_clfs = [LogisticRegression() , MultinomialNB()]"
   ]
  },
  {
   "cell_type": "code",
   "execution_count": 121,
   "metadata": {},
   "outputs": [
    {
     "data": {
      "text/plain": [
       "[LogisticRegression(C=1.0, class_weight=None, dual=False, fit_intercept=True,\n",
       "                    intercept_scaling=1, l1_ratio=None, max_iter=100,\n",
       "                    multi_class='warn', n_jobs=None, penalty='l2',\n",
       "                    random_state=None, solver='warn', tol=0.0001, verbose=0,\n",
       "                    warm_start=False),\n",
       " MultinomialNB(alpha=1.0, class_prior=None, fit_prior=True)]"
      ]
     },
     "execution_count": 121,
     "metadata": {},
     "output_type": "execute_result"
    }
   ],
   "source": [
    "model_clfs"
   ]
  },
  {
   "cell_type": "code",
   "execution_count": 122,
   "metadata": {},
   "outputs": [
    {
     "name": "stderr",
     "output_type": "stream",
     "text": [
      "C:\\Users\\Mr. Jarvis\\Anaconda3\\lib\\site-packages\\sklearn\\linear_model\\logistic.py:432: FutureWarning: Default solver will be changed to 'lbfgs' in 0.22. Specify a solver to silence this warning.\n",
      "  FutureWarning)\n",
      "C:\\Users\\Mr. Jarvis\\Anaconda3\\lib\\site-packages\\sklearn\\linear_model\\logistic.py:469: FutureWarning: Default multi_class will be changed to 'auto' in 0.22. Specify the multi_class option to silence this warning.\n",
      "  \"this warning.\", FutureWarning)\n"
     ]
    }
   ],
   "source": [
    "for index,model in enumerate(model_clfs):\n",
    "    clfs = model.fit(x_train, y_train)\n",
    "    predictions = model.predict(x_test)\n",
    "    result.loc[index] = [models_name[index] , accuracy_score(y_test, predictions) , f1_score(y_test, predictions, average = 'weighted')]"
   ]
  },
  {
   "cell_type": "code",
   "execution_count": 123,
   "metadata": {},
   "outputs": [
    {
     "data": {
      "text/html": [
       "<div>\n",
       "<style scoped>\n",
       "    .dataframe tbody tr th:only-of-type {\n",
       "        vertical-align: middle;\n",
       "    }\n",
       "\n",
       "    .dataframe tbody tr th {\n",
       "        vertical-align: top;\n",
       "    }\n",
       "\n",
       "    .dataframe thead th {\n",
       "        text-align: right;\n",
       "    }\n",
       "</style>\n",
       "<table border=\"1\" class=\"dataframe\">\n",
       "  <thead>\n",
       "    <tr style=\"text-align: right;\">\n",
       "      <th></th>\n",
       "      <th>Model_Name</th>\n",
       "      <th>Accuracy_score</th>\n",
       "      <th>F1-score</th>\n",
       "    </tr>\n",
       "  </thead>\n",
       "  <tbody>\n",
       "    <tr>\n",
       "      <td>0</td>\n",
       "      <td>Logistic Regression</td>\n",
       "      <td>0.942297</td>\n",
       "      <td>0.942153</td>\n",
       "    </tr>\n",
       "    <tr>\n",
       "      <td>1</td>\n",
       "      <td>Multinomial NaiveBayes</td>\n",
       "      <td>0.925797</td>\n",
       "      <td>0.925521</td>\n",
       "    </tr>\n",
       "  </tbody>\n",
       "</table>\n",
       "</div>"
      ],
      "text/plain": [
       "               Model_Name  Accuracy_score  F1-score\n",
       "0     Logistic Regression        0.942297  0.942153\n",
       "1  Multinomial NaiveBayes        0.925797  0.925521"
      ]
     },
     "execution_count": 123,
     "metadata": {},
     "output_type": "execute_result"
    }
   ],
   "source": [
    "result"
   ]
  },
  {
   "cell_type": "code",
   "execution_count": 119,
   "metadata": {},
   "outputs": [
    {
     "data": {
      "text/html": [
       "<div>\n",
       "<style scoped>\n",
       "    .dataframe tbody tr th:only-of-type {\n",
       "        vertical-align: middle;\n",
       "    }\n",
       "\n",
       "    .dataframe tbody tr th {\n",
       "        vertical-align: top;\n",
       "    }\n",
       "\n",
       "    .dataframe thead th {\n",
       "        text-align: right;\n",
       "    }\n",
       "</style>\n",
       "<table border=\"1\" class=\"dataframe\">\n",
       "  <thead>\n",
       "    <tr style=\"text-align: right;\">\n",
       "      <th></th>\n",
       "      <th>Model_Name</th>\n",
       "      <th>Accuracy_score</th>\n",
       "      <th>F1-score</th>\n",
       "    </tr>\n",
       "  </thead>\n",
       "  <tbody>\n",
       "    <tr>\n",
       "      <td>0</td>\n",
       "      <td>Logistic Regression</td>\n",
       "      <td>0.942297</td>\n",
       "      <td>0.942153</td>\n",
       "    </tr>\n",
       "    <tr>\n",
       "      <td>1</td>\n",
       "      <td>Multinomial NaiveBayes</td>\n",
       "      <td>0.925797</td>\n",
       "      <td>0.925521</td>\n",
       "    </tr>\n",
       "  </tbody>\n",
       "</table>\n",
       "</div>"
      ],
      "text/plain": [
       "               Model_Name  Accuracy_score  F1-score\n",
       "0     Logistic Regression        0.942297  0.942153\n",
       "1  Multinomial NaiveBayes        0.925797  0.925521"
      ]
     },
     "execution_count": 119,
     "metadata": {},
     "output_type": "execute_result"
    }
   ],
   "source": [
    "result"
   ]
  },
  {
   "cell_type": "code",
   "execution_count": 125,
   "metadata": {},
   "outputs": [
    {
     "data": {
      "text/plain": [
       "array([[21221,   353,   586,  1438],\n",
       "       [  509, 29680,   553,   596],\n",
       "       [  123,    46,  7755,    76],\n",
       "       [ 1340,   415,   234, 19559]], dtype=int64)"
      ]
     },
     "execution_count": 125,
     "metadata": {},
     "output_type": "execute_result"
    }
   ],
   "source": [
    "confusion_matrix(predictions , y_test)"
   ]
  },
  {
   "cell_type": "code",
   "execution_count": 126,
   "metadata": {},
   "outputs": [
    {
     "name": "stdout",
     "output_type": "stream",
     "text": [
      "              precision    recall  f1-score   support\n",
      "\n",
      "           0       0.91      0.90      0.91     23598\n",
      "           1       0.97      0.95      0.96     31338\n",
      "           2       0.85      0.97      0.91      8000\n",
      "           3       0.90      0.91      0.91     21548\n",
      "\n",
      "    accuracy                           0.93     84484\n",
      "   macro avg       0.91      0.93      0.92     84484\n",
      "weighted avg       0.93      0.93      0.93     84484\n",
      "\n"
     ]
    }
   ],
   "source": [
    "print(classification_report(predictions , y_test))"
   ]
  },
  {
   "cell_type": "markdown",
   "metadata": {},
   "source": [
    "#### LSTM for deep learning model"
   ]
  },
  {
   "cell_type": "markdown",
   "metadata": {},
   "source": [
    "#### The Long Short-Term Memory network, or LSTM for short, is a type of recurrent neural network that achieves state-of-the-art results on challenging prediction problems."
   ]
  },
  {
   "cell_type": "code",
   "execution_count": 127,
   "metadata": {},
   "outputs": [
    {
     "name": "stderr",
     "output_type": "stream",
     "text": [
      "Using TensorFlow backend.\n"
     ]
    }
   ],
   "source": [
    "import keras\n",
    "from keras.layers import Dense, Embedding, LSTM, SpatialDropout1D\n",
    "from keras.models import Sequential\n",
    "from sklearn.feature_extraction.text import CountVectorizer\n",
    "from keras.preprocessing.text import Tokenizer\n",
    "from keras.preprocessing.sequence import pad_sequences\n",
    "from sklearn.model_selection import train_test_split\n",
    "from keras.utils.np_utils import to_categorical\n",
    "from keras.callbacks import EarlyStopping,ModelCheckpoint\n",
    "\n",
    "import os"
   ]
  },
  {
   "cell_type": "code",
   "execution_count": 172,
   "metadata": {},
   "outputs": [],
   "source": [
    "news_labels = to_categorical(news['CATEGORY'], num_classes=4)"
   ]
  },
  {
   "cell_type": "code",
   "execution_count": 173,
   "metadata": {},
   "outputs": [
    {
     "data": {
      "text/plain": [
       "array([[1., 0., 0., 0.],\n",
       "       [1., 0., 0., 0.],\n",
       "       [1., 0., 0., 0.],\n",
       "       ...,\n",
       "       [0., 0., 1., 0.],\n",
       "       [0., 0., 1., 0.],\n",
       "       [0., 0., 1., 0.]], dtype=float32)"
      ]
     },
     "execution_count": 173,
     "metadata": {},
     "output_type": "execute_result"
    }
   ],
   "source": [
    "news_labels"
   ]
  },
  {
   "cell_type": "code",
   "execution_count": 174,
   "metadata": {},
   "outputs": [],
   "source": [
    "n_most_common_words = 11000"
   ]
  },
  {
   "cell_type": "code",
   "execution_count": 175,
   "metadata": {},
   "outputs": [],
   "source": [
    "max_len = 130"
   ]
  },
  {
   "cell_type": "code",
   "execution_count": 176,
   "metadata": {},
   "outputs": [],
   "source": [
    "tokenizer = Tokenizer(num_words=n_most_common_words, filters='!\"#$%&()*+,-./:;<=>?@[\\]^_`{|}~', lower=True)"
   ]
  },
  {
   "cell_type": "code",
   "execution_count": 177,
   "metadata": {},
   "outputs": [
    {
     "data": {
      "text/plain": [
       "<keras_preprocessing.text.Tokenizer at 0x2139a433bc8>"
      ]
     },
     "execution_count": 177,
     "metadata": {},
     "output_type": "execute_result"
    }
   ],
   "source": [
    "tokenizer"
   ]
  },
  {
   "cell_type": "code",
   "execution_count": 178,
   "metadata": {},
   "outputs": [],
   "source": [
    "tokenizer.fit_on_texts(news[\"lower\"].values)"
   ]
  },
  {
   "cell_type": "code",
   "execution_count": 179,
   "metadata": {},
   "outputs": [],
   "source": [
    "sequence = tokenizer.texts_to_sequences(news[\"lower\"].values)"
   ]
  },
  {
   "cell_type": "code",
   "execution_count": 180,
   "metadata": {},
   "outputs": [
    {
     "data": {
      "text/plain": [
       "[[215, 452, 25, 1061, 84, 1968, 19, 1080, 269, 37, 1410, 7893],\n",
       " [1933, 6722, 8792, 547, 112, 2810, 5, 142, 2, 2397, 4, 10733],\n",
       " [13, 311, 61, 222, 16, 215, 452, 1527, 11, 10733],\n",
       " [215, 1362, 2123, 3, 6722, 8792, 25],\n",
       " [1933, 8792, 7249, 1080, 56, 594, 175],\n",
       " [8792, 215, 31, 85, 1, 6466, 10733, 2397],\n",
       " [1933, 8792, 7893, 2397, 31, 20, 405, 1410],\n",
       " [1933, 8792, 2591, 13, 577, 1, 222, 1, 78, 26, 19, 3, 204, 4, 21],\n",
       " [13, 238, 175, 264, 232, 227, 19, 1080, 215, 721, 6722, 8792],\n",
       " [302, 3119, 1, 204, 4, 2444, 2388],\n",
       " [302, 3119, 1, 204, 4, 2444, 2388],\n",
       " [8931, 685, 140, 2596, 65, 642],\n",
       " [555, 1023, 2011, 6, 2852, 2596],\n",
       " [302, 915, 2212, 233, 39, 2711, 1736, 1, 691, 192, 248, 5],\n",
       " [775, 1504, 5, 64, 6, 6239, 694],\n",
       " [922, 1254, 353, 1, 38, 232, 2700, 154, 233],\n",
       " [9295, 25, 511, 233, 2256, 703, 1345],\n",
       " [775, 114, 226, 268, 119, 492, 140, 4179, 5231, 327],\n",
       " [302, 3760, 9295, 12, 3504, 311, 1, 100, 4],\n",
       " [233, 14, 99, 5039, 5921, 1168, 4107],\n",
       " [9295, 25, 511, 233, 2256, 703, 1345, 30],\n",
       " [9295, 25, 2212, 233, 2256, 1345, 6, 342],\n",
       " [462, 2193, 6519, 758, 659, 2, 302, 140, 305, 2421, 2954],\n",
       " [752, 477, 2926, 7, 2005, 2, 555, 610, 3, 2914, 528],\n",
       " [119, 298, 35, 292, 1, 214, 51, 686],\n",
       " [2711, 9295, 37, 945, 9, 233, 3228, 67],\n",
       " [1367, 3721, 262, 10, 112],\n",
       " [302, 1, 1172, 462, 2193, 10028, 5, 233, 1319, 140, 305],\n",
       " [922, 116, 1251, 680, 7186, 15, 26, 30, 26, 70, 1801, 14, 2212, 233, 675],\n",
       " [5833, 462, 2193, 6519, 758, 659, 2, 302, 140, 305, 2421, 2954],\n",
       " [67, 30, 302, 1, 1172, 462, 2193, 10028, 5, 233, 1319, 140, 305, 2954],\n",
       " [302, 1, 1172, 462, 2193, 10028, 5, 233, 1319, 140, 305, 2954],\n",
       " [302, 6978, 8342, 483, 6, 462, 2193, 10192],\n",
       " [302, 1, 1172, 462, 2193, 10028, 5, 140, 916],\n",
       " [119, 298, 35, 292, 1, 214, 260, 3, 1012, 954],\n",
       " [1096, 694, 874, 4374, 3799, 15, 248, 94, 2711, 9295],\n",
       " [67, 30, 1096, 694, 874, 4374, 863, 15, 248, 94, 9295],\n",
       " [2711, 9295, 25, 2730, 9, 141],\n",
       " [2711, 9295, 248, 322, 31],\n",
       " [2711, 2311, 9295, 25, 2730, 9, 141],\n",
       " [2054, 11, 38, 232, 248, 14, 302, 717, 4242, 2437, 233],\n",
       " [775, 1504, 5, 64, 6, 6239, 694, 165, 114],\n",
       " [6239, 694, 915, 4, 775, 167],\n",
       " [186, 175, 2, 233, 1319, 309, 1, 4125, 232, 112],\n",
       " [3, 1367, 2537],\n",
       " [302, 2731, 5, 1681, 233, 3228, 24, 84, 2818],\n",
       " [25, 538, 269, 1655, 60, 4, 3687, 6240],\n",
       " [538, 2915, 731],\n",
       " [2124, 1390],\n",
       " [97, 538, 60, 3687, 225, 3120],\n",
       " [4725, 2915, 1551, 5566, 538, 538],\n",
       " [538, 1163, 2915, 10734, 4, 4636],\n",
       " [4725, 2915, 538, 2374, 1042, 33, 81, 995, 4, 3, 3846],\n",
       " [538, 1, 2374, 1804, 154, 2915, 5101],\n",
       " [538, 1163, 2915, 938, 5101, 1406, 605, 1, 303, 1077],\n",
       " [2915, 1900, 538, 533, 16, 237, 1163, 938, 10734],\n",
       " [256, 61, 538, 7, 2915, 691, 559, 9867],\n",
       " [538, 1406, 2374, 1, 1804, 154, 4725, 2915, 938, 5101],\n",
       " [538, 1406, 2374, 1, 1804, 154, 2915, 938, 5101],\n",
       " [538, 7, 2915, 691, 559, 9867],\n",
       " [538, 1163, 2915, 938, 1538, 14, 3121, 2177, 224],\n",
       " [538, 1406, 2374, 1, 1804, 154, 3687, 652, 585, 2915, 307, 110],\n",
       " [538, 1163, 4725, 382, 5101, 1224, 4, 63, 33, 4636],\n",
       " [538, 110, 205, 353, 19, 7632, 1, 715, 108, 54, 5, 1330],\n",
       " [538, 1163, 4725, 938, 5101, 7, 25, 105, 1343, 45, 7],\n",
       " [538, 1163, 4725, 2915, 938, 5101, 1406, 605, 1, 303, 1077],\n",
       " [9868, 598, 167, 2915, 10735, 7, 437, 144, 125],\n",
       " [538, 2374, 1, 5366, 938, 5101],\n",
       " [4725, 2915, 1055, 538, 110],\n",
       " [2915, 307, 4, 538, 110, 637, 33, 81],\n",
       " [538, 1163, 4725, 382, 5101, 1224, 4, 63, 33, 4636],\n",
       " [67, 30, 538, 1163, 2915, 938, 5101, 1406, 605, 1, 303, 1077],\n",
       " [538, 1163, 2915, 938, 5101, 1224, 605, 1, 303, 1077],\n",
       " [4725, 2915, 637, 538, 605, 28, 92, 5609],\n",
       " [538, 1224, 2374, 1, 1804, 154, 2915, 938, 5101],\n",
       " [538, 1406, 1, 7250, 2915, 5101],\n",
       " [538, 25, 4725, 938, 1538, 2730],\n",
       " [791, 3122, 19, 3129],\n",
       " [422, 791, 102, 317, 1, 520, 95, 745],\n",
       " [791, 251, 369, 2, 1618, 191, 59],\n",
       " [791, 102, 317, 1, 520, 95, 745],\n",
       " [791, 59, 1137, 14, 2250, 548, 1, 8793, 1, 2838],\n",
       " [34, 298, 1, 46, 5, 14, 791, 2456, 1, 707, 13, 59],\n",
       " [791, 59, 1788, 417, 7706, 1640, 6354],\n",
       " [791, 59, 1788, 417, 7706, 1640, 6354, 19, 3129],\n",
       " [791, 1618, 13, 59, 19, 1080],\n",
       " [791, 13, 59, 222, 30, 33, 726, 1331, 2, 1618, 14, 2250, 548, 1, 8793, 1],\n",
       " [791, 1456, 1618, 59, 306, 1137],\n",
       " [791, 59, 1137, 14, 2250, 548, 1, 8793, 1, 2838, 3],\n",
       " [791, 1, 2103, 1377, 52, 526, 1067, 4375],\n",
       " [791, 13, 59, 871, 1, 3410, 2, 1618],\n",
       " [40, 447, 5834, 1633, 9707, 1052, 245, 791, 3411, 13, 59, 1137],\n",
       " [5232, 791, 186, 328, 37, 2826, 17, 2, 1618],\n",
       " [791, 1618, 1077, 1934, 59, 222, 384, 34],\n",
       " [791, 404, 1061, 1618, 59, 306],\n",
       " [67, 26, 791, 13, 59, 871, 1, 3410, 2, 1618],\n",
       " [791, 59, 1955, 14, 10349, 1640, 6354, 3034],\n",
       " [339, 4060, 3198, 871, 1, 216, 5877, 39, 4, 791, 59],\n",
       " [791, 251, 272, 13, 59, 417, 8251, 2129, 658],\n",
       " [791, 37, 13, 59],\n",
       " [791, 251, 8, 384, 34, 275, 369, 2, 1618, 59, 152, 69, 89, 30, 33, 275],\n",
       " [791, 1618, 59, 1955, 6, 13, 4596],\n",
       " [791, 1618, 1077, 1934, 59, 222, 384, 34, 275],\n",
       " [791, 59, 5526, 2, 1618],\n",
       " [791, 59, 2609, 5, 1132, 1781, 232],\n",
       " [791, 2902, 1061, 59, 6, 1080],\n",
       " [791, 1618, 59, 4516, 29, 346, 6584],\n",
       " [791, 13, 59, 222, 30, 33, 726, 1331, 2, 1618, 224, 19, 462],\n",
       " [791, 251, 1618, 191, 59],\n",
       " [144, 116, 139, 1176, 69, 403, 517, 7186, 15, 150, 16, 62, 84],\n",
       " [285, 271, 2225, 272, 16, 150, 1201, 5437],\n",
       " [339, 149, 16, 144, 7103, 131, 5567, 789, 779, 85],\n",
       " [1061, 62, 1857, 2557, 6, 61, 227, 5878],\n",
       " [143, 49, 7, 3, 584, 103, 401, 217],\n",
       " [13, 61, 1788, 6, 1061, 1049, 84, 327],\n",
       " [486, 7251, 2208, 60, 2700, 57, 1440, 2, 3, 270],\n",
       " [3641, 374, 477, 84, 10934, 6, 285, 271, 13, 3103],\n",
       " [61, 222, 6, 1061, 62, 2846, 84],\n",
       " [191, 175, 2005, 31, 1345, 61],\n",
       " [61, 1955, 14, 605, 691, 1450, 6, 884],\n",
       " [61, 89, 11, 3190, 6, 1061, 62, 2846, 84],\n",
       " [3190, 116, 7187, 3, 1201, 237, 9046, 3, 584, 1122, 1834],\n",
       " [285, 271, 2225, 272, 16, 69, 150, 333],\n",
       " [285, 670, 89, 6, 1049, 84],\n",
       " [144, 116, 75, 5, 268, 119, 21, 116, 75],\n",
       " [152, 69, 61, 311, 272, 2, 5481, 477, 584, 1122, 89, 384, 1905],\n",
       " [61, 4126, 3822, 4596, 2, 401, 559, 152, 69, 3103],\n",
       " [1641, 144, 116, 8444, 584, 1122, 1834, 1078, 544, 69, 403, 517],\n",
       " [13, 61, 311, 272, 6, 1061, 1049, 84, 327],\n",
       " [61, 1955, 1388],\n",
       " [486, 7251, 5329, 3822, 1459, 2, 401, 559],\n",
       " [285, 271, 2225, 272, 16, 150],\n",
       " [13, 61, 285, 271, 2225, 272, 16, 150, 1201, 5437],\n",
       " [5145, 116, 989, 63, 4841, 716, 57, 12, 3, 562, 27],\n",
       " [116, 3143, 13, 61, 1671, 95, 19, 62, 264, 3555, 875],\n",
       " [116, 61, 222, 6, 1061, 1049, 84, 327, 128, 2178],\n",
       " [884, 2005, 2322, 61, 10528],\n",
       " [13, 61, 311, 272, 6, 1061, 1049, 84],\n",
       " [61, 222, 1388, 11, 3, 311],\n",
       " [584, 1122, 1834, 1078, 40, 70, 144, 116, 535, 1005],\n",
       " [584, 34, 415, 2018],\n",
       " [285, 670, 485, 272, 16, 69, 150, 333],\n",
       " [13, 61, 3143, 285, 670, 485, 272, 16, 69, 150, 333],\n",
       " [4546, 8, 5145, 116, 790, 2231, 100, 61],\n",
       " [13, 61, 1671, 95, 19, 62, 264, 3555, 875],\n",
       " [584, 1122, 6295, 1078, 4803, 196],\n",
       " [762, 9708, 1, 8, 272, 311, 6, 285, 271],\n",
       " [584, 1122, 1834, 1078, 264, 114],\n",
       " [61, 31, 834, 343, 1345, 6, 3641, 374, 84, 152, 69],\n",
       " [285, 271, 485, 272, 16, 69, 150, 333],\n",
       " [152, 69, 762, 811, 1, 272, 374, 84, 2667, 584, 1122, 89, 384, 10193],\n",
       " [116, 1485, 191, 175, 2005, 31, 1345, 61],\n",
       " [61, 762, 1223, 272, 6, 1061, 374, 2846, 84],\n",
       " [144, 116, 75, 5, 268, 119, 21],\n",
       " [116, 144, 762, 2006, 417, 1061, 62, 477, 84],\n",
       " [1641, 144, 116, 75, 7, 143, 5694],\n",
       " [13, 61, 285, 670, 1, 1788, 11, 311, 16, 150, 62, 84],\n",
       " [13, 762, 272, 16, 150, 112],\n",
       " [144, 762, 1788, 16, 884, 5330],\n",
       " [584, 1122, 1834, 1078, 2081, 272, 84, 15, 62, 389, 3823],\n",
       " [144, 762, 1955, 6, 1061, 62, 84],\n",
       " [13, 61, 762, 1223, 272, 16, 150, 112, 62, 84],\n",
       " [8159, 3556, 6, 285, 271],\n",
       " [762, 4422, 8, 1410, 500, 572, 8, 811, 114, 1292, 143, 15],\n",
       " [144, 762, 2375, 14, 374, 477, 5367, 3775],\n",
       " [345, 2232, 61, 2, 51, 339, 70, 318, 5145],\n",
       " [1012, 954, 119, 268, 1049, 321, 2609],\n",
       " [34, 3396, 5, 3, 10, 114],\n",
       " [3, 40, 131, 6096, 61],\n",
       " [51, 3555, 99, 584, 61],\n",
       " [5145, 116, 2853, 9560, 11, 685, 2592, 14, 785],\n",
       " [5145, 168, 2538, 16, 339, 149],\n",
       " [8, 5145, 116, 15, 3, 4475],\n",
       " [152, 69, 144, 1279, 762, 45, 590, 1914, 16, 69, 403, 517, 150],\n",
       " [13, 61, 222, 14, 9561, 135, 509, 369, 6, 62],\n",
       " [1590, 7, 5962, 4, 3, 5145, 116],\n",
       " [449, 3, 5145, 116, 833, 40],\n",
       " [74, 890, 165, 14, 3, 5145, 116, 833, 339],\n",
       " [945, 4841, 716, 5145, 116],\n",
       " [686, 24, 5145, 116, 174, 44, 1, 627],\n",
       " [74, 3, 5145, 116, 56, 7410, 5, 555],\n",
       " [449, 5145, 116, 833, 40],\n",
       " [449, 40, 70, 5145, 116, 31, 691, 1653],\n",
       " [449, 771, 5145, 116, 732, 833, 40],\n",
       " [449, 3611, 3, 5145, 116, 225, 44, 1, 70, 40],\n",
       " [5145, 116, 786, 117, 3800, 70],\n",
       " [3, 5145, 116, 833, 40, 345, 1043, 39, 3],\n",
       " [5145, 116, 2631, 4841, 716],\n",
       " [3, 119, 156, 61, 4, 3, 5145, 116],\n",
       " [3, 119, 759, 61, 4, 3, 5145, 116],\n",
       " [3, 5145, 11, 40, 636, 303, 61, 258, 15, 490],\n",
       " [5145, 116, 989, 4841, 716, 1132, 5438, 732, 5, 69, 403, 517, 61, 415],\n",
       " [945, 716, 5145],\n",
       " [941, 40, 70, 1700, 744, 345, 20],\n",
       " [5145, 116, 168, 56, 287],\n",
       " [97, 3, 339, 70, 1005, 4, 3, 144, 116, 535, 51, 114, 56],\n",
       " [61, 551, 339, 70, 1005, 4, 4475, 248, 9, 150, 1801],\n",
       " [74, 51, 144, 5145, 116, 1173, 1, 139, 8, 6355, 70],\n",
       " [902, 886, 2007, 2157, 819, 13, 1465, 4673],\n",
       " [2007, 2157, 580, 5, 13, 1465, 1, 2791, 1284, 494],\n",
       " [902, 886, 2007, 2157, 580, 5, 13, 1465, 2263],\n",
       " [1109, 2274, 2007, 2157, 110, 551, 1671, 2047, 2275],\n",
       " [2007, 2157, 580, 5, 13, 3970, 620, 1465],\n",
       " [516, 2007, 13, 1465, 7, 3519, 622],\n",
       " [43, 2007, 2157, 110, 2334, 2275],\n",
       " [3, 2007, 2157, 3626, 195, 599, 432, 28, 10029],\n",
       " [1109, 216, 27, 2007, 2157, 3846, 1176, 530, 7335, 1782, 4, 1711],\n",
       " [67, 30, 2007, 2157, 580, 5, 13, 1465, 1, 2791, 1284, 494],\n",
       " [2007, 2157, 533, 6004, 7336, 2275, 1109, 2274],\n",
       " [2007, 2157, 580, 5, 13, 1465, 1, 2791, 1284, 494, 384],\n",
       " [2007, 2157, 580, 5, 13, 1465],\n",
       " [2007, 2157, 580, 5, 3970, 620, 1465, 2263, 2, 13],\n",
       " [8252, 1109, 2274, 7411, 168, 56, 2275],\n",
       " [2007, 2157, 580, 5, 3970, 620, 1465, 2, 3, 13],\n",
       " [2007, 2157, 902, 886, 580, 5, 1465, 2, 3, 152, 69, 1109, 1172, 28],\n",
       " [1109, 2007, 2157, 639, 3982, 902, 1711, 8059],\n",
       " [2007, 2157, 580, 5, 13, 1465, 2263],\n",
       " [2007, 2157, 819, 13, 159, 2263, 282, 389, 1465],\n",
       " [902, 886, 2007, 2157, 580, 5, 1465, 2, 3, 13],\n",
       " [1109, 2274, 8060, 2007, 2157, 168, 56, 8658, 2275],\n",
       " [1109, 8794, 2007, 2157, 4, 3021, 2275],\n",
       " [2007, 2157, 819, 13, 159, 2263, 282, 389, 1465, 26],\n",
       " [3847, 2007, 2157, 580, 5, 13, 1465, 2263],\n",
       " [2007, 2157, 819, 152, 69, 159, 2673, 282, 389, 1465],\n",
       " [902, 886, 819, 152, 69, 1465, 2263],\n",
       " [1109, 1789, 2007, 2157, 7252, 1172, 1176, 4, 588, 110],\n",
       " [1109, 8794, 2007, 2157, 902, 4, 1711, 16, 2179],\n",
       " [902, 2007, 2157, 535, 1109, 2274, 551, 8343, 36, 902, 4948],\n",
       " [7411, 1711, 1782, 1429, 7, 5879, 1845, 9, 902, 4701],\n",
       " [2007, 2157, 886, 580, 5, 1465, 2, 3, 13],\n",
       " [1109, 2274, 2007, 2157, 6, 902],\n",
       " [2007, 2157, 580, 5, 13, 1465, 417, 10, 3519, 307],\n",
       " [3761, 7411, 56, 30, 54, 2275, 2274, 1176],\n",
       " [2007, 2157, 580, 5, 1465, 2, 13],\n",
       " [7411, 1872, 551, 3612, 19, 1109],\n",
       " [7411, 4568, 6, 3846, 1429, 1176],\n",
       " [340, 636, 45, 2007, 1733, 902, 903],\n",
       " [469, 2007, 2157, 110, 168, 799, 100, 2116, 1733, 2275],\n",
       " [1109, 2274, 1, 85, 1782, 4, 1711, 2007, 2157, 4547],\n",
       " [2007, 2157, 551, 3612, 2, 1320, 902, 2179],\n",
       " [902, 886, 2007, 2157, 580, 5, 13, 1465],\n",
       " [3, 882, 2007, 2157, 580, 5, 3970, 620],\n",
       " [1109, 2007, 2157, 110, 273, 567, 85, 4143, 4, 1711],\n",
       " [2007, 2157, 3846, 1176, 1429, 1906, 208, 4702, 905, 902, 8445],\n",
       " [97, 130, 303, 37, 2885, 902],\n",
       " [2007, 2157, 3846, 2064, 1176, 1429],\n",
       " [2007, 2157, 745, 2179, 2276, 1, 530, 1782, 4, 1320, 1711],\n",
       " [902, 2, 3, 4948, 14, 3104, 931],\n",
       " [1759, 902, 2388, 2, 2007, 2157, 535],\n",
       " [1109, 483, 2007, 2157, 110, 8, 273, 289, 168, 3982, 902],\n",
       " [2007, 2157, 6648, 1343, 726, 257, 43],\n",
       " [2007, 2157, 580, 5, 3970, 620, 2, 152, 69],\n",
       " [902, 886, 2007, 2157, 227, 19, 5102, 1343, 726, 257, 260],\n",
       " [1109, 1906, 227, 2007, 2157, 3846, 1176, 530, 4948, 4, 6784, 2275],\n",
       " [1109, 227, 835, 2937, 4, 7411, 1872],\n",
       " [1109, 416, 2007, 2157, 463, 662, 3],\n",
       " [2007, 2157, 3846, 1176, 244, 16, 1320, 2179],\n",
       " [8060, 886, 2007, 2157, 168, 56, 5747, 54, 2, 2275, 1109, 2274],\n",
       " [1109, 2007, 2157, 110, 168, 3982, 902],\n",
       " [1109, 2274, 2007, 2157, 168, 5401, 6, 2275],\n",
       " [75, 1363, 17, 2007, 2157, 5402, 902, 2376, 521, 7],\n",
       " [1109, 2274, 7411, 168, 56, 1352, 1, 902],\n",
       " [2007, 2157, 6648, 5102, 1343, 726, 257, 226, 4, 535, 43],\n",
       " [2007, 2157, 3846, 1176, 1429, 7252, 1789, 307, 1275, 269, 20, 8, 902],\n",
       " [1109, 1043, 117, 2007, 2157, 3846, 1176, 1172, 8658, 902, 8445],\n",
       " [902, 886, 7411, 6648, 1343, 726, 257],\n",
       " [902, 886, 6648, 5189, 4, 3519, 1343],\n",
       " [2007, 2157, 3846, 1176, 1429],\n",
       " [4548, 2762, 315, 8795, 2, 3869, 538, 1, 3, 3613],\n",
       " [605, 5040, 36, 8446, 6, 876, 4061],\n",
       " [1499, 902, 56, 5963, 236, 8, 6005],\n",
       " [605, 5040, 36, 6006, 2, 876, 4061],\n",
       " [2682, 8, 6, 2275],\n",
       " [2007, 2157, 1109, 530, 902, 8445, 6, 3846, 526, 1176],\n",
       " [2007, 2157, 1062, 5102, 622, 260, 3412],\n",
       " [2007, 2157, 2179, 1906, 208, 902, 8445, 2047, 2276],\n",
       " [43, 2007, 2157, 126, 227, 937, 726, 257, 282, 5102, 622, 260, 1299],\n",
       " [2007, 2157, 3412, 902, 8160, 4, 887, 529],\n",
       " [1109, 2149, 8060, 902, 886],\n",
       " [1109, 2274, 1, 8796, 1782, 4, 1711, 11, 902, 886, 2007, 2157],\n",
       " [1062, 3162, 1343, 416],\n",
       " [2007, 2157, 3846, 1176, 1429, 1320, 902, 8445, 2048],\n",
       " [2007, 2157, 6648, 1343, 726, 257],\n",
       " [8252, 1109, 10736, 1320, 4143, 4, 7411, 1711, 15, 110],\n",
       " [902, 114],\n",
       " [902, 886, 7411, 2179, 1343, 1380],\n",
       " [7411, 6648, 1343, 8, 257],\n",
       " [1109, 227, 2007, 2157, 110, 2274, 1, 8796, 1782, 4, 1711],\n",
       " [1080, 114],\n",
       " [3, 325, 101, 600, 6195, 902],\n",
       " [74, 12, 902, 7, 636, 12, 2007, 2157],\n",
       " [1846, 1104, 60, 2927, 19, 2927, 2, 3, 8253],\n",
       " [2007, 2157, 227, 19, 1062, 5102, 1343],\n",
       " [1419, 2007, 2157],\n",
       " [902, 886, 6648, 3519],\n",
       " [7411, 6648, 5102, 1343, 726, 257, 25, 43],\n",
       " [902, 886, 7411, 6648, 1343, 726, 257, 43],\n",
       " [7411, 6648, 1343, 726, 257, 25, 43],\n",
       " [902, 2827, 1, 8932],\n",
       " [12, 902, 1208, 2779, 8, 1846, 8, 9561],\n",
       " [6007, 4, 529, 902, 57, 405, 4674, 5, 131, 605],\n",
       " [5006, 29, 902, 2277, 485, 2, 1644, 1018, 10935],\n",
       " [389, 3122, 1, 5233, 902, 16, 2007, 2157, 3412],\n",
       " [902, 7, 513, 8161, 3, 9047],\n",
       " [5006, 29, 902, 2277, 485, 2, 1018, 256, 8447],\n",
       " [902, 1167, 2277, 2344, 2, 6649, 256, 534],\n",
       " [902, 2852, 7, 296],\n",
       " [2048, 19, 7337, 7338],\n",
       " [2891, 2007, 2157, 2275, 24, 168, 20, 52, 207, 1846],\n",
       " [5006, 29, 902, 2277, 485, 2, 1018, 10935],\n",
       " [389, 25, 902, 37, 1846, 417, 390, 5, 4597],\n",
       " [2852, 6, 2275],\n",
       " [389, 25, 902, 37, 8, 1846, 57],\n",
       " [2275, 386, 1210, 2, 2194, 1171, 2369],\n",
       " [8, 114, 16, 2007, 2157, 3412, 389, 3122, 1, 5233, 902],\n",
       " [902, 786, 154, 1171, 124, 31, 763, 444, 30],\n",
       " [3, 207, 4, 902],\n",
       " [2065, 4, 3, 1024, 902, 389, 195, 73, 236, 83, 3, 1506, 4, 3],\n",
       " [902, 8797, 4144, 141, 2, 1289, 417, 622, 15, 1109],\n",
       " [876, 490, 1, 1086, 4269, 236, 902, 206, 2683, 4598, 6296],\n",
       " [389, 25, 37, 1846, 57],\n",
       " [486, 694, 45, 1123, 11, 902],\n",
       " [3, 1364, 513, 56, 834, 89, 1344, 6, 3, 876, 1846, 902],\n",
       " [8, 114, 16, 2007, 2157, 3412, 389, 3122, 1, 5233],\n",
       " [3, 5006, 29, 902, 876, 1167, 2277, 244, 139, 2, 103, 1644, 1018, 10935],\n",
       " [5006, 29, 902, 1167, 2277, 220, 2],\n",
       " [389, 902, 12, 37, 529, 57, 31, 20, 8659],\n",
       " [8660, 2430, 1285, 19, 10030, 998, 1081],\n",
       " [161, 4, 3035, 365, 2430, 6, 3870, 3123, 582, 965],\n",
       " [3035, 365, 2430, 1285, 19, 1081],\n",
       " [3035, 365, 2430, 15, 1285, 16, 386, 6785, 19, 1081],\n",
       " [3035, 365, 2430, 4913, 1285, 19, 10030, 998, 1081, 2839, 5],\n",
       " [2886, 161, 4, 3035, 365, 2430, 343, 966],\n",
       " [3035, 365, 2701, 1285, 19, 1081, 2, 5071],\n",
       " [3035, 365, 2430, 6785, 7, 1285, 19, 1081],\n",
       " [3035, 365, 7797, 1285, 2],\n",
       " [3035, 365, 2430, 1285, 6785, 19, 998, 1081],\n",
       " [3035, 365, 1447, 2430, 1285, 2],\n",
       " [4476, 3035, 365, 1081, 2177, 1392, 10737, 2701, 6, 3870],\n",
       " [3035, 365, 10737, 2430, 1285, 19, 1081, 2, 6723],\n",
       " [3035, 365, 2430, 6785, 7, 1285, 19, 1081, 4476, 5],\n",
       " [3035, 365, 2430, 6785, 7, 1285, 19, 1644, 1081],\n",
       " [3035, 365, 2430, 6785, 1285, 19, 1081],\n",
       " [3035, 365, 2430, 145, 16, 386, 227, 19, 1081, 585, 747, 6, 3870, 2, 1644],\n",
       " [8660, 3035, 365, 2701, 6785, 7, 1285, 2, 1644],\n",
       " [3035, 365, 2430, 1285, 747, 6, 3870, 2, 1103],\n",
       " [3035, 365, 2430, 6785, 7, 1285, 19, 1081, 2, 1103, 3199, 3065, 2632],\n",
       " [10, 286, 3035, 365, 2430, 6785, 7, 1285, 19, 1081],\n",
       " [1447, 2430, 1285, 19, 3035, 365, 1081, 8660, 25],\n",
       " [3035, 365, 2701, 6785, 7, 1285, 19, 1081, 585, 747, 6, 3870],\n",
       " [3035, 365, 2701, 1285, 19, 1081, 2, 6723],\n",
       " [3035, 365, 2430, 6785, 1285, 19, 1081, 2, 1644, 8660],\n",
       " [495, 9562, 2158, 179],\n",
       " [6585, 3912, 17, 391, 695, 6097],\n",
       " [6241, 3078, 2780, 1, 6195, 2158, 1, 520, 81],\n",
       " [1368, 172, 6585, 3912, 528, 1430],\n",
       " [2780, 3175, 30, 81, 6, 2158],\n",
       " [97, 2158, 8661, 12, 17, 263],\n",
       " [2158, 8661, 273, 96, 1, 9562, 5610],\n",
       " [2158, 891, 6, 10, 286, 937, 43, 6585],\n",
       " [416, 71, 495, 2780, 56, 609, 1, 737, 89, 8, 237],\n",
       " [2780, 7, 2158],\n",
       " [9562, 481, 2158, 4568],\n",
       " [2158, 3824, 8661, 75, 2158, 33, 1, 1353, 5, 51, 252],\n",
       " [6585, 3912, 1, 3688, 2264, 2779, 186],\n",
       " [2780, 19, 2158, 2, 385],\n",
       " [3689, 1700, 2158, 2, 9563, 182, 2801],\n",
       " [2158, 3824, 8661, 4108, 28, 6, 92, 495, 2780],\n",
       " [6, 3536, 495, 2780, 1306, 1659, 3505],\n",
       " [812, 8, 5880],\n",
       " [683, 1998, 26, 54],\n",
       " [2389, 2123, 39, 4, 1039, 14, 1538, 17, 3, 2397],\n",
       " [2780, 19, 2158, 1205, 2, 385],\n",
       " [181, 375, 4423, 204, 1978, 1852],\n",
       " [99, 475, 13, 4082, 3079, 3176, 19, 4675],\n",
       " [181, 375, 4423, 2029, 1852],\n",
       " [1196, 3, 5041, 181, 375, 4423, 1852],\n",
       " [181, 7, 4423, 204, 1852],\n",
       " [181, 375, 4423, 2029, 59, 1852, 7],\n",
       " [181, 375, 25, 4675, 1968, 6097, 399, 1, 28, 92],\n",
       " [181, 375, 4423, 2029, 1852, 73, 3971, 10350, 6, 2039],\n",
       " [4423, 438, 254, 1, 1073, 1415],\n",
       " [181, 375, 4423, 204, 4876],\n",
       " [181, 7, 4423, 204, 7, 7490, 9161, 6520],\n",
       " [5611, 2591, 29, 346, 179, 449, 227, 15, 658, 4675],\n",
       " [181, 375, 4423, 204, 1978],\n",
       " [181, 375, 4423, 204, 1852, 6, 838],\n",
       " [181, 375, 356, 2312, 9, 4423],\n",
       " [486, 152, 69, 375, 17, 2335, 4, 658, 4675],\n",
       " [181, 2692, 7707, 1618, 3176, 358, 1, 4675],\n",
       " [181, 2692, 7707, 6097, 3176, 358, 1, 4675],\n",
       " [181, 375, 4423, 1148],\n",
       " [181, 375, 4423, 204, 1852],\n",
       " [462, 1080, 3291, 181, 1, 2887, 7707, 3176, 2, 1618],\n",
       " [4423, 1745, 1490, 1999, 1078, 2238, 4, 15, 2226],\n",
       " [6008, 7, 4423, 204, 1852],\n",
       " [67, 26, 181, 375, 1, 204, 1852, 9, 4423],\n",
       " [181, 375, 4423, 2029, 4357, 1852],\n",
       " [181, 375, 1, 204, 1852, 9, 4423],\n",
       " [181, 375, 4423, 204, 1852],\n",
       " [4423, 10194, 11, 235, 4549, 11, 598, 1357, 6854, 1512, 2, 10, 286, 1466],\n",
       " [181, 375, 4423, 204, 7490, 64],\n",
       " [4423, 7, 181, 375, 258, 235, 2377, 1390],\n",
       " [181, 375, 7, 4423, 1745, 1978],\n",
       " [181, 375, 9296, 3520, 3413, 384, 34, 2081, 2, 6097, 4109, 450],\n",
       " [181, 375, 4423, 1745, 1, 1978, 1718, 1353],\n",
       " [975, 938, 420, 4599, 2, 9048, 1381],\n",
       " [4599, 1023, 1194, 971, 415],\n",
       " [4599, 3740, 2, 4145, 449, 141, 2, 152, 69],\n",
       " [420, 4599, 17, 8933],\n",
       " [8933, 1873, 4599, 331, 17, 57, 89],\n",
       " [420, 4599, 1930, 2, 9709, 211, 1459],\n",
       " [420, 6295, 1023, 1194, 1431, 415],\n",
       " [420, 4599, 1579, 89, 2, 10195],\n",
       " [14, 975, 2633, 420, 4599, 2, 150, 1381, 89, 2, 4145],\n",
       " [12, 2, 8662, 463, 2596, 308, 6467, 10529, 3130, 28],\n",
       " [4599, 12, 95, 6, 1447],\n",
       " [1873, 4599, 331, 17, 8933, 57, 89],\n",
       " [181, 331, 4, 420, 4599, 56, 227, 63, 1194, 2011, 2, 518, 149],\n",
       " [1742, 4599, 5568, 1, 150, 8798, 175, 2, 1330],\n",
       " [420, 4599, 4676],\n",
       " [975, 839, 420, 7043, 83, 28, 92, 440],\n",
       " [3035, 721, 5, 2130, 678, 2185, 5, 420, 4599],\n",
       " [84, 975, 9428, 420, 4599, 2, 150, 1381],\n",
       " [150, 1268, 4, 420, 6295, 10031, 3130, 2, 1330],\n",
       " [420, 6295, 331, 1194, 415],\n",
       " [975, 6650, 420, 4599, 2, 1194, 971, 415],\n",
       " [4842, 1330, 420, 4599],\n",
       " [104, 6, 3, 2732, 13, 404, 150, 420, 4599, 331],\n",
       " [181, 4599, 262, 6098, 70, 112],\n",
       " [150, 1381, 6, 420, 4599],\n",
       " [420, 4599, 331, 1023, 150, 112],\n",
       " [14, 4599, 2030, 650, 10, 43, 1931, 112, 785],\n",
       " [13, 181, 375, 599, 5, 2668, 1847],\n",
       " [975, 9428, 420, 7253, 2, 150, 1381],\n",
       " [13, 404, 150, 1873, 4599, 331],\n",
       " [6651, 7, 3627, 1236, 7, 1236, 490, 45, 40, 1390, 1, 1884, 73],\n",
       " [420, 6295, 11, 63, 1194, 971, 415],\n",
       " [975, 9428, 420, 4599, 2, 150, 1381, 5778],\n",
       " [975, 839, 420, 4599, 2, 150, 1381, 1194, 415],\n",
       " [975, 9428, 420, 4599, 11, 1194, 971, 415],\n",
       " [524, 119, 86, 81, 10031, 6, 420, 4599, 2, 1330, 2631, 2354, 1194, 1387],\n",
       " [975, 9428, 420, 7043, 2, 150, 1381],\n",
       " [975, 45, 1104, 420, 4599, 2, 150, 1381],\n",
       " [3035, 547, 603, 2, 2732, 6979, 2, 3443, 948, 2552, 7, 1330],\n",
       " [3, 8799, 6, 3, 2732, 45, 657, 894, 28, 4979],\n",
       " [28, 234, 420, 4599, 264, 70, 92, 1878, 79, 2, 3, 264, 2892, 149],\n",
       " [43, 975, 2633, 420, 4599, 2, 150, 1381],\n",
       " [975, 9428, 420, 6295, 2, 150, 1381],\n",
       " [420, 4599, 2, 3, 152, 69, 97, 45, 340, 771, 975, 9428, 224],\n",
       " [119, 86, 81, 10031, 3130, 6, 4599, 2, 223, 264, 70, 3, 131, 415],\n",
       " [13, 420, 4599, 11, 63, 1194, 971, 415],\n",
       " [975, 1021, 1, 20, 9428, 420, 4599, 2, 150, 1381],\n",
       " [28, 975, 9428, 420, 4599],\n",
       " [975, 6650, 420, 4599, 2, 150, 1381, 5748],\n",
       " [420, 4599, 331, 11, 1194, 971, 415],\n",
       " [420, 4599, 331, 2, 152, 69, 12, 11, 8, 6098, 70, 112, 43, 290],\n",
       " [975, 839, 420, 4599, 2, 150, 1381],\n",
       " [975, 174, 131, 6, 420, 7043, 5, 518, 149],\n",
       " [363, 420, 4599, 1930, 9, 109, 357],\n",
       " [61, 1955, 6, 75, 15, 884],\n",
       " [65, 3, 399, 498, 3613, 737, 62, 7, 389, 1924, 885],\n",
       " [61, 89, 6, 75, 15, 884],\n",
       " [1003, 353, 6, 3381, 374, 477, 3657],\n",
       " [13, 144, 116, 559, 272, 14, 605, 2557, 75, 6],\n",
       " [67, 86, 163, 2985, 6, 1061, 62, 84, 7, 14, 10196, 49, 651],\n",
       " [13, 61, 1788, 6, 1061, 1049, 84, 327],\n",
       " [61, 311, 272, 6, 75, 15, 884],\n",
       " [13, 163, 19, 1061, 374, 2846, 84, 651, 407, 4980],\n",
       " [13, 61, 89, 6, 10936, 75, 15, 884],\n",
       " [61, 2006, 16, 75, 15, 884],\n",
       " [417, 965, 27, 1061, 374, 7, 1364, 703, 84, 321],\n",
       " [7104, 1003, 297, 2986, 14, 62, 477, 84, 2667],\n",
       " [61, 543, 272, 6, 75, 15, 884],\n",
       " [163, 297, 1, 894, 4980, 16, 62, 389, 84],\n",
       " [321, 5527, 2, 1236, 19, 1049, 9564],\n",
       " [1049, 135, 1955, 16, 1061, 62, 389, 84],\n",
       " [2025, 2938, 3947, 6, 374, 1857],\n",
       " [97, 163, 1306, 4020],\n",
       " [13, 144, 116, 1411, 2, 3190, 559, 16, 75, 6, 374],\n",
       " [163, 2985, 6, 1061, 374, 84, 204, 4, 10196, 49],\n",
       " [13, 61, 543, 272, 6, 10936, 75, 15, 884],\n",
       " [62, 1857, 2781, 5878, 3177],\n",
       " [1061, 84, 15, 389, 7, 62, 9046, 1003, 163],\n",
       " [61, 1955, 6, 3641, 884, 75],\n",
       " [61, 222, 6, 75, 15, 884],\n",
       " [285, 271, 1, 5072, 1061, 62, 389, 84],\n",
       " [1003, 163, 762, 2609, 16, 374, 2846, 84],\n",
       " [61, 311, 272, 6, 10936, 75, 15, 884],\n",
       " [6521, 224, 580, 5, 391, 9565],\n",
       " [538, 1163, 2915, 10734, 4, 4636],\n",
       " [7104, 2025, 1003, 222, 14, 62, 2846, 369, 2066, 4949, 175],\n",
       " [163, 762, 222, 14, 62, 2066, 785, 965, 67],\n",
       " [13, 61, 311, 272, 6, 10936, 75, 15, 884],\n",
       " [163, 297, 1152, 6, 62, 84, 1149, 965, 3892, 1137],\n",
       " [3, 557, 43, 34, 119, 492],\n",
       " [144, 762, 222, 6, 75, 15, 884],\n",
       " [1003, 163, 353, 1, 4980, 8, 6297, 16, 62, 389, 84, 87, 1061, 477],\n",
       " [61, 272, 6, 75, 15, 884],\n",
       " [61, 311, 272, 2, 401, 559, 6, 285, 271],\n",
       " [13, 144, 116, 2225, 272, 16, 75, 6, 374, 1857],\n",
       " [163, 297, 14, 62, 2066, 785, 965],\n",
       " [121, 61, 3292, 6, 1061, 62, 477, 272, 2811, 4, 389, 175],\n",
       " [13, 144, 116, 485, 6, 8, 1061, 542, 16, 75, 6, 374],\n",
       " [163, 94, 2375, 6, 1061, 374, 477, 84],\n",
       " [1003, 2025, 163, 4454, 1485, 268, 391, 21, 708],\n",
       " [1003, 163, 762, 222, 14, 62, 2066, 785, 965],\n",
       " [163, 762, 821, 89, 6, 62, 2005],\n",
       " [163, 297, 1152, 13, 6, 62, 84],\n",
       " [884, 61, 3292, 6, 62, 477, 84, 3722, 297, 30, 16, 1645],\n",
       " [1049, 135, 272, 14, 62, 477, 84, 1858, 3848],\n",
       " [1049, 61, 3292, 6, 1061, 62, 389, 84],\n",
       " [9049, 13, 1003, 1706, 6, 62, 84, 1149, 965, 3948, 222],\n",
       " [3154, 446, 6521, 2782, 5, 3970, 391],\n",
       " [6521, 580, 5, 1465, 2263, 5, 3, 257, 79],\n",
       " [3154, 174, 6521, 2782, 5, 3970, 391],\n",
       " [3154, 2250, 6521, 580, 5, 1465],\n",
       " [6521, 580, 5, 257, 1465, 2263],\n",
       " [6521, 580, 5, 239, 1465, 2263],\n",
       " [6521, 224, 580, 5, 391, 9565],\n",
       " [6521, 580, 5, 1401, 1465, 2, 34, 149],\n",
       " [67, 34, 3154, 2250, 6521, 580, 5, 1465, 2263],\n",
       " [3154, 2250, 580, 5, 3970, 391, 224],\n",
       " [6298, 6521, 2, 3970, 391],\n",
       " [6521, 3154, 2250, 1056, 56, 3611, 3444, 2, 5146, 580, 5],\n",
       " [6521, 4547, 960, 4146, 2, 6299, 670, 422, 159],\n",
       " [6521, 580, 5, 1465],\n",
       " [3154, 2250, 6521, 580, 5, 1465, 224],\n",
       " [6521, 224, 580, 5, 3970, 391, 9565],\n",
       " [6521, 580, 5, 3970, 391, 2431, 1718, 1114],\n",
       " [6521, 3154, 2250, 580, 5, 1465, 224],\n",
       " [2971, 470, 3154, 2250, 6521, 580, 5, 1465],\n",
       " [5, 3, 257, 79, 2, 34, 149, 6521, 580, 5, 1465],\n",
       " [6521, 580, 5, 1465, 224],\n",
       " [6521, 580, 5, 257, 1465, 2, 361, 149],\n",
       " [3154, 446, 6521, 580, 391, 1465],\n",
       " [100, 39, 4, 6521, 3154, 580, 5, 1465, 5, 3, 257, 79, 2, 361],\n",
       " [6521, 580, 5, 1465, 9565, 5, 257, 79, 2, 34, 149],\n",
       " [6521, 3154, 2250, 580, 5, 1465, 257, 79, 2, 361, 149],\n",
       " [6521, 2902, 684, 6299, 2076, 5, 783, 2280],\n",
       " [1, 8, 6521, 580, 5, 1465, 224],\n",
       " [6521, 580, 5, 3970, 391, 1465, 224],\n",
       " [6521, 580, 257, 391, 6300, 415, 5042],\n",
       " [6521, 580, 5, 5, 1401, 79, 2, 34, 149],\n",
       " [6521, 1270, 159, 6299, 580, 5, 1465, 2263],\n",
       " [3154, 2250, 6521, 56, 4677, 5, 1465],\n",
       " [6521, 244, 8060, 5, 257, 79],\n",
       " [715, 298, 6405, 955, 131, 36, 6521],\n",
       " [6521, 744, 1, 3970, 391, 9],\n",
       " [6521, 224, 819, 1, 343, 1465, 2263],\n",
       " [3154, 2250, 6521, 580, 391, 1465, 5, 257, 79],\n",
       " [1087, 6521, 3154, 2250, 580, 5, 1465],\n",
       " [6521, 935, 580, 5, 1465, 2263, 5, 257, 79, 415, 5042],\n",
       " [6521, 3154, 580, 5, 1465, 224],\n",
       " [3154, 2250, 6521, 580, 5, 1465, 9565, 224],\n",
       " [6299, 3154, 2250, 580, 5, 3970, 391, 1465, 2263, 224],\n",
       " [6299, 422, 159, 2478, 580, 5, 1465],\n",
       " [6521, 3154, 2250, 580, 5, 3970, 391, 1465, 224],\n",
       " [6521, 2173, 1465],\n",
       " [75, 1597, 6521, 12, 8060, 224, 312, 136],\n",
       " [6521, 3154, 2250, 580, 257, 1465, 2, 361, 149],\n",
       " [6521, 1636, 703, 1114, 6522, 580, 5, 1465, 224],\n",
       " [6521, 580, 5, 3970, 391, 1465, 67],\n",
       " [6521, 3154, 2280, 783, 1, 1553, 15, 657, 8060],\n",
       " [6521, 224, 580, 5, 1465],\n",
       " [3154, 2250, 6521, 580, 5, 1465, 8, 257, 79],\n",
       " [6521, 3154, 2250, 580, 5, 3970, 391],\n",
       " [6521, 580, 5, 3970, 391, 9565, 224],\n",
       " [6521, 580, 257, 1465, 14, 6299, 2076],\n",
       " [3154, 2250, 6521, 95, 2, 1465, 159],\n",
       " [6521, 580, 5, 3970, 391, 1465],\n",
       " [6521, 580, 257, 1465, 14, 6299, 2076, 30],\n",
       " [6521, 434, 3454, 5, 391, 1465],\n",
       " [327, 374, 342, 2557, 6, 8],\n",
       " [3536, 75, 67, 74, 35, 292, 1, 214],\n",
       " [374, 342, 327, 2557, 6, 8],\n",
       " [8, 272, 417, 327, 743],\n",
       " [8162, 182, 2972, 2, 401, 477],\n",
       " [90, 1, 4227, 10032, 6, 128],\n",
       " [67, 26, 775, 1317, 3105, 1, 147, 109, 888, 128, 4210, 4424],\n",
       " [775, 2150, 167, 6, 888, 4210],\n",
       " [475, 2828, 3506, 152, 69, 128, 1857],\n",
       " [775, 1317, 3105, 1, 147, 109, 888, 128, 4210, 4424],\n",
       " [555, 390, 5, 28, 13, 2445, 128, 1857],\n",
       " [327, 743, 6980, 61, 2, 915, 1432, 1176],\n",
       " [4773, 6980, 2846, 939, 65, 2751, 15, 3],\n",
       " [6406, 6, 888, 128, 2767, 1362, 5, 555],\n",
       " [327, 1805, 2, 4227, 5, 570, 9, 3, 90],\n",
       " [327, 743, 65, 20, 276, 75, 5, 181, 2445, 128, 3200],\n",
       " [471, 350, 2445, 128, 1, 555, 327, 37, 3, 3414],\n",
       " [465, 65, 60, 13, 6980, 240, 5, 555],\n",
       " [775, 1286, 465, 128, 4210, 167, 6, 859],\n",
       " [9429, 294, 13, 481, 557, 4083, 888],\n",
       " [1224, 3274, 1, 136, 684, 888, 128],\n",
       " [1018, 506, 10530, 154, 9430, 5403, 743],\n",
       " [7633, 327, 269, 20, 8, 1766, 17, 483],\n",
       " [9429, 317, 1, 820, 327, 12, 3983],\n",
       " [269, 261, 104, 3913, 2, 327],\n",
       " [8, 863, 3658, 1, 508, 732, 4, 888, 443],\n",
       " [327, 743, 31, 1472, 557, 717, 19, 555],\n",
       " [327, 743, 6980, 61, 2, 915],\n",
       " [465, 65, 60, 13, 6980, 240, 5],\n",
       " [780, 6, 888, 128, 12, 8, 863],\n",
       " [327, 743, 508, 1787, 672, 1787, 2335, 216],\n",
       " [163, 7, 2445, 128, 14, 6468, 4, 624],\n",
       " [2233, 8, 624],\n",
       " [51, 12, 37, 7, 465, 12, 37, 3, 2596],\n",
       " [557, 2, 3, 327, 1323],\n",
       " [71, 3, 327, 465, 5007, 12, 7634, 605],\n",
       " [4227, 2634, 2408, 3415, 1728, 1, 603, 128, 94, 19, 7708],\n",
       " [28, 4950, 570, 28, 2445, 128, 1, 566, 6, 664, 321, 28],\n",
       " [10738, 24, 1332, 8, 2129, 624, 27, 327, 3, 2712],\n",
       " [780, 6, 888, 128, 1728, 555],\n",
       " [10738, 24, 1332, 8, 2129, 624, 27, 327],\n",
       " [327, 1636, 2693, 1, 3415, 1362, 360, 60],\n",
       " [780, 6, 888, 128, 1728, 555],\n",
       " [6356, 775, 3871, 211, 13, 128, 14, 888, 3689],\n",
       " [775, 2150, 592, 1133, 167, 9, 465],\n",
       " [6980, 1857, 944, 9869],\n",
       " [1096, 555, 833, 1, 13, 5, 2445, 128],\n",
       " [327, 465, 7, 3, 13, 163, 7, 2445, 128],\n",
       " [1006, 165, 6, 3, 6586, 6652],\n",
       " [775, 969, 3454, 1323, 154, 465],\n",
       " [13, 3201, 1, 2846, 28, 6980, 2, 1893, 1, 465, 327, 743],\n",
       " [3, 557, 6468],\n",
       " [775, 2150, 2634, 167, 9, 465, 6, 1836, 592, 1133, 4210, 417],\n",
       " [775, 2150, 167, 6, 10, 888, 4210],\n",
       " [1, 5233, 1006, 649, 3397, 2, 327, 2694, 3, 128, 3369, 6],\n",
       " [6406, 6, 888, 128, 1362, 5, 555],\n",
       " [4569, 6406, 6, 888, 128, 2767, 1362, 5, 555, 25],\n",
       " [1416, 6406, 6, 888, 128, 2767, 1362, 5, 555],\n",
       " [9429, 5652, 1, 327, 10937, 2, 615],\n",
       " [3047, 85, 2, 327],\n",
       " [9429, 294, 568, 3849, 327, 743, 19, 4570, 5653, 5, 163, 995],\n",
       " [6406, 6, 888, 128, 2767, 1362, 5, 555, 1416],\n",
       " [780, 6, 888, 128, 1728, 555, 25],\n",
       " [780, 6, 888, 128, 1728, 555],\n",
       " [7894, 1, 2040, 888, 592, 1133, 128, 4210, 167, 3048],\n",
       " [350, 495, 568, 2818, 13, 1, 2846, 2445, 128, 1, 327, 555],\n",
       " [345, 2322, 2354, 2445, 128, 1, 327],\n",
       " [12, 1073, 839, 3, 327, 743, 1, 879, 2445, 128, 1857, 1, 884],\n",
       " [9429, 294, 130, 7709, 1307, 2621, 104, 741, 9, 51],\n",
       " [882, 1868, 4227, 128, 10032],\n",
       " [557, 321, 2491, 3],\n",
       " [557, 4243, 557, 1969, 109, 753, 2, 10735],\n",
       " [327, 743, 37, 103, 1, 848, 557, 94],\n",
       " [125, 5, 888, 128, 65, 2345, 11, 40],\n",
       " [285, 271, 4290, 90, 1853, 1, 4227, 128, 10032],\n",
       " [300, 10739, 1878, 9, 419],\n",
       " [6144, 9429, 294, 13, 874, 216, 511, 494, 154, 8800],\n",
       " [116, 1324, 4, 4227, 7044],\n",
       " [33, 2828, 3506, 13, 128, 1857, 417, 327, 743],\n",
       " [3415, 506, 327, 4, 128, 2846, 360, 11, 680, 30, 5404, 81],\n",
       " [8162, 182, 297, 11],\n",
       " [8, 272, 6, 327, 2005],\n",
       " [6301, 6],\n",
       " [465, 311, 1, 8448, 9, 90, 6, 327],\n",
       " [1806, 845, 2445, 128, 24, 815, 10938, 4227, 4914],\n",
       " [8, 297, 14, 327, 2178],\n",
       " [24, 223, 3, 1766, 17, 483, 4, 327],\n",
       " [4084, 443, 1861, 1783, 569, 28, 5, 888, 128, 92, 3592, 5695],\n",
       " [1759, 116, 129, 1, 311, 272],\n",
       " [475, 443, 2828, 2265, 5, 13, 2445, 128, 1857],\n",
       " [11, 6, 898, 3, 1140, 1784, 126, 559, 11, 2243, 7708, 13, 1558, 1134],\n",
       " [8, 272, 14, 327, 2178, 603],\n",
       " [480, 121, 3949, 3825, 17, 1, 128, 4804],\n",
       " [807, 3120, 4, 1323, 10193, 4915, 21],\n",
       " [327, 7, 13, 6523, 3, 4085, 8061, 4, 3036, 948, 465],\n",
       " [1096, 527, 13, 128, 1, 360, 6, 465],\n",
       " [8162, 61, 129, 1, 311, 272],\n",
       " [10939, 1323, 6, 465, 65],\n",
       " [1275, 12, 30, 3398, 9297, 948, 465, 7, 327],\n",
       " [294, 671, 390, 5, 1323, 154, 888],\n",
       " [327, 547, 3415, 2538, 7708, 28, 5, 128, 2, 257, 346],\n",
       " [327, 3672, 168, 1114],\n",
       " [110, 25, 327, 1766, 17, 483, 5, 555, 557, 717, 3048],\n",
       " [90, 2, 96, 4914, 1, 4516, 465, 1432],\n",
       " [555, 874, 1766, 17, 1, 10, 3950],\n",
       " [471, 350, 1969, 89, 753, 5, 13, 2445, 128, 2, 327],\n",
       " [67, 26, 471, 350, 1969, 89, 753, 5, 13, 2445, 128, 2, 327],\n",
       " [74, 3951, 9, 465, 7, 327, 4243, 1, 2854, 557, 3705, 2812],\n",
       " [471, 350, 10531, 753, 4, 2445, 128, 717, 2, 327, 743],\n",
       " [181, 2445, 128, 101, 371, 419, 191],\n",
       " [4164, 4, 555, 387, 1, 4571, 860, 4, 2, 327],\n",
       " [327, 11],\n",
       " [186, 1300],\n",
       " [1201, 7, 5147, 45, 109, 116, 4165],\n",
       " [5147, 1, 830, 6242, 4517, 488, 5368, 7254],\n",
       " [5147, 9, 6242, 1, 20, 99, 5368],\n",
       " [1, 3574, 1, 1158, 645, 488, 5368, 237],\n",
       " [163, 297, 1, 894, 4980, 16, 62, 84],\n",
       " [3, 109, 5368, 512, 607, 20, 28, 36, 7, 2365, 1468],\n",
       " [116, 3124, 5147, 83, 488, 5368, 1346, 538, 1163, 2915, 380],\n",
       " [165, 3970, 2, 3, 191, 5368, 7255, 1144],\n",
       " [5147, 474, 39, 1533, 6242, 5, 54],\n",
       " [121, 56, 10, 99, 5368, 14, 5147, 6242, 3574],\n",
       " [5147, 6242, 3574, 1, 174, 99],\n",
       " [6242, 7, 5147, 679, 17, 1, 20, 3, 488, 4, 3, 3850],\n",
       " [131, 443, 4180, 7798, 272],\n",
       " [5147, 7, 3574, 7, 1182, 645, 99, 5368, 7254],\n",
       " [24, 5368, 94, 1955, 6, 512],\n",
       " [121, 56, 10, 99, 5368, 3216, 2998, 5147, 7, 6242, 3574],\n",
       " [5147, 1, 830, 6242, 4517, 488, 5368, 7254, 33],\n",
       " [96, 257, 5368, 3216, 2998, 5147, 7, 6242, 3574],\n",
       " [5147, 7, 6242, 1659, 1, 1182, 99, 5368, 2, 191, 116],\n",
       " [5147, 1, 3574, 9, 10740, 6242],\n",
       " [512, 1942, 4398, 24, 491, 5147, 9, 4843],\n",
       " [5190, 5147, 1518],\n",
       " [109, 512, 2256, 3, 645, 906, 5368, 237],\n",
       " [5147, 1, 1182, 99, 5368, 9, 6242, 512],\n",
       " [5147, 7, 6242, 823, 1, 174, 645, 488, 5368, 701],\n",
       " [5147, 3, 5368, 8801, 9, 3893, 4678, 1, 136, 2365, 1533, 6242, 2, 64, 73],\n",
       " [9, 5147, 6242, 512, 24, 96, 1382, 20, 99, 5368],\n",
       " [67, 5147, 6242, 1760, 4, 4774],\n",
       " [6242, 512, 2256, 5368, 10532],\n",
       " [97, 135, 4, 5147, 1518, 664, 183, 958, 263],\n",
       " [5147, 1, 136, 6242, 1, 1158, 645, 488, 5368, 7254, 1346],\n",
       " [5368, 2998, 5147, 6242, 2131, 1, 30, 512],\n",
       " [5147, 1, 3574, 9, 2365, 3416, 237],\n",
       " [5147, 1518, 664, 2238, 4637, 1, 11, 7635],\n",
       " [5147, 1518, 1211, 6242, 1, 1158, 645, 488, 5368, 8801],\n",
       " [121, 56, 10, 99, 5368, 14, 3216, 2998, 5147, 4, 13, 7, 6242, 4, 555],\n",
       " [121, 56, 10, 99, 5368],\n",
       " [898, 5191, 186, 1868],\n",
       " [99, 5368, 5147, 7, 6242, 1, 3574],\n",
       " [910, 193, 9870, 532, 4227, 557, 10032, 6242, 1],\n",
       " [4398, 1087, 5147, 1, 3574, 9, 2365, 3216, 237],\n",
       " [5147, 9, 6242, 4, 2733, 1, 1182, 645, 906, 5368, 7254],\n",
       " [67, 33, 5147, 7, 6242, 823, 1, 174, 645, 488, 5368, 701],\n",
       " [5147, 6242, 1, 1158, 645, 906, 5368, 237],\n",
       " [1149, 2250, 6724, 15, 5368, 512],\n",
       " [5147, 7, 6242, 1, 1158, 645, 488, 5368, 573],\n",
       " [10, 64, 225, 5147, 645, 99, 5368, 237],\n",
       " [5147, 6242, 512, 2256, 645, 488, 5368, 7254],\n",
       " [6242, 1, 20, 4376, 19, 5147, 1518],\n",
       " [5147, 6242, 512, 1, 1158, 99, 5368, 237],\n",
       " [469, 5147, 512, 1417, 44, 24, 4398, 1852],\n",
       " [5147, 6242, 512, 2256, 645, 906, 5368, 237],\n",
       " [5147, 7, 6242, 3574, 1, 1182, 645, 906, 5368],\n",
       " [3216, 2853, 1, 3574, 7, 2644, 645, 906, 5368, 237],\n",
       " [809, 3, 10, 30, 81, 5368, 3049],\n",
       " [5147, 64, 6926, 645, 488, 5368, 701],\n",
       " [5147, 135, 2208, 14, 6242, 512, 225, 10, 237, 99, 5368],\n",
       " [186, 75, 7, 321, 14, 44, 2645, 268, 119, 21],\n",
       " [5147, 6242, 71, 1, 174, 2733, 8, 5368, 5369],\n",
       " [512, 2256, 645, 488, 5368, 7254],\n",
       " [512, 1, 820, 903, 695, 7],\n",
       " [5147, 6242, 2131, 1, 30, 4086, 81, 512, 64, 1761, 67],\n",
       " [5147, 1, 3574, 9, 6242],\n",
       " [5147, 1518, 664, 183, 999, 1211, 6242, 3275],\n",
       " [6242, 7, 5147, 45, 516, 9566],\n",
       " [5147, 491, 125, 4107, 1211, 6242, 3275, 1, 1158, 3, 906, 5368],\n",
       " [5147, 10740, 6242, 3574, 1182, 99, 5368, 7254],\n",
       " [5147, 9, 4550, 1087, 237],\n",
       " [5147, 7, 6242, 3574, 1, 1158, 645, 906, 5368, 237],\n",
       " [5147, 4600, 6242, 512, 4517, 645, 906, 5368, 7254],\n",
       " [5147, 1, 136, 6242, 4517, 488, 5368, 7254],\n",
       " [5147, 6242, 3574, 1, 2644, 645, 906, 5368, 7254],\n",
       " [6242, 135, 1970, 14, 605, 258, 5, 5147, 64],\n",
       " [321, 10740, 6242, 1, 3574, 9, 5147, 4, 1460, 1402],\n",
       " [5147, 6242, 1, 1, 1158, 99, 5368],\n",
       " [4398, 1087, 5147, 129, 1, 1182, 645, 906, 5368, 7254],\n",
       " [24, 5147, 6242, 512, 2702, 9, 2174],\n",
       " [512, 1, 174, 5147, 645, 488, 5368, 237],\n",
       " [5368, 186, 6242, 197, 512, 9, 1533, 5147],\n",
       " [5147, 9, 6242, 1, 2644, 645, 99, 5368, 701],\n",
       " [99, 5368, 5147, 7, 728, 512],\n",
       " [5147, 7, 6242, 3574, 2, 30, 81, 64],\n",
       " [99, 5368, 5147, 474, 6242],\n",
       " [2365, 701, 1660, 488, 5368, 7254],\n",
       " [5147, 6242, 3574, 1, 2644, 645, 488, 5368, 237],\n",
       " [7, 2572, 1275, 958, 34, 5147, 474, 6242],\n",
       " [99, 5368, 14, 6242, 7, 5147, 3574],\n",
       " [5147, 83, 602, 4, 99, 5368, 237],\n",
       " [97, 5147, 12, 17, 263],\n",
       " [5147, 1518, 664, 12, 17, 2986, 16, 512, 2421],\n",
       " [144, 5147, 6242, 1, 1158, 645, 488, 5368, 701],\n",
       " [5147, 1518, 1, 136, 6242, 1, 2644, 488, 5368, 237],\n",
       " [6242, 1, 3574, 9, 13, 1533],\n",
       " [512, 225, 99, 5368],\n",
       " [491, 51, 6],\n",
       " [5147, 1518, 7, 6242, 728, 512, 1, 1158, 5368, 10532],\n",
       " [6242, 7, 5147, 1, 1158, 488, 5368, 701],\n",
       " [645, 906, 5368, 237, 12, 2370],\n",
       " [5147, 6242, 2131, 1, 30, 4086, 81, 512, 64, 2819, 67],\n",
       " [6242, 1177, 1, 512, 9, 5147],\n",
       " [5147, 10740, 6242, 3574, 1, 2644, 99, 5368, 7254],\n",
       " [6242, 7, 5147, 512, 1, 1158, 645, 906, 5368, 237],\n",
       " [5147, 9, 4843, 1087, 6242, 1, 1158, 645, 99, 5368],\n",
       " [645, 906, 5368, 237, 12, 2370],\n",
       " [5147, 9, 6242, 5569, 24, 20, 2, 4843],\n",
       " [5147, 1518, 1, 3574, 9, 6242, 1, 1158, 5368, 2752],\n",
       " [5147, 7, 6242, 1, 1158, 645, 2558, 5368, 237],\n",
       " [5147, 1518, 1, 136, 2365, 1533],\n",
       " [8934, 3216, 2, 512, 1, 1182, 99, 5368],\n",
       " [99, 5368, 645, 488, 2086, 3399],\n",
       " [103, 380, 5147, 9, 6242, 1, 174, 645, 906, 5368],\n",
       " [5147, 1518, 664, 183, 75, 5147, 1, 136, 6242, 1, 1158],\n",
       " [2733, 6242, 1177, 512, 9, 5147],\n",
       " [5147, 474, 6242, 1, 1158, 645, 488, 5368, 7254],\n",
       " [10, 64, 2256, 645, 906, 5368, 7254],\n",
       " [5147, 6242, 2131, 1, 30, 4086, 81, 512, 64, 1401, 67],\n",
       " [6242, 7, 5147, 1, 1158, 906, 5368, 701],\n",
       " [512, 2256, 645, 99, 5368, 701],\n",
       " [5147, 6242, 2, 30, 4086, 81, 512, 64, 67],\n",
       " [75, 2, 1271, 119, 268, 21],\n",
       " [236, 6242, 197, 512, 9, 1533, 5147],\n",
       " [2853, 1, 3574, 7, 4477, 906, 191, 5368, 701, 2, 2733],\n",
       " [152, 69, 61, 4601, 9, 2622, 3723, 7188, 6, 62, 84],\n",
       " [121, 61, 4518, 163, 1137, 16, 1061, 62, 2846, 84],\n",
       " [121, 61, 4518, 163, 1788, 16, 1061, 62, 2846, 84],\n",
       " [1282, 1425, 62, 135, 3972, 6, 1061, 84],\n",
       " [191, 321, 121, 61, 4518, 163, 1788, 16, 1061, 62, 2846, 84],\n",
       " [486, 7251, 895, 1114, 2656, 57, 2973, 2, 3, 270],\n",
       " [71, 374, 3257, 4596, 3741, 3, 121],\n",
       " [4951, 5482, 374, 61, 89, 119],\n",
       " [121, 61, 4518, 7, 163, 222, 16, 1061, 62, 1857],\n",
       " [62, 6407, 4751, 3257],\n",
       " [191, 321, 121, 61, 4518, 163, 1137, 16, 1061, 62, 2846, 84],\n",
       " [374, 1061, 559, 84, 121, 61],\n",
       " [585, 35, 958, 5234, 62, 262, 61, 4518],\n",
       " [191, 321, 121, 61, 4518, 7, 163, 222, 16, 1061, 62, 1857],\n",
       " [4518, 297, 1, 2077, 232, 248, 6, 62, 917],\n",
       " [191, 321, 121, 61, 4518, 7, 163, 227, 19, 1061, 62, 1857],\n",
       " [3641, 62, 1857, 2791, 61, 9298, 5878],\n",
       " [121, 61, 4518, 7, 163, 227, 19, 1061, 62, 1857],\n",
       " [152, 69, 61, 4601, 9, 2622, 3723, 7188],\n",
       " [765, 5, 752, 1857, 9050],\n",
       " [13, 61, 4601, 9, 2622, 3723, 6, 62, 84],\n",
       " [4518, 4602, 417, 917, 4, 3984, 2, 62],\n",
       " [1061, 62, 1857, 2557, 2, 6, 61, 227, 5878],\n",
       " [61, 3292, 6, 3641, 84],\n",
       " [611, 2846, 84, 438, 1, 752, 1441, 6, 4518],\n",
       " [3257, 353, 154, 16, 374, 1857, 222],\n",
       " [191, 321, 1061, 62, 1857, 2557, 6, 61, 227, 5878],\n",
       " [71, 752, 3257, 3741, 3, 121],\n",
       " [2622, 116, 61, 1137, 9, 5878, 14, 62, 4751],\n",
       " [578, 3, 16, 752, 1227, 440, 1119, 1983],\n",
       " [62, 84, 121, 321, 14, 605, 3177, 36, 1344, 2668],\n",
       " [1061, 374, 477, 84, 262, 61, 7, 7256, 5878],\n",
       " [62, 7189, 37, 1, 3613, 63],\n",
       " [7972, 686, 1597, 884, 6, 752, 1061, 1857, 84],\n",
       " [2893, 547, 1280, 62, 61, 1092, 6, 3724, 248, 10033],\n",
       " [1119, 1983, 743, 2, 62, 51, 70],\n",
       " [2048, 19, 7895, 7565, 7799, 7896],\n",
       " [5749, 4518, 2938, 6, 62, 965],\n",
       " [2928, 123, 1646, 178, 1917],\n",
       " [3641, 374, 1857, 2791, 61, 9298, 5878],\n",
       " [178, 60, 14, 62, 3762],\n",
       " [144, 762, 89, 1388, 2019, 2227, 356, 1599, 205, 5147, 99, 5368],\n",
       " [1282, 1425, 62, 135, 3972, 6, 1061, 84],\n",
       " [7188, 4518, 11, 108, 232, 248, 6, 917, 62, 1317, 65],\n",
       " [62, 56, 206, 2885, 2082],\n",
       " [24, 1983, 7190, 2506, 5, 752, 1168, 321],\n",
       " [5654, 393, 965, 14, 62, 1119, 1998, 1983],\n",
       " [121, 61, 7491, 5878, 222],\n",
       " [61, 5878, 14, 752, 84, 3762],\n",
       " [3641, 62, 1857, 2791, 121, 61, 9298, 5878],\n",
       " [4518, 11, 2077, 232, 2700, 6, 62, 785, 917],\n",
       " [4518, 61, 11, 62, 141, 5, 5370, 114],\n",
       " [1282, 1425, 135, 204, 2986, 272, 6, 62, 477, 84],\n",
       " [22, 24, 1983, 7190, 2506, 5, 752, 1168, 321],\n",
       " [4518, 547, 5043, 222, 14, 2557, 6, 2802],\n",
       " [121, 144, 43, 191, 61, 1137, 6, 7191, 389, 62],\n",
       " [62, 61, 227, 10, 248],\n",
       " [374, 116, 98],\n",
       " [62, 61, 3972, 6, 1061, 84],\n",
       " [752, 2313, 2985, 1, 40, 70, 248, 14, 2846, 2609, 4751, 3257],\n",
       " [4518, 566, 60, 650, 2, 1061, 7188, 125, 262, 171, 2700],\n",
       " [4951, 61, 333, 30, 5483, 1737, 272],\n",
       " [4951, 135, 2, 488, 337, 2, 40, 1420, 16, 62, 84],\n",
       " [752, 2313, 1279, 4037, 1, 339, 70, 248, 6, 2846, 2609],\n",
       " [1282, 859, 3763, 1092],\n",
       " [5749, 4518, 125, 297, 6, 593, 898],\n",
       " [5878, 62, 917, 227, 4518, 163, 5749, 5878, 2609],\n",
       " [39, 4, 10351, 62, 3104],\n",
       " [374, 116, 104],\n",
       " [1282, 1425, 135, 2, 488, 337, 2, 40, 1420, 16, 62, 84],\n",
       " [1890, 373, 2820, 4, 1979, 1282, 1425],\n",
       " [752, 5570, 222, 715, 2, 1618],\n",
       " [5749, 4518, 2938, 40, 1737, 6, 62, 965],\n",
       " [62, 61, 2609, 6, 6855, 703],\n",
       " [5881, 5749, 2781, 11, 333],\n",
       " [62, 192, 3257, 2006, 16, 1857, 1068, 3705, 2987, 2257, 731],\n",
       " [62, 491, 1279, 11, 40, 70, 2280, 248, 6, 3984, 917],\n",
       " [374, 135, 3972, 6, 175, 84, 917],\n",
       " [2, 4518, 125, 650, 374, 477, 84, 8, 3177],\n",
       " [6009, 743, 96, 3894, 743],\n",
       " [62, 61, 222, 131, 2, 2077, 824, 585, 3257, 353, 6, 477],\n",
       " [2438, 4775, 1983, 1308, 2, 62],\n",
       " [62, 135, 3313, 1459, 16, 1061, 84, 89, 34, 726, 1331],\n",
       " [62, 135, 3313, 1459, 16, 1061, 84, 89, 34, 1737],\n",
       " [374, 353, 240, 5, 5749, 283, 2, 9871, 4, 1282, 1425],\n",
       " [2893, 547, 1280, 62, 61, 1092, 6, 3724, 248, 10033, 30],\n",
       " [1137, 2, 1857, 7256, 1308, 2, 374, 175],\n",
       " [1049, 3124, 4518, 125, 297, 6, 62, 175, 965],\n",
       " [1, 566, 1046, 3872, 1, 9431, 16, 1983],\n",
       " [752, 1279, 11, 407, 171, 232, 248, 1282, 1425, 2985, 405],\n",
       " [4518, 4602, 224, 6, 2005, 27, 752, 342],\n",
       " [3, 2539, 1119, 1983, 7, 1088, 4981],\n",
       " [752, 1279, 11, 407, 171, 248, 1282, 1425, 2985, 405],\n",
       " [62, 61, 675, 1280, 11, 2893, 6, 10033],\n",
       " [2684, 2609, 14, 3257, 369, 2280, 1700, 6301, 62, 656],\n",
       " [1282, 1425, 269, 37, 20, 8, 10940, 1722, 5, 8062],\n",
       " [353, 3257],\n",
       " [1049, 135, 1137, 6, 1061, 62, 84],\n",
       " [62, 2846, 1137, 123, 175, 3593, 628, 5, 4982],\n",
       " [3047, 268, 1, 3506, 1, 235, 7],\n",
       " [4290, 25, 3, 29, 1983, 2, 752, 2539, 1119, 116, 12, 3119, 1, 20],\n",
       " [3257, 353, 14, 356, 10941, 155, 19, 131, 415, 279, 2552],\n",
       " [4518, 5528, 762, 19],\n",
       " [62, 2846, 1137, 123, 175, 3593, 628, 5, 4982, 26],\n",
       " [4518, 1411, 9, 1049, 61, 16, 62, 84, 4751],\n",
       " [752, 2313, 4037, 1, 339, 70, 248, 6, 2846, 2609],\n",
       " [1282, 1425, 3673, 135, 639, 5, 38, 232, 248, 14, 62, 1857, 2006],\n",
       " [1282, 1425, 3673, 135, 129, 5, 38, 232, 248, 6, 62, 1857],\n",
       " [109, 369, 2, 374, 1857, 3705, 917],\n",
       " [4518, 1411, 9, 1759, 61, 14, 3722, 762, 163, 369],\n",
       " [144, 8795, 369, 417, 1119, 1983],\n",
       " [374, 1333, 1682, 226, 4, 2108, 846],\n",
       " [62, 175, 3593, 9051, 19, 2123, 1857, 1358, 94],\n",
       " [956, 529, 4701, 3, 2971, 101, 20, 3382],\n",
       " [4518, 4037, 6, 374, 1983],\n",
       " [1119, 1983],\n",
       " [2559, 4916, 1, 311, 17, 116],\n",
       " [4518, 4037, 6, 374, 237, 1983],\n",
       " [374, 477, 3657, 64, 1681, 6469, 1, 1308],\n",
       " [121, 114, 226, 1290, 5103, 27, 62],\n",
       " [62, 9051, 19, 2123, 1857, 1358, 94],\n",
       " [4518, 297, 6, 62, 2457],\n",
       " [752, 1024, 785, 5],\n",
       " [144, 8795, 369, 417, 965, 27, 29, 2539, 1119, 116],\n",
       " [28, 374, 482, 7897, 1282, 1425, 180, 1],\n",
       " [4518, 404, 488, 1137, 415, 5042, 6, 62, 785, 2457],\n",
       " [752, 1857, 4726, 1137, 2, 3105, 1, 1308],\n",
       " [4324, 1406, 1119, 9872, 1, 43, 6470, 621],\n",
       " [4324, 1406, 1119, 9872, 1, 43, 6470, 621, 26],\n",
       " [4324, 1224, 1, 43, 6010],\n",
       " [4324, 1406, 1119, 9872, 1, 43, 6470, 6010],\n",
       " [4324, 220, 4805, 8935, 4679, 5, 7],\n",
       " [67, 30, 5, 13, 93, 43, 4324],\n",
       " [5, 13, 93, 43, 4324],\n",
       " [4324, 1406, 1119, 9872, 1, 43, 6010],\n",
       " [10, 4324, 2494, 4, 7, 216, 3191, 2, 279],\n",
       " [1189, 53, 1597],\n",
       " [1189, 53, 713],\n",
       " [8449, 8802, 6725, 4981, 12, 2, 797, 6011, 1014],\n",
       " [8802, 4179, 1, 20, 2130, 9, 4270],\n",
       " [201, 38, 1189, 8663, 172, 301, 1950, 667, 766, 125, 11],\n",
       " [8802, 201, 38, 4179, 625, 1, 603, 16, 177],\n",
       " [5882, 139, 494, 4455, 2, 2593, 113, 172, 301, 416],\n",
       " [1189, 335, 2, 592, 692, 1956, 1, 1307, 1554, 412],\n",
       " [1189, 6, 201, 38, 1, 104, 4179, 603, 8449, 25],\n",
       " [5882, 220, 1053, 42, 1369, 5, 707, 2, 201, 59],\n",
       " [201, 38, 5882, 8663, 7, 189, 125, 369, 1369, 1, 2635, 89, 924],\n",
       " [1189, 1, 177, 11, 10942, 6, 201, 38],\n",
       " [201, 38, 31, 168, 104, 8553, 1189, 2, 530, 172, 4270],\n",
       " [42, 1189, 65, 20, 8, 102, 8063, 5, 201, 38],\n",
       " [1189, 4727, 172, 5331, 3202, 156, 136, 7, 28, 1605],\n",
       " [1189, 4166, 11, 10942, 4179, 6, 201, 38, 7, 44, 31, 104, 8],\n",
       " [1189, 201, 38, 177, 42, 426, 10034, 29, 2439],\n",
       " [1189, 2288, 11, 10942, 5, 201, 38, 4179, 625, 1, 603],\n",
       " [1189, 24, 603, 4179, 530, 177],\n",
       " [1189, 4478, 11, 10942, 6, 201, 38, 530, 172, 4179, 1],\n",
       " [1189, 5, 52, 218, 187],\n",
       " [5, 1189, 261, 731, 9, 8449, 110, 6587],\n",
       " [42, 201, 38, 1189, 239, 2141, 8553, 2197],\n",
       " [797, 6196, 7800, 521, 5, 1189, 2668],\n",
       " [8344, 1183, 13, 12, 1605, 518, 60, 8, 102, 9, 1491, 4, 1189],\n",
       " [1189, 12, 935, 10942, 6, 201, 38, 37],\n",
       " [1189, 53, 2, 2875],\n",
       " [1189, 230, 3417, 11, 3, 773, 649, 1307, 3, 10197, 258, 10943],\n",
       " [1189, 201, 38, 4179, 760, 1, 20, 10942, 12, 1, 20, 2130],\n",
       " [6145, 104, 235, 1014, 6, 508, 4489, 5882],\n",
       " [1189, 1, 9052, 117, 102, 783, 898, 367],\n",
       " [1189, 790, 896, 11, 8553],\n",
       " [1189, 1053, 172, 1942, 841, 64, 6, 201, 38, 453, 39, 480, 35],\n",
       " [3, 177, 4, 5882, 24, 879, 3, 201, 38, 1, 63, 3125],\n",
       " [2234, 307, 1189, 56, 1240, 2458, 566, 30, 54, 201, 38, 3575],\n",
       " [1189, 53, 201, 38, 2479, 1426],\n",
       " [46, 13, 412, 1189, 5, 201, 38, 613, 490, 67, 7, 236, 27],\n",
       " [101, 797, 5882, 848, 201, 38, 59],\n",
       " [1189, 516, 139, 494, 2142],\n",
       " [201, 38, 1189, 8663, 125, 353, 1, 2220],\n",
       " [1189, 6, 201, 38, 9299, 155, 12, 10352, 3122, 8, 2398, 765, 11, 10942],\n",
       " [53, 1363, 17, 1189, 6, 201, 38, 7, 1426],\n",
       " [75, 1189, 1126, 172, 937, 7, 2988],\n",
       " [8803, 419, 1189, 53],\n",
       " [8449, 220, 1091, 1460, 1189, 515, 2142],\n",
       " [1189, 12, 625, 1, 211, 8, 4179, 2166, 530, 172, 6, 201, 38],\n",
       " [797, 201, 12, 6, 63, 264, 184],\n",
       " [8449, 4270, 1, 603, 201, 38, 8802, 10942, 4179],\n",
       " [1189, 129, 5, 177],\n",
       " [1189, 53, 1597, 125, 2540, 5332, 201, 38, 1426, 5529],\n",
       " [8449, 4603, 8553, 371, 117, 201, 38, 1189],\n",
       " [1189, 201, 38, 4179, 67, 991, 638, 11, 172],\n",
       " [165, 3742, 969, 1950, 9, 1189, 177],\n",
       " [1189, 6, 201, 38, 625, 1, 104, 2792, 4179, 16, 177],\n",
       " [5882, 172, 301, 1998, 88, 3642, 44, 24, 7710, 5371, 24],\n",
       " [136, 1189, 7, 472, 232, 201, 139, 10533, 11, 299, 7, 820, 552],\n",
       " ...]"
      ]
     },
     "execution_count": 180,
     "metadata": {},
     "output_type": "execute_result"
    }
   ],
   "source": [
    "sequence"
   ]
  },
  {
   "cell_type": "code",
   "execution_count": 181,
   "metadata": {},
   "outputs": [],
   "source": [
    "word_index = tokenizer.word_index"
   ]
  },
  {
   "cell_type": "code",
   "execution_count": 182,
   "metadata": {},
   "outputs": [
    {
     "data": {
      "text/plain": [
       "{'to': 1,\n",
       " 'in': 2,\n",
       " 'the': 3,\n",
       " 'of': 4,\n",
       " 'for': 5,\n",
       " 'on': 6,\n",
       " 'and': 7,\n",
       " 'a': 8,\n",
       " 'with': 9,\n",
       " 'new': 10,\n",
       " 'at': 11,\n",
       " 'is': 12,\n",
       " 'us': 13,\n",
       " 'as': 14,\n",
       " 'from': 15,\n",
       " 'after': 16,\n",
       " 'up': 17,\n",
       " 'google': 18,\n",
       " 'by': 19,\n",
       " 'be': 20,\n",
       " '2014': 21,\n",
       " 'video': 22,\n",
       " 'apple': 23,\n",
       " 'will': 24,\n",
       " 'says': 25,\n",
       " '2': 26,\n",
       " 'over': 27,\n",
       " 'more': 28,\n",
       " 'first': 29,\n",
       " '1': 30,\n",
       " 'may': 31,\n",
       " 'samsung': 32,\n",
       " '4': 33,\n",
       " '3': 34,\n",
       " 'you': 35,\n",
       " 'about': 36,\n",
       " 'not': 37,\n",
       " 'one': 38,\n",
       " 'out': 39,\n",
       " '5': 40,\n",
       " 'galaxy': 41,\n",
       " 'microsoft': 42,\n",
       " 'report': 43,\n",
       " 'it': 44,\n",
       " 'are': 45,\n",
       " 'watch': 46,\n",
       " 'facebook': 47,\n",
       " 'kim': 48,\n",
       " 'season': 49,\n",
       " 'day': 50,\n",
       " 'this': 51,\n",
       " 'your': 52,\n",
       " 'review': 53,\n",
       " 'million': 54,\n",
       " 'kardashian': 55,\n",
       " 'has': 56,\n",
       " 'but': 57,\n",
       " \"'the\": 58,\n",
       " 'sales': 59,\n",
       " 'off': 60,\n",
       " 'stocks': 61,\n",
       " 'china': 62,\n",
       " 'its': 63,\n",
       " 'deal': 64,\n",
       " 'could': 65,\n",
       " 'her': 66,\n",
       " 'update': 67,\n",
       " 'star': 68,\n",
       " 's': 69,\n",
       " 'year': 70,\n",
       " 'how': 71,\n",
       " 'study': 72,\n",
       " 'that': 73,\n",
       " 'what': 74,\n",
       " 'news': 75,\n",
       " 'movie': 76,\n",
       " 'amazon': 77,\n",
       " '6': 78,\n",
       " 'time': 79,\n",
       " 'tv': 80,\n",
       " 'billion': 81,\n",
       " 'health': 82,\n",
       " 'now': 83,\n",
       " 'data': 84,\n",
       " 'have': 85,\n",
       " '7': 86,\n",
       " 'show': 87,\n",
       " 'twitter': 88,\n",
       " 'down': 89,\n",
       " 'west': 90,\n",
       " 'android': 91,\n",
       " 'than': 92,\n",
       " 'who': 93,\n",
       " 'prices': 94,\n",
       " 'back': 95,\n",
       " 'no': 96,\n",
       " 'why': 97,\n",
       " 'gets': 98,\n",
       " 'top': 99,\n",
       " 'all': 100,\n",
       " 'can': 101,\n",
       " 'game': 102,\n",
       " 'an': 103,\n",
       " 'get': 104,\n",
       " 'his': 105,\n",
       " 'ebola': 106,\n",
       " 'gm': 107,\n",
       " '8': 108,\n",
       " 'big': 109,\n",
       " 'ceo': 110,\n",
       " 't': 111,\n",
       " 'high': 112,\n",
       " 'trailer': 113,\n",
       " 'week': 114,\n",
       " 'home': 115,\n",
       " 'market': 116,\n",
       " 'into': 117,\n",
       " 'office': 118,\n",
       " '10': 119,\n",
       " 'music': 120,\n",
       " 'world': 121,\n",
       " 'wedding': 122,\n",
       " 'shows': 123,\n",
       " 'man': 124,\n",
       " 'price': 125,\n",
       " 'was': 126,\n",
       " 'kanye': 127,\n",
       " 'gas': 128,\n",
       " 'set': 129,\n",
       " 'i': 130,\n",
       " 'most': 131,\n",
       " 'cancer': 132,\n",
       " '–': 133,\n",
       " 'miley': 134,\n",
       " 'shares': 135,\n",
       " 'buy': 136,\n",
       " 'awards': 137,\n",
       " 'iphone': 138,\n",
       " 'live': 139,\n",
       " 'bank': 140,\n",
       " 'rise': 141,\n",
       " 'change': 142,\n",
       " 'earnings': 143,\n",
       " 'stock': 144,\n",
       " 'dies': 145,\n",
       " 'mobile': 146,\n",
       " 'two': 147,\n",
       " 'app': 148,\n",
       " 'years': 149,\n",
       " 'record': 150,\n",
       " 'film': 151,\n",
       " 'u': 152,\n",
       " 'chris': 153,\n",
       " 'against': 154,\n",
       " 'rate': 155,\n",
       " 'best': 156,\n",
       " \"'\": 157,\n",
       " 's5': 158,\n",
       " 'court': 159,\n",
       " 'vs': 160,\n",
       " 'death': 161,\n",
       " 'justin': 162,\n",
       " 'oil': 163,\n",
       " 'e': 164,\n",
       " 'next': 165,\n",
       " 'climate': 166,\n",
       " 'talks': 167,\n",
       " 'still': 168,\n",
       " 'jay': 169,\n",
       " 'cyrus': 170,\n",
       " '9': 171,\n",
       " 'release': 172,\n",
       " 'episode': 173,\n",
       " 'make': 174,\n",
       " 'growth': 175,\n",
       " 'bieber': 176,\n",
       " 'launch': 177,\n",
       " 'risk': 178,\n",
       " 'profit': 179,\n",
       " 'men': 180,\n",
       " 'american': 181,\n",
       " 'dollar': 182,\n",
       " 'inc': 183,\n",
       " 'life': 184,\n",
       " 'internet': 185,\n",
       " 'business': 186,\n",
       " 'phone': 187,\n",
       " 'free': 188,\n",
       " 'uk': 189,\n",
       " 'like': 190,\n",
       " 'global': 191,\n",
       " 'rates': 192,\n",
       " 'recalls': 193,\n",
       " 'users': 194,\n",
       " 'just': 195,\n",
       " 'higher': 196,\n",
       " 'announces': 197,\n",
       " 'box': 198,\n",
       " 'recall': 199,\n",
       " 'z': 200,\n",
       " 'xbox': 201,\n",
       " 'recap': 202,\n",
       " 'case': 203,\n",
       " 'end': 204,\n",
       " 'pay': 205,\n",
       " 'or': 206,\n",
       " 'future': 207,\n",
       " 'reveals': 208,\n",
       " 'glass': 209,\n",
       " 'finale': 210,\n",
       " 'see': 211,\n",
       " 'dead': 212,\n",
       " 'virus': 213,\n",
       " 'know': 214,\n",
       " 'fed': 215,\n",
       " 'take': 216,\n",
       " 'look': 217,\n",
       " 'windows': 218,\n",
       " 'ipad': 219,\n",
       " 'launches': 220,\n",
       " 'smartphone': 221,\n",
       " 'fall': 222,\n",
       " 'america': 223,\n",
       " 'again': 224,\n",
       " 'makes': 225,\n",
       " 'ahead': 226,\n",
       " 'hit': 227,\n",
       " 'april': 228,\n",
       " 'thrones': 229,\n",
       " 'takes': 230,\n",
       " 'found': 231,\n",
       " 'month': 232,\n",
       " 'euro': 233,\n",
       " 'people': 234,\n",
       " 'their': 235,\n",
       " \"it's\": 236,\n",
       " 'company': 237,\n",
       " 'jobs': 238,\n",
       " 'another': 239,\n",
       " 'plans': 240,\n",
       " 'cars': 241,\n",
       " 'mers': 242,\n",
       " 'tesla': 243,\n",
       " 'goes': 244,\n",
       " 'help': 245,\n",
       " 'baby': 246,\n",
       " 'beats': 247,\n",
       " 'low': 248,\n",
       " 'air': 249,\n",
       " 'tour': 250,\n",
       " 'reports': 251,\n",
       " 'coming': 252,\n",
       " 'car': 253,\n",
       " 'service': 254,\n",
       " 'wars': 255,\n",
       " 'tech': 256,\n",
       " 'second': 257,\n",
       " 'go': 258,\n",
       " 'photo': 259,\n",
       " 'before': 260,\n",
       " 'we': 261,\n",
       " 'hits': 262,\n",
       " 'today': 263,\n",
       " 'last': 264,\n",
       " 'gold': 265,\n",
       " 'beyonce': 266,\n",
       " 'photos': 267,\n",
       " 'march': 268,\n",
       " 'should': 269,\n",
       " 'red': 270,\n",
       " 'street': 271,\n",
       " 'lower': 272,\n",
       " 'say': 273,\n",
       " 'michael': 274,\n",
       " 'percent': 275,\n",
       " 'good': 276,\n",
       " 'fire': 277,\n",
       " 'stars': 278,\n",
       " 'july': 279,\n",
       " 'june': 280,\n",
       " 'drug': 281,\n",
       " 'during': 282,\n",
       " 'ipo': 283,\n",
       " 'htc': 284,\n",
       " 'wall': 285,\n",
       " 'york': 286,\n",
       " 'some': 287,\n",
       " \"thrones'\": 288,\n",
       " 'he': 289,\n",
       " 'finds': 290,\n",
       " \"'game\": 291,\n",
       " 'need': 292,\n",
       " 'fight': 293,\n",
       " 'paul': 294,\n",
       " '2015': 295,\n",
       " 'security': 296,\n",
       " 'falls': 297,\n",
       " 'things': 298,\n",
       " 'target': 299,\n",
       " 'obama': 300,\n",
       " 'date': 301,\n",
       " 'ecb': 302,\n",
       " 'do': 303,\n",
       " 'tax': 304,\n",
       " 'test': 305,\n",
       " 'results': 306,\n",
       " 'claims': 307,\n",
       " 'wants': 308,\n",
       " 'rises': 309,\n",
       " 'love': 310,\n",
       " 'open': 311,\n",
       " 'latest': 312,\n",
       " 'ford': 313,\n",
       " 'other': 314,\n",
       " 'online': 315,\n",
       " 'she': 316,\n",
       " 'plan': 317,\n",
       " 'old': 318,\n",
       " 'net': 319,\n",
       " 'heartbleed': 320,\n",
       " 'markets': 321,\n",
       " 'inflation': 322,\n",
       " 'search': 323,\n",
       " 'gives': 324,\n",
       " 'state': 325,\n",
       " 'blood': 326,\n",
       " 'ukraine': 327,\n",
       " 'did': 328,\n",
       " 'weekend': 329,\n",
       " 'space': 330,\n",
       " 'use': 331,\n",
       " 'nasa': 332,\n",
       " 'close': 333,\n",
       " 'selena': 334,\n",
       " 'fans': 335,\n",
       " 'lindsay': 336,\n",
       " 'loss': 337,\n",
       " 'days': 338,\n",
       " 'five': 339,\n",
       " 'so': 340,\n",
       " '—': 341,\n",
       " 'economy': 342,\n",
       " 'under': 343,\n",
       " 'outbreak': 344,\n",
       " \"don't\": 345,\n",
       " 'quarter': 346,\n",
       " 'cast': 347,\n",
       " 'netflix': 348,\n",
       " 'fda': 349,\n",
       " 'house': 350,\n",
       " 'bid': 351,\n",
       " 'age': 352,\n",
       " 'drops': 353,\n",
       " 'george': 354,\n",
       " 'actor': 355,\n",
       " 'cuts': 356,\n",
       " 'gains': 357,\n",
       " 'due': 358,\n",
       " 'expected': 359,\n",
       " 'cut': 360,\n",
       " 'three': 361,\n",
       " 'heart': 362,\n",
       " 'list': 363,\n",
       " 'james': 364,\n",
       " 'north': 365,\n",
       " 'album': 366,\n",
       " 'night': 367,\n",
       " 'mortgage': 368,\n",
       " 'drop': 369,\n",
       " 'com': 370,\n",
       " 'support': 371,\n",
       " 'sex': 372,\n",
       " 'general': 373,\n",
       " 'chinese': 374,\n",
       " 'airlines': 375,\n",
       " 'unveils': 376,\n",
       " 'family': 377,\n",
       " 'real': 378,\n",
       " 'earth': 379,\n",
       " 'offer': 380,\n",
       " 'surface': 381,\n",
       " 'director': 382,\n",
       " 'x': 383,\n",
       " '0': 384,\n",
       " 'battle': 385,\n",
       " 'being': 386,\n",
       " 'offers': 387,\n",
       " 'series': 388,\n",
       " 'japan': 389,\n",
       " 'calls': 390,\n",
       " '11': 391,\n",
       " 'planet': 392,\n",
       " 'voice': 393,\n",
       " 'lohan': 394,\n",
       " 'mtv': 395,\n",
       " 'gomez': 396,\n",
       " 'ban': 397,\n",
       " 'scientists': 398,\n",
       " 'flight': 399,\n",
       " 'final': 400,\n",
       " 'early': 401,\n",
       " 'nokia': 402,\n",
       " 'p': 403,\n",
       " 'posts': 404,\n",
       " 'too': 405,\n",
       " 'singer': 406,\n",
       " 'near': 407,\n",
       " 'king': 408,\n",
       " 'if': 409,\n",
       " 'malaysia': 410,\n",
       " 'sony': 411,\n",
       " 'play': 412,\n",
       " 'arrested': 413,\n",
       " 'lg': 414,\n",
       " 'since': 415,\n",
       " 'revealed': 416,\n",
       " 'amid': 417,\n",
       " 'missing': 418,\n",
       " 'our': 419,\n",
       " 'public': 420,\n",
       " 'confirms': 421,\n",
       " 'food': 422,\n",
       " 'streaming': 423,\n",
       " 'made': 424,\n",
       " 'met': 425,\n",
       " 'releases': 426,\n",
       " 'wins': 427,\n",
       " 'ice': 428,\n",
       " 'blackberry': 429,\n",
       " 'un': 430,\n",
       " 'reality': 431,\n",
       " 'way': 432,\n",
       " \"google's\": 433,\n",
       " 'reportedly': 434,\n",
       " 'better': 435,\n",
       " 'martin': 436,\n",
       " '100': 437,\n",
       " 'adds': 438,\n",
       " 'plane': 439,\n",
       " 'ever': 440,\n",
       " 'book': 441,\n",
       " 'pro': 442,\n",
       " 'european': 443,\n",
       " 'rules': 444,\n",
       " 'spoilers': 445,\n",
       " 'maker': 446,\n",
       " '20': 447,\n",
       " 'care': 448,\n",
       " 'despite': 449,\n",
       " 'q1': 450,\n",
       " 'india': 451,\n",
       " 'official': 452,\n",
       " 'find': 453,\n",
       " 'ios': 454,\n",
       " \"won't\": 455,\n",
       " 'full': 456,\n",
       " 'alibaba': 457,\n",
       " 'return': 458,\n",
       " \"here's\": 459,\n",
       " 'released': 460,\n",
       " \"apple's\": 461,\n",
       " 'bad': 462,\n",
       " 'face': 463,\n",
       " 'features': 464,\n",
       " 'russia': 465,\n",
       " 'woman': 466,\n",
       " 'co': 467,\n",
       " 'water': 468,\n",
       " 'does': 469,\n",
       " 'stop': 470,\n",
       " 'white': 471,\n",
       " '12': 472,\n",
       " 'sale': 473,\n",
       " 'buys': 474,\n",
       " 'four': 475,\n",
       " 'debut': 476,\n",
       " 'trade': 477,\n",
       " 'motors': 478,\n",
       " 'cases': 479,\n",
       " 'when': 480,\n",
       " 'anti': 481,\n",
       " 'women': 482,\n",
       " 'call': 483,\n",
       " 'premiere': 484,\n",
       " 'opens': 485,\n",
       " 'major': 486,\n",
       " 'spider': 487,\n",
       " 'biggest': 488,\n",
       " 'yellen': 489,\n",
       " 'here': 490,\n",
       " 'share': 491,\n",
       " '14': 492,\n",
       " 'consumer': 493,\n",
       " 'action': 494,\n",
       " 'bill': 495,\n",
       " 'california': 496,\n",
       " 'available': 497,\n",
       " 'mh370': 498,\n",
       " 'fox': 499,\n",
       " 'start': 500,\n",
       " 'finally': 501,\n",
       " 'girl': 502,\n",
       " 'festival': 503,\n",
       " 'mars': 504,\n",
       " 'revenue': 505,\n",
       " 'warns': 506,\n",
       " 'brown': 507,\n",
       " 'long': 508,\n",
       " 'lead': 509,\n",
       " 'iraq': 510,\n",
       " 'strong': 511,\n",
       " 'merger': 512,\n",
       " 'government': 513,\n",
       " 'raises': 514,\n",
       " 'story': 515,\n",
       " 'getting': 516,\n",
       " '500': 517,\n",
       " '50': 518,\n",
       " 'comcast': 519,\n",
       " 'win': 520,\n",
       " 'store': 521,\n",
       " 'soon': 522,\n",
       " 'cover': 523,\n",
       " 'nearly': 524,\n",
       " 'young': 525,\n",
       " 'own': 526,\n",
       " 'want': 527,\n",
       " 'issues': 528,\n",
       " 'money': 529,\n",
       " 'post': 530,\n",
       " 'oculus': 531,\n",
       " 'vehicles': 532,\n",
       " 'chief': 533,\n",
       " 'city': 534,\n",
       " 'crash': 535,\n",
       " 'harris': 536,\n",
       " 'wife': 537,\n",
       " 'ebay': 538,\n",
       " 'apps': 539,\n",
       " 'late': 540,\n",
       " 'jennifer': 541,\n",
       " 'note': 542,\n",
       " 'move': 543,\n",
       " 'nasdaq': 544,\n",
       " 'hospital': 545,\n",
       " 'gay': 546,\n",
       " 'sees': 547,\n",
       " 'looks': 548,\n",
       " 'jump': 549,\n",
       " \"men'\": 550,\n",
       " 'mark': 551,\n",
       " '30': 552,\n",
       " 'probe': 553,\n",
       " 'neutrality': 554,\n",
       " 'europe': 555,\n",
       " 'ex': 556,\n",
       " 'energy': 557,\n",
       " 'games': 558,\n",
       " 'trading': 559,\n",
       " 'easter': 560,\n",
       " 'amazing': 561,\n",
       " 'party': 562,\n",
       " 'kids': 563,\n",
       " 'auto': 564,\n",
       " 'bug': 565,\n",
       " 'sell': 566,\n",
       " 'they': 567,\n",
       " 'would': 568,\n",
       " 'much': 569,\n",
       " 'power': 570,\n",
       " 'fcc': 571,\n",
       " 'following': 572,\n",
       " 'group': 573,\n",
       " 'ibm': 574,\n",
       " 'yahoo': 575,\n",
       " 'moon': 576,\n",
       " 'unemployment': 577,\n",
       " 'past': 578,\n",
       " 'jimmy': 579,\n",
       " 'files': 580,\n",
       " 'williams': 581,\n",
       " 'safety': 582,\n",
       " 'seth': 583,\n",
       " 'dow': 584,\n",
       " 'while': 585,\n",
       " 'trial': 586,\n",
       " 'patent': 587,\n",
       " 'former': 588,\n",
       " \"'star\": 589,\n",
       " 'little': 590,\n",
       " 'disease': 591,\n",
       " 'south': 592,\n",
       " 'black': 593,\n",
       " 'job': 594,\n",
       " 'tops': 595,\n",
       " 'obamacare': 596,\n",
       " 'police': 597,\n",
       " 'john': 598,\n",
       " 'got': 599,\n",
       " 'only': 600,\n",
       " 'linked': 601,\n",
       " 'part': 602,\n",
       " 'increase': 603,\n",
       " 'david': 604,\n",
       " 'investors': 605,\n",
       " 'cannes': 606,\n",
       " 'might': 607,\n",
       " 'jolie': 608,\n",
       " 'been': 609,\n",
       " 'among': 610,\n",
       " 'officials': 611,\n",
       " 'brings': 612,\n",
       " 'right': 613,\n",
       " 'view': 614,\n",
       " 'possible': 615,\n",
       " 'mini': 616,\n",
       " 'outlook': 617,\n",
       " 'sequel': 618,\n",
       " 'friday': 619,\n",
       " '15': 620,\n",
       " 'breach': 621,\n",
       " 'attack': 622,\n",
       " 'scott': 623,\n",
       " 'war': 624,\n",
       " 'likely': 625,\n",
       " 'hbo': 626,\n",
       " 'six': 627,\n",
       " 'challenge': 628,\n",
       " 'lawsuit': 629,\n",
       " 'robin': 630,\n",
       " 'french': 631,\n",
       " 'angelina': 632,\n",
       " 'faces': 633,\n",
       " 'medical': 634,\n",
       " 'media': 635,\n",
       " 'where': 636,\n",
       " 'cost': 637,\n",
       " 'ready': 638,\n",
       " 'head': 639,\n",
       " 'summer': 640,\n",
       " 'cancels': 641,\n",
       " 'work': 642,\n",
       " 'coachella': 643,\n",
       " 'm8': 644,\n",
       " \"world's\": 645,\n",
       " 'tonight': 646,\n",
       " 'jet': 647,\n",
       " 'bet': 648,\n",
       " 'really': 649,\n",
       " 'continues': 650,\n",
       " 'ends': 651,\n",
       " 'split': 652,\n",
       " 'supreme': 653,\n",
       " 'county': 654,\n",
       " 'driving': 655,\n",
       " 'credit': 656,\n",
       " 'going': 657,\n",
       " 'winter': 658,\n",
       " 'feature': 659,\n",
       " \"2'\": 660,\n",
       " 'buying': 661,\n",
       " 'behind': 662,\n",
       " 'tablet': 663,\n",
       " 'international': 664,\n",
       " 'gwyneth': 665,\n",
       " 'interest': 666,\n",
       " 'pre': 667,\n",
       " 'johnny': 668,\n",
       " 'hollywood': 669,\n",
       " 'st': 670,\n",
       " 'ryan': 671,\n",
       " 'short': 672,\n",
       " 'manufacturing': 673,\n",
       " 'pfizer': 674,\n",
       " 'seen': 675,\n",
       " 'ignition': 676,\n",
       " 'pregnant': 677,\n",
       " 'federal': 678,\n",
       " 'team': 679,\n",
       " 'usd': 680,\n",
       " 'colbert': 681,\n",
       " 'joins': 682,\n",
       " 'tab': 683,\n",
       " 'less': 684,\n",
       " 'half': 685,\n",
       " 'morning': 686,\n",
       " 'details': 687,\n",
       " 'had': 688,\n",
       " 'social': 689,\n",
       " 'recalled': 690,\n",
       " 'keep': 691,\n",
       " 'africa': 692,\n",
       " 'robert': 693,\n",
       " 'banks': 694,\n",
       " 'through': 695,\n",
       " 'zac': 696,\n",
       " 'cdc': 697,\n",
       " '16': 698,\n",
       " 'yet': 699,\n",
       " 'warner': 700,\n",
       " 'firm': 701,\n",
       " \"l'wren\": 702,\n",
       " 'economic': 703,\n",
       " '18': 704,\n",
       " 'rumors': 705,\n",
       " 'production': 706,\n",
       " 'boost': 707,\n",
       " 'forecast': 708,\n",
       " 'model': 709,\n",
       " 'third': 710,\n",
       " 'deaths': 711,\n",
       " 'andi': 712,\n",
       " 'my': 713,\n",
       " 'harry': 714,\n",
       " '13': 715,\n",
       " 'birthday': 716,\n",
       " 'policy': 717,\n",
       " 'devices': 718,\n",
       " 'settlement': 719,\n",
       " 'child': 720,\n",
       " 'president': 721,\n",
       " 'texas': 722,\n",
       " \"facebook's\": 723,\n",
       " 'autism': 724,\n",
       " 'fast': 725,\n",
       " 'per': 726,\n",
       " '25': 727,\n",
       " 'announce': 728,\n",
       " 'specs': 729,\n",
       " 'dancing': 730,\n",
       " 'talk': 731,\n",
       " 'run': 732,\n",
       " 'bachelorette': 733,\n",
       " 'efron': 734,\n",
       " 'instagram': 735,\n",
       " 'toyota': 736,\n",
       " 'bring': 737,\n",
       " 'smart': 738,\n",
       " 'paltrow': 739,\n",
       " 'preview': 740,\n",
       " 'away': 741,\n",
       " 'mother': 742,\n",
       " 'crisis': 743,\n",
       " 'returns': 744,\n",
       " 'customers': 745,\n",
       " 'children': 746,\n",
       " 'working': 747,\n",
       " 'rock': 748,\n",
       " 'shower': 749,\n",
       " 'q2': 750,\n",
       " 'smith': 751,\n",
       " \"china's\": 752,\n",
       " 'role': 753,\n",
       " 'law': 754,\n",
       " 'teen': 755,\n",
       " 'marijuana': 756,\n",
       " 'astrazeneca': 757,\n",
       " 'key': 758,\n",
       " 'worst': 759,\n",
       " 'confirmed': 760,\n",
       " 'meteor': 761,\n",
       " 'futures': 762,\n",
       " 'judge': 763,\n",
       " 'sign': 764,\n",
       " 'even': 765,\n",
       " 'order': 766,\n",
       " 'barclays': 767,\n",
       " 'orders': 768,\n",
       " 'jackson': 769,\n",
       " 'beyoncé': 770,\n",
       " 'many': 771,\n",
       " 'kate': 772,\n",
       " 'cloud': 773,\n",
       " 'network': 774,\n",
       " 'eu': 775,\n",
       " 'host': 776,\n",
       " 'rolling': 777,\n",
       " 'services': 778,\n",
       " 'companies': 779,\n",
       " 'german': 780,\n",
       " \"alzheimer's\": 781,\n",
       " 'ad': 782,\n",
       " 'stores': 783,\n",
       " 'leaked': 784,\n",
       " 'demand': 785,\n",
       " 'charges': 786,\n",
       " 'announced': 787,\n",
       " 'lady': 788,\n",
       " 'area': 789,\n",
       " \"doesn't\": 790,\n",
       " \"mcdonald's\": 791,\n",
       " 'project': 792,\n",
       " \"voice'\": 793,\n",
       " 'cigarettes': 794,\n",
       " 'system': 795,\n",
       " 'camera': 796,\n",
       " \"microsoft's\": 797,\n",
       " 'wear': 798,\n",
       " 'control': 799,\n",
       " 'workers': 800,\n",
       " 'mad': 801,\n",
       " 'prime': 802,\n",
       " 'concert': 803,\n",
       " 'ftc': 804,\n",
       " 'satellite': 805,\n",
       " 'johnson': 806,\n",
       " 'making': 807,\n",
       " 'acquisition': 808,\n",
       " 'meet': 809,\n",
       " 'g': 810,\n",
       " 'mixed': 811,\n",
       " 'without': 812,\n",
       " 'estimates': 813,\n",
       " 'pharrell': 814,\n",
       " 'never': 815,\n",
       " 'sets': 816,\n",
       " \"'i\": 817,\n",
       " 'brad': 818,\n",
       " 'seeks': 819,\n",
       " 'save': 820,\n",
       " 'inch': 821,\n",
       " 'school': 822,\n",
       " 'join': 823,\n",
       " 'months': 824,\n",
       " 'friends': 825,\n",
       " 'profits': 826,\n",
       " 'jenner': 827,\n",
       " 'walking': 828,\n",
       " 'nick': 829,\n",
       " 'acquire': 830,\n",
       " 'technology': 831,\n",
       " 'mccarthy': 832,\n",
       " 'turns': 833,\n",
       " 'come': 834,\n",
       " 'web': 835,\n",
       " 'give': 836,\n",
       " 'signs': 837,\n",
       " 'changes': 838,\n",
       " 'using': 839,\n",
       " 'national': 840,\n",
       " 'great': 841,\n",
       " 'gear': 842,\n",
       " 'morgan': 843,\n",
       " 'warming': 844,\n",
       " 'states': 845,\n",
       " 'deadline': 846,\n",
       " 'gain': 847,\n",
       " 'raise': 848,\n",
       " \"can't\": 849,\n",
       " 'leads': 850,\n",
       " 'j': 851,\n",
       " '3d': 852,\n",
       " 'stephen': 853,\n",
       " 'emma': 854,\n",
       " 'name': 855,\n",
       " 'de': 856,\n",
       " 'researchers': 857,\n",
       " 'c': 858,\n",
       " 'hold': 859,\n",
       " 'treatment': 860,\n",
       " 'hot': 861,\n",
       " 'research': 862,\n",
       " 'threat': 863,\n",
       " 'secret': 864,\n",
       " 'giant': 865,\n",
       " 'dress': 866,\n",
       " \"'x\": 867,\n",
       " 'switch': 868,\n",
       " 'alert': 869,\n",
       " 'selling': 870,\n",
       " 'continue': 871,\n",
       " 'disney': 872,\n",
       " 'solange': 873,\n",
       " 'must': 874,\n",
       " 'moves': 875,\n",
       " 'digital': 876,\n",
       " \"stars'\": 877,\n",
       " 'denies': 878,\n",
       " 'push': 879,\n",
       " 'married': 880,\n",
       " 'josh': 881,\n",
       " 'daily': 882,\n",
       " 'mom': 883,\n",
       " 'asia': 884,\n",
       " 'together': 885,\n",
       " 'exchange': 886,\n",
       " 'virtual': 887,\n",
       " 'russian': 888,\n",
       " 'rare': 889,\n",
       " 'comes': 890,\n",
       " 'comments': 891,\n",
       " 'begins': 892,\n",
       " 'guilty': 893,\n",
       " 'around': 894,\n",
       " 'stage': 895,\n",
       " 'display': 896,\n",
       " 'jessica': 897,\n",
       " 'monday': 898,\n",
       " 'jobless': 899,\n",
       " 'retail': 900,\n",
       " 'directv': 901,\n",
       " 'bitcoin': 902,\n",
       " 'millions': 903,\n",
       " 'youtube': 904,\n",
       " 'true': 905,\n",
       " 'largest': 906,\n",
       " 'movies': 907,\n",
       " 'la': 908,\n",
       " 'costs': 909,\n",
       " 'chrysler': 910,\n",
       " 'eyes': 911,\n",
       " 'named': 912,\n",
       " 'capital': 913,\n",
       " 'mila': 914,\n",
       " 'focus': 915,\n",
       " 'tests': 916,\n",
       " 'fears': 917,\n",
       " 'privacy': 918,\n",
       " 'prince': 919,\n",
       " 'museum': 920,\n",
       " 'actress': 921,\n",
       " 'forex': 922,\n",
       " 'brain': 923,\n",
       " 'ps4': 924,\n",
       " 'dr': 925,\n",
       " 'helps': 926,\n",
       " 'sues': 927,\n",
       " 'names': 928,\n",
       " 'beat': 929,\n",
       " 'weight': 930,\n",
       " 'spread': 931,\n",
       " 'deadly': 932,\n",
       " 'captain': 933,\n",
       " 'foods': 934,\n",
       " 'officially': 935,\n",
       " 'rogen': 936,\n",
       " 'times': 937,\n",
       " 'board': 938,\n",
       " 'industry': 939,\n",
       " 'questions': 940,\n",
       " 'huge': 941,\n",
       " 'discovered': 942,\n",
       " 'taylor': 943,\n",
       " 'self': 944,\n",
       " 'happy': 945,\n",
       " 'allergan': 946,\n",
       " 'dating': 947,\n",
       " 'between': 948,\n",
       " 'tells': 949,\n",
       " 'song': 950,\n",
       " 'xp': 951,\n",
       " 'neil': 952,\n",
       " 'shot': 953,\n",
       " 'bell': 954,\n",
       " 'miss': 955,\n",
       " 'travel': 956,\n",
       " 'charged': 957,\n",
       " 'were': 958,\n",
       " 'screen': 959,\n",
       " 'leaves': 960,\n",
       " 'superman': 961,\n",
       " 'apologizes': 962,\n",
       " 'electric': 963,\n",
       " 'imf': 964,\n",
       " 'concerns': 965,\n",
       " 'investigation': 966,\n",
       " 'device': 967,\n",
       " \"kardashian's\": 968,\n",
       " 'starts': 969,\n",
       " 'daughter': 970,\n",
       " 'level': 971,\n",
       " 'san': 972,\n",
       " 'idol': 973,\n",
       " 'rolf': 974,\n",
       " 'americans': 975,\n",
       " 'tweets': 976,\n",
       " 'comic': 977,\n",
       " 'performance': 978,\n",
       " 'harrison': 979,\n",
       " 'stone': 980,\n",
       " '17': 981,\n",
       " 'boy': 982,\n",
       " 'khloe': 983,\n",
       " 'kunis': 984,\n",
       " 'aereo': 985,\n",
       " 'v': 986,\n",
       " 'clooney': 987,\n",
       " \"'mad\": 988,\n",
       " 'celebrates': 989,\n",
       " 'station': 990,\n",
       " \"isn't\": 991,\n",
       " 'small': 992,\n",
       " 'problem': 993,\n",
       " 'tribute': 994,\n",
       " 'because': 995,\n",
       " 'sells': 996,\n",
       " 'wwe': 997,\n",
       " 'line': 998,\n",
       " 'nyse': 999,\n",
       " 'marriage': 1000,\n",
       " ...}"
      ]
     },
     "execution_count": 182,
     "metadata": {},
     "output_type": "execute_result"
    }
   ],
   "source": [
    "word_index"
   ]
  },
  {
   "cell_type": "code",
   "execution_count": 183,
   "metadata": {},
   "outputs": [
    {
     "name": "stdout",
     "output_type": "stream",
     "text": [
      "Found 75583 unique tokens.\n"
     ]
    }
   ],
   "source": [
    "print('Found %s unique tokens.' % len(word_index))"
   ]
  },
  {
   "cell_type": "markdown",
   "metadata": {},
   "source": [
    "#### This function transforms a list (of length num_samples ) of sequences (lists of integers) into a 2D Numpy array of shape (num_samples, num_timesteps) .\n",
    "#### Sequences longer than num_timesteps are truncated so that they fit the desired length"
   ]
  },
  {
   "cell_type": "code",
   "execution_count": 184,
   "metadata": {},
   "outputs": [],
   "source": [
    "?pad_sequences"
   ]
  },
  {
   "cell_type": "code",
   "execution_count": 185,
   "metadata": {},
   "outputs": [],
   "source": [
    "X = pad_sequences(sequence , maxlen = max_len)"
   ]
  },
  {
   "cell_type": "code",
   "execution_count": 186,
   "metadata": {},
   "outputs": [
    {
     "data": {
      "text/plain": [
       "array([[    0,     0,     0, ...,    37,  1410,  7893],\n",
       "       [    0,     0,     0, ...,  2397,     4, 10733],\n",
       "       [    0,     0,     0, ...,  1527,    11, 10733],\n",
       "       ...,\n",
       "       [    0,     0,     0, ...,  1866,    11, 10563],\n",
       "       [    0,     0,     0, ...,  6363,    34,  3874],\n",
       "       [    0,     0,     0, ...,  1563,    34,  4752]])"
      ]
     },
     "execution_count": 186,
     "metadata": {},
     "output_type": "execute_result"
    }
   ],
   "source": [
    "X"
   ]
  },
  {
   "cell_type": "code",
   "execution_count": 187,
   "metadata": {},
   "outputs": [],
   "source": [
    "x_train, x_test, y_train, y_test = train_test_split(X , news_labels, test_size=0.2, random_state=42, stratify = news.CATEGORY)"
   ]
  },
  {
   "cell_type": "code",
   "execution_count": 188,
   "metadata": {},
   "outputs": [
    {
     "data": {
      "text/plain": [
       "(422419, 130)"
      ]
     },
     "execution_count": 188,
     "metadata": {},
     "output_type": "execute_result"
    }
   ],
   "source": [
    "X.shape"
   ]
  },
  {
   "cell_type": "code",
   "execution_count": 189,
   "metadata": {},
   "outputs": [
    {
     "data": {
      "text/plain": [
       "(337935, 130)"
      ]
     },
     "execution_count": 189,
     "metadata": {},
     "output_type": "execute_result"
    }
   ],
   "source": [
    "x_train.shape"
   ]
  },
  {
   "cell_type": "code",
   "execution_count": 190,
   "metadata": {},
   "outputs": [
    {
     "data": {
      "text/plain": [
       "(84484, 130)"
      ]
     },
     "execution_count": 190,
     "metadata": {},
     "output_type": "execute_result"
    }
   ],
   "source": [
    "x_test.shape"
   ]
  },
  {
   "cell_type": "code",
   "execution_count": 191,
   "metadata": {},
   "outputs": [
    {
     "data": {
      "text/plain": [
       "(337935, 4)"
      ]
     },
     "execution_count": 191,
     "metadata": {},
     "output_type": "execute_result"
    }
   ],
   "source": [
    "y_train.shape"
   ]
  },
  {
   "cell_type": "code",
   "execution_count": 192,
   "metadata": {},
   "outputs": [
    {
     "data": {
      "text/plain": [
       "(84484, 4)"
      ]
     },
     "execution_count": 192,
     "metadata": {},
     "output_type": "execute_result"
    }
   ],
   "source": [
    "y_test.shape"
   ]
  },
  {
   "cell_type": "code",
   "execution_count": 193,
   "metadata": {},
   "outputs": [],
   "source": [
    "epochs = 11"
   ]
  },
  {
   "cell_type": "code",
   "execution_count": 194,
   "metadata": {},
   "outputs": [],
   "source": [
    "emb_dim = 160"
   ]
  },
  {
   "cell_type": "code",
   "execution_count": 195,
   "metadata": {},
   "outputs": [],
   "source": [
    "batch_size = 258"
   ]
  },
  {
   "cell_type": "code",
   "execution_count": null,
   "metadata": {},
   "outputs": [],
   "source": []
  },
  {
   "cell_type": "code",
   "execution_count": 196,
   "metadata": {},
   "outputs": [],
   "source": [
    "?Sequential"
   ]
  },
  {
   "cell_type": "code",
   "execution_count": 197,
   "metadata": {},
   "outputs": [],
   "source": [
    "model = Sequential()"
   ]
  },
  {
   "cell_type": "code",
   "execution_count": 198,
   "metadata": {},
   "outputs": [],
   "source": [
    "model.add(Embedding(n_most_common_words, emb_dim, input_length = X.shape[1]))"
   ]
  },
  {
   "cell_type": "markdown",
   "metadata": {},
   "source": [
    "#### An alternative way to use dropout with convolutional neural networks is to dropout entire feature maps from the convolutional layer which are then not used during pooling. This is called spatial dropout (or “SpatialDropout“). ... — Efficient Object Localization Using Convolutional Networks"
   ]
  },
  {
   "cell_type": "code",
   "execution_count": 199,
   "metadata": {},
   "outputs": [],
   "source": [
    "model.add(SpatialDropout1D(0.2))"
   ]
  },
  {
   "cell_type": "code",
   "execution_count": 200,
   "metadata": {},
   "outputs": [],
   "source": [
    "?LSTM"
   ]
  },
  {
   "cell_type": "code",
   "execution_count": 201,
   "metadata": {},
   "outputs": [],
   "source": [
    "model.add(LSTM(100, dropout=0.15, recurrent_dropout=0.15))"
   ]
  },
  {
   "cell_type": "code",
   "execution_count": 202,
   "metadata": {},
   "outputs": [],
   "source": [
    "model.add(Dense(4, activation='softmax'))"
   ]
  },
  {
   "cell_type": "code",
   "execution_count": 203,
   "metadata": {},
   "outputs": [],
   "source": [
    "model.compile(optimizer='adam', loss='categorical_crossentropy', metrics=['acc'])"
   ]
  },
  {
   "cell_type": "code",
   "execution_count": 204,
   "metadata": {},
   "outputs": [
    {
     "name": "stdout",
     "output_type": "stream",
     "text": [
      "Model: \"sequential_2\"\n",
      "_________________________________________________________________\n",
      "Layer (type)                 Output Shape              Param #   \n",
      "=================================================================\n",
      "embedding_2 (Embedding)      (None, 130, 160)          1760000   \n",
      "_________________________________________________________________\n",
      "spatial_dropout1d_2 (Spatial (None, 130, 160)          0         \n",
      "_________________________________________________________________\n",
      "lstm_2 (LSTM)                (None, 100)               104400    \n",
      "_________________________________________________________________\n",
      "dense_2 (Dense)              (None, 4)                 404       \n",
      "=================================================================\n",
      "Total params: 1,864,804\n",
      "Trainable params: 1,864,804\n",
      "Non-trainable params: 0\n",
      "_________________________________________________________________\n",
      "None\n"
     ]
    }
   ],
   "source": [
    "print(model.summary())"
   ]
  },
  {
   "cell_type": "markdown",
   "metadata": {},
   "source": [
    "#### How to load a model from an HDF5 file in Keras\n",
    "#### https://intellipaat.com/community/2962/how-to-load-a-model-from-an-hdf5-file-in-keras\n",
    "#### https://stackoverflow.com/questions/35074549/how-to-load-a-model-from-an-hdf5-file-in-keras"
   ]
  },
  {
   "cell_type": "code",
   "execution_count": 205,
   "metadata": {},
   "outputs": [],
   "source": [
    "filepath=\"weights.best.hdf5\""
   ]
  },
  {
   "cell_type": "code",
   "execution_count": 206,
   "metadata": {},
   "outputs": [],
   "source": [
    "?ModelCheckpoint"
   ]
  },
  {
   "cell_type": "code",
   "execution_count": 207,
   "metadata": {},
   "outputs": [],
   "source": [
    "checkpoint = ModelCheckpoint(filepath, monitor='val_acc', verbose=1, save_best_only=True, mode='max')"
   ]
  },
  {
   "cell_type": "code",
   "execution_count": 208,
   "metadata": {},
   "outputs": [],
   "source": [
    "callback_list = [checkpoint]"
   ]
  },
  {
   "cell_type": "code",
   "execution_count": 209,
   "metadata": {},
   "outputs": [
    {
     "name": "stderr",
     "output_type": "stream",
     "text": [
      "C:\\Users\\Mr. Jarvis\\Anaconda3\\lib\\site-packages\\tensorflow\\python\\framework\\indexed_slices.py:434: UserWarning: Converting sparse IndexedSlices to a dense Tensor of unknown shape. This may consume a large amount of memory.\n",
      "  \"Converting sparse IndexedSlices to a dense Tensor of unknown shape. \"\n"
     ]
    },
    {
     "name": "stdout",
     "output_type": "stream",
     "text": [
      "Train on 337935 samples, validate on 84484 samples\n",
      "Epoch 1/11\n",
      "337935/337935 [==============================] - 1032s 3ms/step - loss: 0.2665 - acc: 0.9029 - val_loss: 0.1802 - val_acc: 0.9367\n",
      "\n",
      "Epoch 00001: val_acc improved from -inf to 0.93667, saving model to weights.best.hdf5\n",
      "Epoch 2/11\n",
      "337935/337935 [==============================] - 1029s 3ms/step - loss: 0.1639 - acc: 0.9419 - val_loss: 0.1745 - val_acc: 0.9381\n",
      "\n",
      "Epoch 00002: val_acc improved from 0.93667 to 0.93813, saving model to weights.best.hdf5\n",
      "Epoch 3/11\n",
      "337935/337935 [==============================] - 1020s 3ms/step - loss: 0.1455 - acc: 0.9477 - val_loss: 0.1670 - val_acc: 0.9402\n",
      "\n",
      "Epoch 00003: val_acc improved from 0.93813 to 0.94019, saving model to weights.best.hdf5\n",
      "Epoch 4/11\n",
      "337935/337935 [==============================] - 1024s 3ms/step - loss: 0.1311 - acc: 0.9519 - val_loss: 0.1685 - val_acc: 0.9416\n",
      "\n",
      "Epoch 00004: val_acc improved from 0.94019 to 0.94160, saving model to weights.best.hdf5\n",
      "Epoch 5/11\n",
      "337935/337935 [==============================] - 1026s 3ms/step - loss: 0.1190 - acc: 0.9559 - val_loss: 0.1702 - val_acc: 0.9421\n",
      "\n",
      "Epoch 00005: val_acc improved from 0.94160 to 0.94210, saving model to weights.best.hdf5\n",
      "Epoch 6/11\n",
      "337935/337935 [==============================] - 1024s 3ms/step - loss: 0.1083 - acc: 0.9600 - val_loss: 0.1769 - val_acc: 0.9414\n",
      "\n",
      "Epoch 00006: val_acc did not improve from 0.94210\n",
      "Epoch 7/11\n",
      "337935/337935 [==============================] - 1025s 3ms/step - loss: 0.0980 - acc: 0.9636 - val_loss: 0.1803 - val_acc: 0.9416\n",
      "\n",
      "Epoch 00007: val_acc did not improve from 0.94210\n",
      "Epoch 8/11\n",
      "337935/337935 [==============================] - 1025s 3ms/step - loss: 0.0905 - acc: 0.9659 - val_loss: 0.1862 - val_acc: 0.9417\n",
      "\n",
      "Epoch 00008: val_acc did not improve from 0.94210\n",
      "Epoch 9/11\n",
      "337935/337935 [==============================] - 1050s 3ms/step - loss: 0.0822 - acc: 0.9691 - val_loss: 0.1994 - val_acc: 0.9419\n",
      "\n",
      "Epoch 00009: val_acc did not improve from 0.94210\n",
      "Epoch 10/11\n",
      "337935/337935 [==============================] - 1022s 3ms/step - loss: 0.0765 - acc: 0.9710 - val_loss: 0.2049 - val_acc: 0.9410\n",
      "\n",
      "Epoch 00010: val_acc did not improve from 0.94210\n",
      "Epoch 11/11\n",
      "337935/337935 [==============================] - 1026s 3ms/step - loss: 0.0702 - acc: 0.9734 - val_loss: 0.2181 - val_acc: 0.9409\n",
      "\n",
      "Epoch 00011: val_acc did not improve from 0.94210\n"
     ]
    }
   ],
   "source": [
    "history = model.fit(x_train, y_train, epochs = epochs, batch_size = batch_size, validation_data=(x_test,y_test),\n",
    "                    callbacks = callback_list)"
   ]
  },
  {
   "cell_type": "code",
   "execution_count": 244,
   "metadata": {},
   "outputs": [
    {
     "data": {
      "image/png": "[encoded data removed]",
      "text/plain": [
       "<Figure size 1440x864 with 1 Axes>"
      ]
     },
     "metadata": {},
     "output_type": "display_data"
    }
   ],
   "source": [
    "plt.figure(figsize=(20,12))\n",
    "plt.subplot()\n",
    "plt.title(\"Loss Curves\")\n",
    "plt.plot(history.history[\"loss\"], color=\"g\", label=\"Training loss\",linewidth=4)\n",
    "plt.plot(history.history[\"val_loss\"], color=\"b\", label=\"Validation loss\",linewidth=4)\n",
    "plt.legend(['Training loss : 0.0702', 'Validation Loss : 0.2181'],fontsize=18)\n",
    "plt.xlabel('Epochs ',fontsize=18)\n",
    "plt.ylabel('Loss',fontsize=18)\n",
    "plt.tight_layout()\n",
    "plt.show()"
   ]
  },
  {
   "cell_type": "code",
   "execution_count": 245,
   "metadata": {},
   "outputs": [
    {
     "data": {
      "image/png": "[encoded data removed]",
      "text/plain": [
       "<Figure size 1440x864 with 1 Axes>"
      ]
     },
     "metadata": {},
     "output_type": "display_data"
    }
   ],
   "source": [
    "plt.figure(figsize=(20,12))\n",
    "plt.plot(history.history['loss'],'g',linewidth=4)\n",
    "plt.plot(history.history['val_loss'],'b',linewidth=4)\n",
    "plt.legend(['Training loss : 0.0702', 'Validation Loss : 0.2181'],fontsize=18)\n",
    "plt.xlabel('Epochs ',fontsize=18)\n",
    "plt.ylabel('Loss',fontsize=18)\n",
    "plt.title('Loss Curves',fontsize=18)\n",
    "plt.show()"
   ]
  },
  {
   "cell_type": "code",
   "execution_count": 237,
   "metadata": {},
   "outputs": [
    {
     "data": {
      "image/png": "[encoded data removed]",
      "text/plain": [
       "<Figure size 1440x864 with 1 Axes>"
      ]
     },
     "metadata": {},
     "output_type": "display_data"
    }
   ],
   "source": [
    "plt.figure(figsize=(20,12))\n",
    "plt.subplot()\n",
    "plt.title(\"Accuracy Curves\")\n",
    "plt.plot(history.history[\"acc\"], color=\"g\", label=\"Training Accuracy\")\n",
    "plt.plot(history.history[\"val_acc\"], color=\"b\", label=\"Validation Accuracy\")\n",
    "plt.legend(loc=\"best\")\n",
    "plt.xlabel('Epochs ',fontsize=18)\n",
    "plt.ylabel('Accuracy',fontsize=18)\n",
    "plt.tight_layout()\n",
    "plt.show()"
   ]
  },
  {
   "cell_type": "code",
   "execution_count": 247,
   "metadata": {},
   "outputs": [
    {
     "data": {
      "image/png": "[encoded data removed]",
      "text/plain": [
       "<Figure size 1440x864 with 1 Axes>"
      ]
     },
     "metadata": {},
     "output_type": "display_data"
    }
   ],
   "source": [
    "plt.figure(figsize=(20,12))\n",
    "plt.subplot()\n",
    "plt.plot(history.history['acc'],'g',linewidth=4)\n",
    "plt.plot(history.history['val_acc'],'b',linewidth=4)\n",
    "plt.legend(['Training Accuracy', 'Validation Accuracy'],fontsize=15)\n",
    "plt.xlabel('Epochs ',fontsize=15)\n",
    "plt.ylabel('Accuracy',fontsize=15)\n",
    "plt.title('Accuracy Curves',fontsize=15)\n",
    "plt.tight_layout()\n",
    "plt.show()"
   ]
  },
  {
   "cell_type": "code",
   "execution_count": 249,
   "metadata": {},
   "outputs": [
    {
     "name": "stdout",
     "output_type": "stream",
     "text": [
      "** Results for LSTM Model **\n",
      "\n",
      "Accuracy score:  0.9408645423985607\n",
      "F1 score:  0.9408163837758586\n"
     ]
    }
   ],
   "source": [
    "print(\"** Results for LSTM Model **\\n\")\n",
    "predictions = model.predict_classes(x_test)\n",
    "print(\"Accuracy score: \", accuracy_score(y_test.argmax(1), predictions))\n",
    "print(\"F1 score: \", f1_score(y_test.argmax(1), predictions, average = 'weighted'))"
   ]
  },
  {
   "cell_type": "code",
   "execution_count": 254,
   "metadata": {},
   "outputs": [
    {
     "name": "stdout",
     "output_type": "stream",
     "text": [
      "** Results for LSTM Model **\n",
      "\n",
      "Accuracy score:  0.9408645423985607\n",
      "F1 score:  0.9408163837758586\n"
     ]
    }
   ],
   "source": [
    "print(\"** Results for LSTM Model **\\n\")\n",
    "predictions = model.predict_classes(x_test)\n",
    "print(\"Accuracy score: \", accuracy_score(y_test.argmax(1), predictions))\n",
    "print(\"F1 score: \", f1_score(y_test.argmax(1), predictions, average = 'weighted'))"
   ]
  },
  {
   "cell_type": "code",
   "execution_count": 256,
   "metadata": {},
   "outputs": [],
   "source": [
    "BATCH_SIZE = 32"
   ]
  },
  {
   "cell_type": "code",
   "execution_count": 257,
   "metadata": {},
   "outputs": [
    {
     "name": "stdout",
     "output_type": "stream",
     "text": [
      "Test score: 0.218, accuracy: 0.941\n"
     ]
    }
   ],
   "source": [
    "score, acc = model.evaluate(x_test, y_test, batch_size = BATCH_SIZE , verbose = 0)\n",
    "print(\"Test score: %.3f, accuracy: %.3f\" % (score,acc))"
   ]
  },
  {
   "cell_type": "code",
   "execution_count": null,
   "metadata": {},
   "outputs": [],
   "source": []
  }
 ],
 "metadata": {
  "kernelspec": {
   "display_name": "Python 3",
   "language": "python",
   "name": "python3"
  },
  "language_info": {
   "codemirror_mode": {
    "name": "ipython",
    "version": 3
   },
   "file_extension": ".py",
   "mimetype": "text/x-python",
   "name": "python",
   "nbconvert_exporter": "python",
   "pygments_lexer": "ipython3",
   "version": "3.7.4"
  }
 },
 "nbformat": 4,
 "nbformat_minor": 2
}
